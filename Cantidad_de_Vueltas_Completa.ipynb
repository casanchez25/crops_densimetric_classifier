{
  "nbformat": 4,
  "nbformat_minor": 0,
  "metadata": {
    "colab": {
      "name": "Cantidad de Vueltas Completa.ipynb",
      "provenance": [],
      "mount_file_id": "1dD1GY4_Fn3Vqq7Sbqj9AxZwKbJk9699Z",
      "authorship_tag": "ABX9TyMd8Bv4oydDhydjcNNtQvIG",
      "include_colab_link": true
    },
    "kernelspec": {
      "name": "python3",
      "display_name": "Python 3"
    },
    "language_info": {
      "name": "python"
    }
  },
  "cells": [
    {
      "cell_type": "markdown",
      "metadata": {
        "id": "view-in-github",
        "colab_type": "text"
      },
      "source": [
        "<a href=\"https://colab.research.google.com/github/casanchez25/crops_densimetric_classifier/blob/main/Cantidad_de_Vueltas_Completa.ipynb\" target=\"_parent\"><img src=\"https://colab.research.google.com/assets/colab-badge.svg\" alt=\"Open In Colab\"/></a>"
      ]
    },
    {
      "cell_type": "markdown",
      "source": [
        "# PROJECT: Crops Densimetric Classifier\n",
        "This project is related to the amount of turn arounds that crops should take in a densimetric machine in order to be approved for next processes\n",
        "\n",
        "The **columns** of this projects refers to:\n",
        "\n",
        "*   Orden: Order number\n",
        "*   Preparación: Recipe code\n",
        "\n",
        "*   Calidad: Quality related to the order number and reciepe\n",
        "*   QQs Netos: Amount of Kilograms of the order\n",
        "\n",
        "*   Línea: Machine Line\n",
        "*   Fecha: Date\n",
        "\n",
        "*   Turno: Shift (Dayshift or Nightshift)\n",
        "*   Analista: Quality Control\n",
        "\n",
        "\n",
        "*   Operador: Operator of the Densimetric Machine\n",
        "*   Hora: Hour\n",
        "\n",
        "*   \"% entrada (Trillo)\": Input Quality\n",
        "\n",
        "The next columns **should not be used**, because they would overfit the algorithm. Besides, they are Quality Control Samples.\n",
        "\n",
        "*   Def. Prim.: Imperfections in crops samples in first analysis\n",
        "\n",
        "*   Def. Dens.: Imperfections in crops samples in first analysis (second category)\n",
        "\n",
        "*   Def. Otros: Imperfections in crops samples in first analysis (other categories)\n",
        "\n",
        "*   Total Def.: Total imperfections in crops samples\n",
        "*   % de salida: Quality control in first iteration\n",
        "\n",
        "\n",
        "*   Def. Prim.: Imperfections in crops samples in second analysis\n",
        "\n",
        "\n",
        "*   Def. Dens.: Imperfections in crops samples in second analysis (second category)\n",
        "\n",
        "\n",
        "*   Def. Otros: Imperfections in crops samples in second analysis (other categories)\n",
        "\n",
        "\n",
        "*   Total Def.: Total imperfections in crops samples\n",
        "\n",
        "\n",
        "\n",
        "*   % de salida: Quality control in second iteration\n",
        "\n",
        "*   Def. Prim.: Imperfections in crops samples in third or more analysis\n",
        "*   Def. Dens.: Imperfections in crops samples in third or more analysis (second category)\n",
        "\n",
        "\n",
        "*   Def. Otros: Imperfections in crops samples in third or more analysis (other categories)\n",
        "\n",
        "\n",
        "*   Total Def.: Total imperfections in crops samples\n",
        "\n",
        "*   % de salida: Quality control in third or more iteration\n",
        "*   Observaciones\n",
        "\n",
        "\n",
        "*   Prom % de salida:\n",
        "\n",
        "*   Prom % de Pérdida\n",
        "\n",
        "**TARGET VALUE**\n",
        "\n",
        "*   Vueltas Ponderadas: Amount of turn arounds that the crops should take on the densimetric machine for an optimal selection (TARGET)"
      ],
      "metadata": {
        "id": "bEEWzMV-jXXR"
      }
    },
    {
      "cell_type": "markdown",
      "source": [
        "# Initial Setup"
      ],
      "metadata": {
        "id": "6RE5uSW-9NdJ"
      }
    },
    {
      "cell_type": "code",
      "execution_count": null,
      "metadata": {
        "id": "BQ-7fzeAkNT5"
      },
      "outputs": [],
      "source": [
        "import numpy as np\n",
        "import pandas as pd\n",
        "import matplotlib.pyplot as plt\n",
        "import seaborn as sns\n",
        "\n",
        "plt.rcParams[\"figure.figsize\"] = [25.00, 10]\n"
      ]
    },
    {
      "cell_type": "code",
      "source": [
        "data_path = '/content/drive/MyDrive/db/M_C_P_DATA.xlsx'\n",
        "df= pd.read_excel(data_path, sheet_name='Densimetrica')"
      ],
      "metadata": {
        "id": "Uo1ck5R6k0gO"
      },
      "execution_count": null,
      "outputs": []
    },
    {
      "cell_type": "markdown",
      "source": [
        "# Exploratory Data Analysis"
      ],
      "metadata": {
        "id": "MKY7HIay9Rft"
      }
    },
    {
      "cell_type": "markdown",
      "source": [
        "First of all, we are going to verify the dataset"
      ],
      "metadata": {
        "id": "70fofCWnOL6q"
      }
    },
    {
      "cell_type": "code",
      "source": [
        "df.head(5)"
      ],
      "metadata": {
        "colab": {
          "base_uri": "https://localhost:8080/",
          "height": 670
        },
        "id": "5sSPL_OUIEu3",
        "outputId": "39b5c5ab-9656-4def-f1d5-0d6f9f42003a"
      },
      "execution_count": null,
      "outputs": [
        {
          "output_type": "execute_result",
          "data": {
            "text/plain": [
              "          Orden Preparación    Calidad   QQs Netos    Línea      Fecha  \\\n",
              "0       X Z 1/2     Love 16  Lift Leve      973.54  Línea 2 2020-10-05   \n",
              "1       X Z 1/2     Love 16  Lift Leve      973.54  Línea 2 2020-10-06   \n",
              "2       X Z 1/2     Love 16  Lift Leve      973.54  Línea 2 2020-10-06   \n",
              "3       X Z 1/2     Love 16  Lift Leve      973.54  Línea 2 2020-10-06   \n",
              "4       X Z 1/2     Love 16  Lift Leve      973.54  Línea 2 2020-10-07   \n",
              "...         ...         ...        ...         ...      ...        ...   \n",
              "2344  X Z 1/501  Wagon Type      Lift       428.65  Línea 2 2021-08-28   \n",
              "2345  X Z 1/502  Wagon Type    DamLeve      834.91  Línea 2 2021-08-28   \n",
              "2346  X Z 1/502  Wagon Type    DamLeve      834.91  Línea 2 2021-08-28   \n",
              "2347  X Z 1/502  Wagon Type      Lift       834.91  Línea 2 2021-08-30   \n",
              "2348        NaN         NaN        NaN  4632400.04      NaN        NaT   \n",
              "\n",
              "        Turno Analista    Operador      Hora  ...  % de salida.1  \\\n",
              "0     Turno 1  Juan S.     Michael  15:30:00  ...         0.0420   \n",
              "1     Turno 1  Juan S.     Michael  07:00:00  ...         0.0450   \n",
              "2     Turno 1  Juan S.     Michael  10:00:00  ...         0.0410   \n",
              "3     Turno 1  Juan S.     Michael  12:00:00  ...         0.0370   \n",
              "4     Turno 1  Juan S.     Michael  09:00:00  ...         0.0440   \n",
              "...       ...      ...         ...       ...  ...            ...   \n",
              "2344  Turno 1  Juan S.  Michaell F  07:00:00  ...         0.0470   \n",
              "2345  Turno 1  Juan S.  Michaell F  11:30:00  ...         0.0320   \n",
              "2346  Turno 1  Juan S.  Michaell F  13:30:00  ...         0.0346   \n",
              "2347  Turno 1  Juan S.  Michaell F  07:00:00  ...         0.0560   \n",
              "2348      NaN      NaN         NaN       NaN  ...            NaN   \n",
              "\n",
              "      Def. Prim..2 Def. Dens..2  Def. Otros.2  Total Def..2  % de salida.2  \\\n",
              "0             66.0          0.0          23.4          89.4         0.0870   \n",
              "1             72.0          2.6          39.0         113.6         0.1610   \n",
              "2             36.0          0.0          27.4          63.4         0.1140   \n",
              "3             72.0          0.8          41.2         114.0         0.1660   \n",
              "4             72.0          0.6          24.4          97.0         0.0712   \n",
              "...            ...          ...           ...           ...            ...   \n",
              "2344          36.0          3.6          57.0          96.6         0.1860   \n",
              "2345          21.0          0.0          30.0          51.0         0.1100   \n",
              "2346           9.0          0.0          25.2          34.2         0.0870   \n",
              "2347          21.0          0.6          19.0          40.6         0.0710   \n",
              "2348           NaN          NaN           NaN           NaN            NaN   \n",
              "\n",
              "      Observaciones Prom % de salida  Prom % de Pérdida  Vueltas Ponderadas  \n",
              "0               NaN         0.049100           0.195082            7.512796  \n",
              "1               NaN         0.053740           0.104333            7.512796  \n",
              "2               NaN         0.047650           0.192373            7.512796  \n",
              "3               NaN         0.064200           0.132432            7.512796  \n",
              "4               NaN         0.044120           0.455309            7.512796  \n",
              "...             ...              ...                ...                 ...  \n",
              "2344            NaN         0.055700           0.519828            3.000000  \n",
              "2345            NaN         0.038890           0.488289            2.000000  \n",
              "2346            NaN         0.033340           0.453443            2.000000  \n",
              "2347            NaN         0.042745           0.371397            2.000000  \n",
              "2348            NaN              NaN                NaN                 NaN  \n",
              "\n",
              "[2349 rows x 30 columns]"
            ],
            "text/html": [
              "\n",
              "  <div id=\"df-8e3c8c6b-1353-46f6-a723-429f702b9064\">\n",
              "    <div class=\"colab-df-container\">\n",
              "      <div>\n",
              "<style scoped>\n",
              "    .dataframe tbody tr th:only-of-type {\n",
              "        vertical-align: middle;\n",
              "    }\n",
              "\n",
              "    .dataframe tbody tr th {\n",
              "        vertical-align: top;\n",
              "    }\n",
              "\n",
              "    .dataframe thead th {\n",
              "        text-align: right;\n",
              "    }\n",
              "</style>\n",
              "<table border=\"1\" class=\"dataframe\">\n",
              "  <thead>\n",
              "    <tr style=\"text-align: right;\">\n",
              "      <th></th>\n",
              "      <th>Orden</th>\n",
              "      <th>Preparación</th>\n",
              "      <th>Calidad</th>\n",
              "      <th>QQs Netos</th>\n",
              "      <th>Línea</th>\n",
              "      <th>Fecha</th>\n",
              "      <th>Turno</th>\n",
              "      <th>Analista</th>\n",
              "      <th>Operador</th>\n",
              "      <th>Hora</th>\n",
              "      <th>...</th>\n",
              "      <th>% de salida.1</th>\n",
              "      <th>Def. Prim..2</th>\n",
              "      <th>Def. Dens..2</th>\n",
              "      <th>Def. Otros.2</th>\n",
              "      <th>Total Def..2</th>\n",
              "      <th>% de salida.2</th>\n",
              "      <th>Observaciones</th>\n",
              "      <th>Prom % de salida</th>\n",
              "      <th>Prom % de Pérdida</th>\n",
              "      <th>Vueltas Ponderadas</th>\n",
              "    </tr>\n",
              "  </thead>\n",
              "  <tbody>\n",
              "    <tr>\n",
              "      <th>0</th>\n",
              "      <td>X Z 1/2</td>\n",
              "      <td>Love 16</td>\n",
              "      <td>Lift Leve</td>\n",
              "      <td>973.54</td>\n",
              "      <td>Línea 2</td>\n",
              "      <td>2020-10-05</td>\n",
              "      <td>Turno 1</td>\n",
              "      <td>Juan S.</td>\n",
              "      <td>Michael</td>\n",
              "      <td>15:30:00</td>\n",
              "      <td>...</td>\n",
              "      <td>0.0420</td>\n",
              "      <td>66.0</td>\n",
              "      <td>0.0</td>\n",
              "      <td>23.4</td>\n",
              "      <td>89.4</td>\n",
              "      <td>0.0870</td>\n",
              "      <td>NaN</td>\n",
              "      <td>0.049100</td>\n",
              "      <td>0.195082</td>\n",
              "      <td>7.512796</td>\n",
              "    </tr>\n",
              "    <tr>\n",
              "      <th>1</th>\n",
              "      <td>X Z 1/2</td>\n",
              "      <td>Love 16</td>\n",
              "      <td>Lift Leve</td>\n",
              "      <td>973.54</td>\n",
              "      <td>Línea 2</td>\n",
              "      <td>2020-10-06</td>\n",
              "      <td>Turno 1</td>\n",
              "      <td>Juan S.</td>\n",
              "      <td>Michael</td>\n",
              "      <td>07:00:00</td>\n",
              "      <td>...</td>\n",
              "      <td>0.0450</td>\n",
              "      <td>72.0</td>\n",
              "      <td>2.6</td>\n",
              "      <td>39.0</td>\n",
              "      <td>113.6</td>\n",
              "      <td>0.1610</td>\n",
              "      <td>NaN</td>\n",
              "      <td>0.053740</td>\n",
              "      <td>0.104333</td>\n",
              "      <td>7.512796</td>\n",
              "    </tr>\n",
              "    <tr>\n",
              "      <th>2</th>\n",
              "      <td>X Z 1/2</td>\n",
              "      <td>Love 16</td>\n",
              "      <td>Lift Leve</td>\n",
              "      <td>973.54</td>\n",
              "      <td>Línea 2</td>\n",
              "      <td>2020-10-06</td>\n",
              "      <td>Turno 1</td>\n",
              "      <td>Juan S.</td>\n",
              "      <td>Michael</td>\n",
              "      <td>10:00:00</td>\n",
              "      <td>...</td>\n",
              "      <td>0.0410</td>\n",
              "      <td>36.0</td>\n",
              "      <td>0.0</td>\n",
              "      <td>27.4</td>\n",
              "      <td>63.4</td>\n",
              "      <td>0.1140</td>\n",
              "      <td>NaN</td>\n",
              "      <td>0.047650</td>\n",
              "      <td>0.192373</td>\n",
              "      <td>7.512796</td>\n",
              "    </tr>\n",
              "    <tr>\n",
              "      <th>3</th>\n",
              "      <td>X Z 1/2</td>\n",
              "      <td>Love 16</td>\n",
              "      <td>Lift Leve</td>\n",
              "      <td>973.54</td>\n",
              "      <td>Línea 2</td>\n",
              "      <td>2020-10-06</td>\n",
              "      <td>Turno 1</td>\n",
              "      <td>Juan S.</td>\n",
              "      <td>Michael</td>\n",
              "      <td>12:00:00</td>\n",
              "      <td>...</td>\n",
              "      <td>0.0370</td>\n",
              "      <td>72.0</td>\n",
              "      <td>0.8</td>\n",
              "      <td>41.2</td>\n",
              "      <td>114.0</td>\n",
              "      <td>0.1660</td>\n",
              "      <td>NaN</td>\n",
              "      <td>0.064200</td>\n",
              "      <td>0.132432</td>\n",
              "      <td>7.512796</td>\n",
              "    </tr>\n",
              "    <tr>\n",
              "      <th>4</th>\n",
              "      <td>X Z 1/2</td>\n",
              "      <td>Love 16</td>\n",
              "      <td>Lift Leve</td>\n",
              "      <td>973.54</td>\n",
              "      <td>Línea 2</td>\n",
              "      <td>2020-10-07</td>\n",
              "      <td>Turno 1</td>\n",
              "      <td>Juan S.</td>\n",
              "      <td>Michael</td>\n",
              "      <td>09:00:00</td>\n",
              "      <td>...</td>\n",
              "      <td>0.0440</td>\n",
              "      <td>72.0</td>\n",
              "      <td>0.6</td>\n",
              "      <td>24.4</td>\n",
              "      <td>97.0</td>\n",
              "      <td>0.0712</td>\n",
              "      <td>NaN</td>\n",
              "      <td>0.044120</td>\n",
              "      <td>0.455309</td>\n",
              "      <td>7.512796</td>\n",
              "    </tr>\n",
              "    <tr>\n",
              "      <th>...</th>\n",
              "      <td>...</td>\n",
              "      <td>...</td>\n",
              "      <td>...</td>\n",
              "      <td>...</td>\n",
              "      <td>...</td>\n",
              "      <td>...</td>\n",
              "      <td>...</td>\n",
              "      <td>...</td>\n",
              "      <td>...</td>\n",
              "      <td>...</td>\n",
              "      <td>...</td>\n",
              "      <td>...</td>\n",
              "      <td>...</td>\n",
              "      <td>...</td>\n",
              "      <td>...</td>\n",
              "      <td>...</td>\n",
              "      <td>...</td>\n",
              "      <td>...</td>\n",
              "      <td>...</td>\n",
              "      <td>...</td>\n",
              "      <td>...</td>\n",
              "    </tr>\n",
              "    <tr>\n",
              "      <th>2344</th>\n",
              "      <td>X Z 1/501</td>\n",
              "      <td>Wagon Type</td>\n",
              "      <td>Lift</td>\n",
              "      <td>428.65</td>\n",
              "      <td>Línea 2</td>\n",
              "      <td>2021-08-28</td>\n",
              "      <td>Turno 1</td>\n",
              "      <td>Juan S.</td>\n",
              "      <td>Michaell F</td>\n",
              "      <td>07:00:00</td>\n",
              "      <td>...</td>\n",
              "      <td>0.0470</td>\n",
              "      <td>36.0</td>\n",
              "      <td>3.6</td>\n",
              "      <td>57.0</td>\n",
              "      <td>96.6</td>\n",
              "      <td>0.1860</td>\n",
              "      <td>NaN</td>\n",
              "      <td>0.055700</td>\n",
              "      <td>0.519828</td>\n",
              "      <td>3.000000</td>\n",
              "    </tr>\n",
              "    <tr>\n",
              "      <th>2345</th>\n",
              "      <td>X Z 1/502</td>\n",
              "      <td>Wagon Type</td>\n",
              "      <td>DamLeve</td>\n",
              "      <td>834.91</td>\n",
              "      <td>Línea 2</td>\n",
              "      <td>2021-08-28</td>\n",
              "      <td>Turno 1</td>\n",
              "      <td>Juan S.</td>\n",
              "      <td>Michaell F</td>\n",
              "      <td>11:30:00</td>\n",
              "      <td>...</td>\n",
              "      <td>0.0320</td>\n",
              "      <td>21.0</td>\n",
              "      <td>0.0</td>\n",
              "      <td>30.0</td>\n",
              "      <td>51.0</td>\n",
              "      <td>0.1100</td>\n",
              "      <td>NaN</td>\n",
              "      <td>0.038890</td>\n",
              "      <td>0.488289</td>\n",
              "      <td>2.000000</td>\n",
              "    </tr>\n",
              "    <tr>\n",
              "      <th>2346</th>\n",
              "      <td>X Z 1/502</td>\n",
              "      <td>Wagon Type</td>\n",
              "      <td>DamLeve</td>\n",
              "      <td>834.91</td>\n",
              "      <td>Línea 2</td>\n",
              "      <td>2021-08-28</td>\n",
              "      <td>Turno 1</td>\n",
              "      <td>Juan S.</td>\n",
              "      <td>Michaell F</td>\n",
              "      <td>13:30:00</td>\n",
              "      <td>...</td>\n",
              "      <td>0.0346</td>\n",
              "      <td>9.0</td>\n",
              "      <td>0.0</td>\n",
              "      <td>25.2</td>\n",
              "      <td>34.2</td>\n",
              "      <td>0.0870</td>\n",
              "      <td>NaN</td>\n",
              "      <td>0.033340</td>\n",
              "      <td>0.453443</td>\n",
              "      <td>2.000000</td>\n",
              "    </tr>\n",
              "    <tr>\n",
              "      <th>2347</th>\n",
              "      <td>X Z 1/502</td>\n",
              "      <td>Wagon Type</td>\n",
              "      <td>Lift</td>\n",
              "      <td>834.91</td>\n",
              "      <td>Línea 2</td>\n",
              "      <td>2021-08-30</td>\n",
              "      <td>Turno 1</td>\n",
              "      <td>Juan S.</td>\n",
              "      <td>Michaell F</td>\n",
              "      <td>07:00:00</td>\n",
              "      <td>...</td>\n",
              "      <td>0.0560</td>\n",
              "      <td>21.0</td>\n",
              "      <td>0.6</td>\n",
              "      <td>19.0</td>\n",
              "      <td>40.6</td>\n",
              "      <td>0.0710</td>\n",
              "      <td>NaN</td>\n",
              "      <td>0.042745</td>\n",
              "      <td>0.371397</td>\n",
              "      <td>2.000000</td>\n",
              "    </tr>\n",
              "    <tr>\n",
              "      <th>2348</th>\n",
              "      <td>NaN</td>\n",
              "      <td>NaN</td>\n",
              "      <td>NaN</td>\n",
              "      <td>4632400.04</td>\n",
              "      <td>NaN</td>\n",
              "      <td>NaT</td>\n",
              "      <td>NaN</td>\n",
              "      <td>NaN</td>\n",
              "      <td>NaN</td>\n",
              "      <td>NaN</td>\n",
              "      <td>...</td>\n",
              "      <td>NaN</td>\n",
              "      <td>NaN</td>\n",
              "      <td>NaN</td>\n",
              "      <td>NaN</td>\n",
              "      <td>NaN</td>\n",
              "      <td>NaN</td>\n",
              "      <td>NaN</td>\n",
              "      <td>NaN</td>\n",
              "      <td>NaN</td>\n",
              "      <td>NaN</td>\n",
              "    </tr>\n",
              "  </tbody>\n",
              "</table>\n",
              "<p>2349 rows × 30 columns</p>\n",
              "</div>\n",
              "      <button class=\"colab-df-convert\" onclick=\"convertToInteractive('df-8e3c8c6b-1353-46f6-a723-429f702b9064')\"\n",
              "              title=\"Convert this dataframe to an interactive table.\"\n",
              "              style=\"display:none;\">\n",
              "        \n",
              "  <svg xmlns=\"http://www.w3.org/2000/svg\" height=\"24px\"viewBox=\"0 0 24 24\"\n",
              "       width=\"24px\">\n",
              "    <path d=\"M0 0h24v24H0V0z\" fill=\"none\"/>\n",
              "    <path d=\"M18.56 5.44l.94 2.06.94-2.06 2.06-.94-2.06-.94-.94-2.06-.94 2.06-2.06.94zm-11 1L8.5 8.5l.94-2.06 2.06-.94-2.06-.94L8.5 2.5l-.94 2.06-2.06.94zm10 10l.94 2.06.94-2.06 2.06-.94-2.06-.94-.94-2.06-.94 2.06-2.06.94z\"/><path d=\"M17.41 7.96l-1.37-1.37c-.4-.4-.92-.59-1.43-.59-.52 0-1.04.2-1.43.59L10.3 9.45l-7.72 7.72c-.78.78-.78 2.05 0 2.83L4 21.41c.39.39.9.59 1.41.59.51 0 1.02-.2 1.41-.59l7.78-7.78 2.81-2.81c.8-.78.8-2.07 0-2.86zM5.41 20L4 18.59l7.72-7.72 1.47 1.35L5.41 20z\"/>\n",
              "  </svg>\n",
              "      </button>\n",
              "      \n",
              "  <style>\n",
              "    .colab-df-container {\n",
              "      display:flex;\n",
              "      flex-wrap:wrap;\n",
              "      gap: 12px;\n",
              "    }\n",
              "\n",
              "    .colab-df-convert {\n",
              "      background-color: #E8F0FE;\n",
              "      border: none;\n",
              "      border-radius: 50%;\n",
              "      cursor: pointer;\n",
              "      display: none;\n",
              "      fill: #1967D2;\n",
              "      height: 32px;\n",
              "      padding: 0 0 0 0;\n",
              "      width: 32px;\n",
              "    }\n",
              "\n",
              "    .colab-df-convert:hover {\n",
              "      background-color: #E2EBFA;\n",
              "      box-shadow: 0px 1px 2px rgba(60, 64, 67, 0.3), 0px 1px 3px 1px rgba(60, 64, 67, 0.15);\n",
              "      fill: #174EA6;\n",
              "    }\n",
              "\n",
              "    [theme=dark] .colab-df-convert {\n",
              "      background-color: #3B4455;\n",
              "      fill: #D2E3FC;\n",
              "    }\n",
              "\n",
              "    [theme=dark] .colab-df-convert:hover {\n",
              "      background-color: #434B5C;\n",
              "      box-shadow: 0px 1px 3px 1px rgba(0, 0, 0, 0.15);\n",
              "      filter: drop-shadow(0px 1px 2px rgba(0, 0, 0, 0.3));\n",
              "      fill: #FFFFFF;\n",
              "    }\n",
              "  </style>\n",
              "\n",
              "      <script>\n",
              "        const buttonEl =\n",
              "          document.querySelector('#df-8e3c8c6b-1353-46f6-a723-429f702b9064 button.colab-df-convert');\n",
              "        buttonEl.style.display =\n",
              "          google.colab.kernel.accessAllowed ? 'block' : 'none';\n",
              "\n",
              "        async function convertToInteractive(key) {\n",
              "          const element = document.querySelector('#df-8e3c8c6b-1353-46f6-a723-429f702b9064');\n",
              "          const dataTable =\n",
              "            await google.colab.kernel.invokeFunction('convertToInteractive',\n",
              "                                                     [key], {});\n",
              "          if (!dataTable) return;\n",
              "\n",
              "          const docLinkHtml = 'Like what you see? Visit the ' +\n",
              "            '<a target=\"_blank\" href=https://colab.research.google.com/notebooks/data_table.ipynb>data table notebook</a>'\n",
              "            + ' to learn more about interactive tables.';\n",
              "          element.innerHTML = '';\n",
              "          dataTable['output_type'] = 'display_data';\n",
              "          await google.colab.output.renderOutput(dataTable, element);\n",
              "          const docLink = document.createElement('div');\n",
              "          docLink.innerHTML = docLinkHtml;\n",
              "          element.appendChild(docLink);\n",
              "        }\n",
              "      </script>\n",
              "    </div>\n",
              "  </div>\n",
              "  "
            ]
          },
          "metadata": {},
          "execution_count": 97
        }
      ]
    },
    {
      "cell_type": "code",
      "source": [
        "df.isnull().sum()"
      ],
      "metadata": {
        "colab": {
          "base_uri": "https://localhost:8080/"
        },
        "id": "bCNRoaEsIGuB",
        "outputId": "63947761-e385-49c0-c2df-34b568ca8692"
      },
      "execution_count": null,
      "outputs": [
        {
          "output_type": "execute_result",
          "data": {
            "text/plain": [
              "Orden                     1\n",
              "Preparación               1\n",
              "Calidad                   1\n",
              "QQs Netos                 0\n",
              "Línea                     1\n",
              "Fecha                     1\n",
              "Turno                     1\n",
              "Analista                  1\n",
              "Operador                  1\n",
              "Hora                      1\n",
              "% entrada\\n(Trillo)       1\n",
              "Def. Prim.                1\n",
              "Def. Dens.                1\n",
              "Def. Otros                1\n",
              "Total Def.                1\n",
              "% de salida               1\n",
              "Def. Prim..1              1\n",
              "Def. Dens..1              1\n",
              "Def. Otros.1              1\n",
              "Total Def..1              1\n",
              "% de salida.1             1\n",
              "Def. Prim..2              1\n",
              "Def. Dens..2              1\n",
              "Def. Otros.2              1\n",
              "Total Def..2              1\n",
              "% de salida.2             1\n",
              "Observaciones          2342\n",
              "Prom % de salida          1\n",
              "Prom % de Pérdida         1\n",
              "Vueltas Ponderadas        1\n",
              "dtype: int64"
            ]
          },
          "metadata": {},
          "execution_count": 98
        }
      ]
    },
    {
      "cell_type": "markdown",
      "source": [
        "Observaciones columns is used for writing comments about the operation, so we can dissmiss it"
      ],
      "metadata": {
        "id": "0Y5ar6c2IJ_4"
      }
    },
    {
      "cell_type": "code",
      "source": [
        "df.drop(columns=['Observaciones'], inplace=True)\n",
        "df.dropna(inplace=True) #Comentarios"
      ],
      "metadata": {
        "id": "NqbUZa00l1_k"
      },
      "execution_count": null,
      "outputs": []
    },
    {
      "cell_type": "code",
      "source": [
        "df.nunique()"
      ],
      "metadata": {
        "colab": {
          "base_uri": "https://localhost:8080/"
        },
        "id": "C62_svK7mSyv",
        "outputId": "bf7291f3-1076-4e24-984b-f33133891fcf"
      },
      "execution_count": null,
      "outputs": [
        {
          "output_type": "execute_result",
          "data": {
            "text/plain": [
              "Orden                   485\n",
              "Preparación              25\n",
              "Calidad                  31\n",
              "QQs Netos               509\n",
              "Línea                     3\n",
              "Fecha                   228\n",
              "Turno                     4\n",
              "Analista                 11\n",
              "Operador                 17\n",
              "Hora                     76\n",
              "% entrada\\n(Trillo)     214\n",
              "Def. Prim.               54\n",
              "Def. Dens.               42\n",
              "Def. Otros              136\n",
              "Total Def.              335\n",
              "% de salida             363\n",
              "Def. Prim..1             65\n",
              "Def. Dens..1             41\n",
              "Def. Otros.1            160\n",
              "Total Def..1            371\n",
              "% de salida.1           388\n",
              "Def. Prim..2            124\n",
              "Def. Dens..2             62\n",
              "Def. Otros.2            315\n",
              "Total Def..2            682\n",
              "% de salida.2           654\n",
              "Prom % de salida       2026\n",
              "Prom % de Pérdida      2296\n",
              "Vueltas Ponderadas      355\n",
              "dtype: int64"
            ]
          },
          "metadata": {},
          "execution_count": 100
        }
      ]
    },
    {
      "cell_type": "markdown",
      "source": [
        "We can verify the distribution of the Vueltas Ponderadas (amount of cleaning turns) vs Preparacion (Reciepe) and the shift (Night Shift, Day Shift)\n"
      ],
      "metadata": {
        "id": "Waw6C8M9Lrt2"
      }
    },
    {
      "cell_type": "code",
      "source": [
        "sns.barplot(data=df, x='Preparación', y='Vueltas Ponderadas', hue='Turno')\n",
        "plt.xticks(rotation=90)\n",
        "plt.show()"
      ],
      "metadata": {
        "colab": {
          "base_uri": "https://localhost:8080/",
          "height": 595
        },
        "id": "unhdonw0mgoJ",
        "outputId": "aa403adb-0f54-488f-baf3-87b80b012bb6"
      },
      "execution_count": null,
      "outputs": [
        {
          "output_type": "display_data",
          "data": {
            "text/plain": [
              "<Figure size 1800x720 with 1 Axes>"
            ],
            "image/png": "[encoded data removed]"
          },
          "metadata": {
            "needs_background": "light"
          }
        }
      ]
    },
    {
      "cell_type": "markdown",
      "source": [
        "This means that the variables have a similar distribution by category. Now, we are going to verify if there is a differences between the Operators, recipes and shifts (Night Shift, Dayshift)"
      ],
      "metadata": {
        "id": "AjGoJ6nQOmXJ"
      }
    },
    {
      "cell_type": "code",
      "source": [
        "sns.barplot(data=df, x='Operador', y='Vueltas Ponderadas', hue='Turno')\n",
        "plt.xticks(rotation=90)\n",
        "plt.show()"
      ],
      "metadata": {
        "colab": {
          "base_uri": "https://localhost:8080/",
          "height": 594
        },
        "id": "bGPeBsCjMJ2f",
        "outputId": "9b70731f-505e-4dc0-c314-b645fe898709"
      },
      "execution_count": null,
      "outputs": [
        {
          "output_type": "display_data",
          "data": {
            "text/plain": [
              "<Figure size 1800x720 with 1 Axes>"
            ],
            "image/png": "[encoded data removed]"
          },
          "metadata": {
            "needs_background": "light"
          }
        }
      ]
    },
    {
      "cell_type": "markdown",
      "source": [
        "Certainly, the distribution of the Operators are similar. Now, we will verify the relationship between input and the output"
      ],
      "metadata": {
        "id": "GuXVu_psXBsA"
      }
    },
    {
      "cell_type": "code",
      "source": [
        "sns.jointplot(data=df, x='% entrada\\n(Trillo)', y='Vueltas Ponderadas',\n",
        "                  #truncate=False,\n",
        "                  xlim=(0, 1), ylim=(0, 25),\n",
        "                  height=7, #kind='reg'\n",
        "              )"
      ],
      "metadata": {
        "colab": {
          "base_uri": "https://localhost:8080/",
          "height": 530
        },
        "id": "lnVTcXhgMlQu",
        "outputId": "90128ec9-de57-41a6-c4fd-42083cb1f219"
      },
      "execution_count": null,
      "outputs": [
        {
          "output_type": "execute_result",
          "data": {
            "text/plain": [
              "<seaborn.axisgrid.JointGrid at 0x7f1c33a73dd0>"
            ]
          },
          "metadata": {},
          "execution_count": 103
        },
        {
          "output_type": "display_data",
          "data": {
            "text/plain": [
              "<Figure size 504x504 with 3 Axes>"
            ],
            "image/png": "[encoded data removed]"
          },
          "metadata": {
            "needs_background": "light"
          }
        }
      ]
    },
    {
      "cell_type": "markdown",
      "source": [
        "It seems to be a normal distribution in the input and also in the output"
      ],
      "metadata": {
        "id": "VxYjqM8vPaUY"
      }
    },
    {
      "cell_type": "markdown",
      "source": [
        "## Reordering the Dataframe\n",
        "Remember that some columns refers to Quality Control analysis. Those columns would not be useful for our model, because the would overfit it.\n"
      ],
      "metadata": {
        "id": "NBiAQS4ZckvU"
      }
    },
    {
      "cell_type": "code",
      "source": [
        "columns = df.columns.to_list()\n",
        "columns[0:11]"
      ],
      "metadata": {
        "colab": {
          "base_uri": "https://localhost:8080/"
        },
        "id": "daPUeeVCm_YV",
        "outputId": "d6966a66-9885-4e58-a6c1-f2a2e19c0310"
      },
      "execution_count": null,
      "outputs": [
        {
          "output_type": "execute_result",
          "data": {
            "text/plain": [
              "['Orden',\n",
              " 'Preparación',\n",
              " 'Calidad',\n",
              " 'QQs Netos',\n",
              " 'Línea',\n",
              " 'Fecha',\n",
              " 'Turno',\n",
              " 'Analista',\n",
              " 'Operador',\n",
              " 'Hora',\n",
              " '% entrada\\n(Trillo)']"
            ]
          },
          "metadata": {},
          "execution_count": 105
        }
      ]
    },
    {
      "cell_type": "code",
      "source": [
        "columns[0:11]"
      ],
      "metadata": {
        "colab": {
          "base_uri": "https://localhost:8080/"
        },
        "id": "vJ07l6CWn42I",
        "outputId": "66b02672-7c80-4d03-8c0d-37b681370231"
      },
      "execution_count": null,
      "outputs": [
        {
          "output_type": "execute_result",
          "data": {
            "text/plain": [
              "['Orden',\n",
              " 'Preparación',\n",
              " 'Calidad',\n",
              " 'QQs Netos',\n",
              " 'Línea',\n",
              " 'Fecha',\n",
              " 'Turno',\n",
              " 'Analista',\n",
              " 'Operador',\n",
              " 'Hora',\n",
              " '% entrada\\n(Trillo)']"
            ]
          },
          "metadata": {},
          "execution_count": 106
        }
      ]
    },
    {
      "cell_type": "code",
      "source": [
        "df1=df[columns[0:11]+['Vueltas Ponderadas']]\n",
        "df1.drop(columns=['Orden'], inplace=True)"
      ],
      "metadata": {
        "id": "8HgBdQI_sE5y",
        "colab": {
          "base_uri": "https://localhost:8080/"
        },
        "outputId": "0c5b6841-6168-4a3a-c784-852a0130b9df"
      },
      "execution_count": null,
      "outputs": [
        {
          "output_type": "stream",
          "name": "stderr",
          "text": [
            "/usr/local/lib/python3.7/dist-packages/pandas/core/frame.py:4913: SettingWithCopyWarning: \n",
            "A value is trying to be set on a copy of a slice from a DataFrame\n",
            "\n",
            "See the caveats in the documentation: https://pandas.pydata.org/pandas-docs/stable/user_guide/indexing.html#returning-a-view-versus-a-copy\n",
            "  errors=errors,\n"
          ]
        }
      ]
    },
    {
      "cell_type": "code",
      "source": [
        "df1.rename(columns={'% entrada\\n(Trillo)':'%entrada'}, inplace=True)"
      ],
      "metadata": {
        "colab": {
          "base_uri": "https://localhost:8080/"
        },
        "id": "7U_GOPVgsVA3",
        "outputId": "fa4da280-3e7d-41b1-cd42-4f4d66d6275d"
      },
      "execution_count": null,
      "outputs": [
        {
          "output_type": "stream",
          "name": "stderr",
          "text": [
            "/usr/local/lib/python3.7/dist-packages/pandas/core/frame.py:5047: SettingWithCopyWarning: \n",
            "A value is trying to be set on a copy of a slice from a DataFrame\n",
            "\n",
            "See the caveats in the documentation: https://pandas.pydata.org/pandas-docs/stable/user_guide/indexing.html#returning-a-view-versus-a-copy\n",
            "  errors=errors,\n"
          ]
        }
      ]
    },
    {
      "cell_type": "markdown",
      "source": [
        "## Adding Date & Time values. \n",
        "At the beginning we thought that the hour could be an useful feature. However, it did not made any difference, so we are going to drop it from the dataset. "
      ],
      "metadata": {
        "id": "YzyEkHhEssDI"
      }
    },
    {
      "cell_type": "code",
      "source": [
        "#df1['Hora']=df1['Hora'].astype(str)\n",
        "#df1['H']=df1['Hora'].astype(str).apply(lambda x: x.split(':')[0])\n",
        "#df1['minutes']=df1['Hora'].astype(str).apply(lambda x: x.split(':')[1])\n",
        "df1.drop(columns=['Hora'], inplace=True)"
      ],
      "metadata": {
        "colab": {
          "base_uri": "https://localhost:8080/"
        },
        "id": "xV0QMxcMtXb3",
        "outputId": "b7c4a7c8-425b-42f1-a078-c62b08fe4d48"
      },
      "execution_count": null,
      "outputs": [
        {
          "output_type": "stream",
          "name": "stderr",
          "text": [
            "/usr/local/lib/python3.7/dist-packages/pandas/core/frame.py:4913: SettingWithCopyWarning: \n",
            "A value is trying to be set on a copy of a slice from a DataFrame\n",
            "\n",
            "See the caveats in the documentation: https://pandas.pydata.org/pandas-docs/stable/user_guide/indexing.html#returning-a-view-versus-a-copy\n",
            "  errors=errors,\n"
          ]
        }
      ]
    },
    {
      "cell_type": "code",
      "source": [
        "def date_feats(df1):\n",
        "  df1['month']=df1['Fecha'].dt.month\n",
        "  df1['year']=df1['Fecha'].dt.year\n",
        "  df1['day']=df1['Fecha'].dt.day\n",
        "  df1['week']=df1['Fecha'].dt.week\n",
        "  df1['weekday']=df1['Fecha'].dt.dayofweek\n",
        "  df1['yearday']=df1['Fecha'].dt.dayofyear\n",
        "  df1['quarter']=df1['Fecha'].dt.quarter\n",
        "  df1['start_month']=df1['Fecha'].dt.is_month_start\n",
        "  df1['end_month']=df1['Fecha'].dt.is_month_end\n",
        "  df1['start_month']=df1['start_month'].apply(lambda x: 1 if True else 0)\n",
        "  df1['end_month']=df1['end_month'].apply(lambda x: 1 if True else 0)\n",
        "  df1.drop(columns=['Fecha'], inplace=True)\n",
        "  return df1"
      ],
      "metadata": {
        "id": "S2cQi96HwcMb"
      },
      "execution_count": null,
      "outputs": []
    },
    {
      "cell_type": "code",
      "source": [
        "df1= date_feats(df1)"
      ],
      "metadata": {
        "colab": {
          "base_uri": "https://localhost:8080/"
        },
        "id": "RuYCJU6Swt8A",
        "outputId": "7ed7c6dc-d996-4062-d761-5f659005e169"
      },
      "execution_count": null,
      "outputs": [
        {
          "output_type": "stream",
          "name": "stderr",
          "text": [
            "/usr/local/lib/python3.7/dist-packages/ipykernel_launcher.py:2: SettingWithCopyWarning: \n",
            "A value is trying to be set on a copy of a slice from a DataFrame.\n",
            "Try using .loc[row_indexer,col_indexer] = value instead\n",
            "\n",
            "See the caveats in the documentation: https://pandas.pydata.org/pandas-docs/stable/user_guide/indexing.html#returning-a-view-versus-a-copy\n",
            "  \n",
            "/usr/local/lib/python3.7/dist-packages/ipykernel_launcher.py:3: SettingWithCopyWarning: \n",
            "A value is trying to be set on a copy of a slice from a DataFrame.\n",
            "Try using .loc[row_indexer,col_indexer] = value instead\n",
            "\n",
            "See the caveats in the documentation: https://pandas.pydata.org/pandas-docs/stable/user_guide/indexing.html#returning-a-view-versus-a-copy\n",
            "  This is separate from the ipykernel package so we can avoid doing imports until\n",
            "/usr/local/lib/python3.7/dist-packages/ipykernel_launcher.py:4: SettingWithCopyWarning: \n",
            "A value is trying to be set on a copy of a slice from a DataFrame.\n",
            "Try using .loc[row_indexer,col_indexer] = value instead\n",
            "\n",
            "See the caveats in the documentation: https://pandas.pydata.org/pandas-docs/stable/user_guide/indexing.html#returning-a-view-versus-a-copy\n",
            "  after removing the cwd from sys.path.\n",
            "/usr/local/lib/python3.7/dist-packages/ipykernel_launcher.py:5: FutureWarning: Series.dt.weekofyear and Series.dt.week have been deprecated.  Please use Series.dt.isocalendar().week instead.\n",
            "  \"\"\"\n",
            "/usr/local/lib/python3.7/dist-packages/ipykernel_launcher.py:5: SettingWithCopyWarning: \n",
            "A value is trying to be set on a copy of a slice from a DataFrame.\n",
            "Try using .loc[row_indexer,col_indexer] = value instead\n",
            "\n",
            "See the caveats in the documentation: https://pandas.pydata.org/pandas-docs/stable/user_guide/indexing.html#returning-a-view-versus-a-copy\n",
            "  \"\"\"\n",
            "/usr/local/lib/python3.7/dist-packages/ipykernel_launcher.py:6: SettingWithCopyWarning: \n",
            "A value is trying to be set on a copy of a slice from a DataFrame.\n",
            "Try using .loc[row_indexer,col_indexer] = value instead\n",
            "\n",
            "See the caveats in the documentation: https://pandas.pydata.org/pandas-docs/stable/user_guide/indexing.html#returning-a-view-versus-a-copy\n",
            "  \n",
            "/usr/local/lib/python3.7/dist-packages/ipykernel_launcher.py:7: SettingWithCopyWarning: \n",
            "A value is trying to be set on a copy of a slice from a DataFrame.\n",
            "Try using .loc[row_indexer,col_indexer] = value instead\n",
            "\n",
            "See the caveats in the documentation: https://pandas.pydata.org/pandas-docs/stable/user_guide/indexing.html#returning-a-view-versus-a-copy\n",
            "  import sys\n",
            "/usr/local/lib/python3.7/dist-packages/ipykernel_launcher.py:8: SettingWithCopyWarning: \n",
            "A value is trying to be set on a copy of a slice from a DataFrame.\n",
            "Try using .loc[row_indexer,col_indexer] = value instead\n",
            "\n",
            "See the caveats in the documentation: https://pandas.pydata.org/pandas-docs/stable/user_guide/indexing.html#returning-a-view-versus-a-copy\n",
            "  \n",
            "/usr/local/lib/python3.7/dist-packages/ipykernel_launcher.py:9: SettingWithCopyWarning: \n",
            "A value is trying to be set on a copy of a slice from a DataFrame.\n",
            "Try using .loc[row_indexer,col_indexer] = value instead\n",
            "\n",
            "See the caveats in the documentation: https://pandas.pydata.org/pandas-docs/stable/user_guide/indexing.html#returning-a-view-versus-a-copy\n",
            "  if __name__ == '__main__':\n",
            "/usr/local/lib/python3.7/dist-packages/ipykernel_launcher.py:10: SettingWithCopyWarning: \n",
            "A value is trying to be set on a copy of a slice from a DataFrame.\n",
            "Try using .loc[row_indexer,col_indexer] = value instead\n",
            "\n",
            "See the caveats in the documentation: https://pandas.pydata.org/pandas-docs/stable/user_guide/indexing.html#returning-a-view-versus-a-copy\n",
            "  # Remove the CWD from sys.path while we load stuff.\n",
            "/usr/local/lib/python3.7/dist-packages/ipykernel_launcher.py:11: SettingWithCopyWarning: \n",
            "A value is trying to be set on a copy of a slice from a DataFrame.\n",
            "Try using .loc[row_indexer,col_indexer] = value instead\n",
            "\n",
            "See the caveats in the documentation: https://pandas.pydata.org/pandas-docs/stable/user_guide/indexing.html#returning-a-view-versus-a-copy\n",
            "  # This is added back by InteractiveShellApp.init_path()\n",
            "/usr/local/lib/python3.7/dist-packages/ipykernel_launcher.py:12: SettingWithCopyWarning: \n",
            "A value is trying to be set on a copy of a slice from a DataFrame.\n",
            "Try using .loc[row_indexer,col_indexer] = value instead\n",
            "\n",
            "See the caveats in the documentation: https://pandas.pydata.org/pandas-docs/stable/user_guide/indexing.html#returning-a-view-versus-a-copy\n",
            "  if sys.path[0] == '':\n",
            "/usr/local/lib/python3.7/dist-packages/pandas/core/frame.py:4913: SettingWithCopyWarning: \n",
            "A value is trying to be set on a copy of a slice from a DataFrame\n",
            "\n",
            "See the caveats in the documentation: https://pandas.pydata.org/pandas-docs/stable/user_guide/indexing.html#returning-a-view-versus-a-copy\n",
            "  errors=errors,\n"
          ]
        }
      ]
    },
    {
      "cell_type": "markdown",
      "source": [
        "# Labeling\n"
      ],
      "metadata": {
        "id": "SbC1rAZvzDXv"
      }
    },
    {
      "cell_type": "code",
      "source": [
        "df1.head(5)"
      ],
      "metadata": {
        "colab": {
          "base_uri": "https://localhost:8080/",
          "height": 670
        },
        "id": "D3r2G7vpy77L",
        "outputId": "a4ef07b9-0aea-4861-b6c5-f1f9e9392bee"
      },
      "execution_count": null,
      "outputs": [
        {
          "output_type": "execute_result",
          "data": {
            "text/plain": [
              "     Preparación    Calidad QQs Netos    Línea    Turno Analista    Operador  \\\n",
              "0        Love 16  Lift Leve    973.54  Línea 2  Turno 1  Juan S.     Michael   \n",
              "1        Love 16  Lift Leve    973.54  Línea 2  Turno 1  Juan S.     Michael   \n",
              "2        Love 16  Lift Leve    973.54  Línea 2  Turno 1  Juan S.     Michael   \n",
              "3        Love 16  Lift Leve    973.54  Línea 2  Turno 1  Juan S.     Michael   \n",
              "4        Love 16  Lift Leve    973.54  Línea 2  Turno 1  Juan S.     Michael   \n",
              "...          ...        ...       ...      ...      ...      ...         ...   \n",
              "2343  Wagon Type      Lift     428.65  Línea 2  Turno 1  Juan S.  Michaell F   \n",
              "2344  Wagon Type      Lift     428.65  Línea 2  Turno 1  Juan S.  Michaell F   \n",
              "2345  Wagon Type    DamLeve    834.91  Línea 2  Turno 1  Juan S.  Michaell F   \n",
              "2346  Wagon Type    DamLeve    834.91  Línea 2  Turno 1  Juan S.  Michaell F   \n",
              "2347  Wagon Type      Lift     834.91  Línea 2  Turno 1  Juan S.  Michaell F   \n",
              "\n",
              "      %entrada  Vueltas Ponderadas  month  year  day  week  weekday  yearday  \\\n",
              "0        0.061            7.512796     10  2020    5    41        0      279   \n",
              "1        0.060            7.512796     10  2020    6    41        1      280   \n",
              "2        0.059            7.512796     10  2020    6    41        1      280   \n",
              "3        0.074            7.512796     10  2020    6    41        1      280   \n",
              "4        0.081            7.512796     10  2020    7    41        2      281   \n",
              "...        ...                 ...    ...   ...  ...   ...      ...      ...   \n",
              "2343     0.076            3.000000      8  2021   27    34        4      239   \n",
              "2344     0.116            3.000000      8  2021   28    34        5      240   \n",
              "2345     0.076            2.000000      8  2021   28    34        5      240   \n",
              "2346     0.061            2.000000      8  2021   28    34        5      240   \n",
              "2347     0.068            2.000000      8  2021   30    35        0      242   \n",
              "\n",
              "      quarter  start_month  end_month  \n",
              "0           4            1          1  \n",
              "1           4            1          1  \n",
              "2           4            1          1  \n",
              "3           4            1          1  \n",
              "4           4            1          1  \n",
              "...       ...          ...        ...  \n",
              "2343        3            1          1  \n",
              "2344        3            1          1  \n",
              "2345        3            1          1  \n",
              "2346        3            1          1  \n",
              "2347        3            1          1  \n",
              "\n",
              "[2348 rows x 18 columns]"
            ],
            "text/html": [
              "\n",
              "  <div id=\"df-c666a654-75ad-43b9-a839-ab0e8e13a648\">\n",
              "    <div class=\"colab-df-container\">\n",
              "      <div>\n",
              "<style scoped>\n",
              "    .dataframe tbody tr th:only-of-type {\n",
              "        vertical-align: middle;\n",
              "    }\n",
              "\n",
              "    .dataframe tbody tr th {\n",
              "        vertical-align: top;\n",
              "    }\n",
              "\n",
              "    .dataframe thead th {\n",
              "        text-align: right;\n",
              "    }\n",
              "</style>\n",
              "<table border=\"1\" class=\"dataframe\">\n",
              "  <thead>\n",
              "    <tr style=\"text-align: right;\">\n",
              "      <th></th>\n",
              "      <th>Preparación</th>\n",
              "      <th>Calidad</th>\n",
              "      <th>QQs Netos</th>\n",
              "      <th>Línea</th>\n",
              "      <th>Turno</th>\n",
              "      <th>Analista</th>\n",
              "      <th>Operador</th>\n",
              "      <th>%entrada</th>\n",
              "      <th>Vueltas Ponderadas</th>\n",
              "      <th>month</th>\n",
              "      <th>year</th>\n",
              "      <th>day</th>\n",
              "      <th>week</th>\n",
              "      <th>weekday</th>\n",
              "      <th>yearday</th>\n",
              "      <th>quarter</th>\n",
              "      <th>start_month</th>\n",
              "      <th>end_month</th>\n",
              "    </tr>\n",
              "  </thead>\n",
              "  <tbody>\n",
              "    <tr>\n",
              "      <th>0</th>\n",
              "      <td>Love 16</td>\n",
              "      <td>Lift Leve</td>\n",
              "      <td>973.54</td>\n",
              "      <td>Línea 2</td>\n",
              "      <td>Turno 1</td>\n",
              "      <td>Juan S.</td>\n",
              "      <td>Michael</td>\n",
              "      <td>0.061</td>\n",
              "      <td>7.512796</td>\n",
              "      <td>10</td>\n",
              "      <td>2020</td>\n",
              "      <td>5</td>\n",
              "      <td>41</td>\n",
              "      <td>0</td>\n",
              "      <td>279</td>\n",
              "      <td>4</td>\n",
              "      <td>1</td>\n",
              "      <td>1</td>\n",
              "    </tr>\n",
              "    <tr>\n",
              "      <th>1</th>\n",
              "      <td>Love 16</td>\n",
              "      <td>Lift Leve</td>\n",
              "      <td>973.54</td>\n",
              "      <td>Línea 2</td>\n",
              "      <td>Turno 1</td>\n",
              "      <td>Juan S.</td>\n",
              "      <td>Michael</td>\n",
              "      <td>0.060</td>\n",
              "      <td>7.512796</td>\n",
              "      <td>10</td>\n",
              "      <td>2020</td>\n",
              "      <td>6</td>\n",
              "      <td>41</td>\n",
              "      <td>1</td>\n",
              "      <td>280</td>\n",
              "      <td>4</td>\n",
              "      <td>1</td>\n",
              "      <td>1</td>\n",
              "    </tr>\n",
              "    <tr>\n",
              "      <th>2</th>\n",
              "      <td>Love 16</td>\n",
              "      <td>Lift Leve</td>\n",
              "      <td>973.54</td>\n",
              "      <td>Línea 2</td>\n",
              "      <td>Turno 1</td>\n",
              "      <td>Juan S.</td>\n",
              "      <td>Michael</td>\n",
              "      <td>0.059</td>\n",
              "      <td>7.512796</td>\n",
              "      <td>10</td>\n",
              "      <td>2020</td>\n",
              "      <td>6</td>\n",
              "      <td>41</td>\n",
              "      <td>1</td>\n",
              "      <td>280</td>\n",
              "      <td>4</td>\n",
              "      <td>1</td>\n",
              "      <td>1</td>\n",
              "    </tr>\n",
              "    <tr>\n",
              "      <th>3</th>\n",
              "      <td>Love 16</td>\n",
              "      <td>Lift Leve</td>\n",
              "      <td>973.54</td>\n",
              "      <td>Línea 2</td>\n",
              "      <td>Turno 1</td>\n",
              "      <td>Juan S.</td>\n",
              "      <td>Michael</td>\n",
              "      <td>0.074</td>\n",
              "      <td>7.512796</td>\n",
              "      <td>10</td>\n",
              "      <td>2020</td>\n",
              "      <td>6</td>\n",
              "      <td>41</td>\n",
              "      <td>1</td>\n",
              "      <td>280</td>\n",
              "      <td>4</td>\n",
              "      <td>1</td>\n",
              "      <td>1</td>\n",
              "    </tr>\n",
              "    <tr>\n",
              "      <th>4</th>\n",
              "      <td>Love 16</td>\n",
              "      <td>Lift Leve</td>\n",
              "      <td>973.54</td>\n",
              "      <td>Línea 2</td>\n",
              "      <td>Turno 1</td>\n",
              "      <td>Juan S.</td>\n",
              "      <td>Michael</td>\n",
              "      <td>0.081</td>\n",
              "      <td>7.512796</td>\n",
              "      <td>10</td>\n",
              "      <td>2020</td>\n",
              "      <td>7</td>\n",
              "      <td>41</td>\n",
              "      <td>2</td>\n",
              "      <td>281</td>\n",
              "      <td>4</td>\n",
              "      <td>1</td>\n",
              "      <td>1</td>\n",
              "    </tr>\n",
              "    <tr>\n",
              "      <th>...</th>\n",
              "      <td>...</td>\n",
              "      <td>...</td>\n",
              "      <td>...</td>\n",
              "      <td>...</td>\n",
              "      <td>...</td>\n",
              "      <td>...</td>\n",
              "      <td>...</td>\n",
              "      <td>...</td>\n",
              "      <td>...</td>\n",
              "      <td>...</td>\n",
              "      <td>...</td>\n",
              "      <td>...</td>\n",
              "      <td>...</td>\n",
              "      <td>...</td>\n",
              "      <td>...</td>\n",
              "      <td>...</td>\n",
              "      <td>...</td>\n",
              "      <td>...</td>\n",
              "    </tr>\n",
              "    <tr>\n",
              "      <th>2343</th>\n",
              "      <td>Wagon Type</td>\n",
              "      <td>Lift</td>\n",
              "      <td>428.65</td>\n",
              "      <td>Línea 2</td>\n",
              "      <td>Turno 1</td>\n",
              "      <td>Juan S.</td>\n",
              "      <td>Michaell F</td>\n",
              "      <td>0.076</td>\n",
              "      <td>3.000000</td>\n",
              "      <td>8</td>\n",
              "      <td>2021</td>\n",
              "      <td>27</td>\n",
              "      <td>34</td>\n",
              "      <td>4</td>\n",
              "      <td>239</td>\n",
              "      <td>3</td>\n",
              "      <td>1</td>\n",
              "      <td>1</td>\n",
              "    </tr>\n",
              "    <tr>\n",
              "      <th>2344</th>\n",
              "      <td>Wagon Type</td>\n",
              "      <td>Lift</td>\n",
              "      <td>428.65</td>\n",
              "      <td>Línea 2</td>\n",
              "      <td>Turno 1</td>\n",
              "      <td>Juan S.</td>\n",
              "      <td>Michaell F</td>\n",
              "      <td>0.116</td>\n",
              "      <td>3.000000</td>\n",
              "      <td>8</td>\n",
              "      <td>2021</td>\n",
              "      <td>28</td>\n",
              "      <td>34</td>\n",
              "      <td>5</td>\n",
              "      <td>240</td>\n",
              "      <td>3</td>\n",
              "      <td>1</td>\n",
              "      <td>1</td>\n",
              "    </tr>\n",
              "    <tr>\n",
              "      <th>2345</th>\n",
              "      <td>Wagon Type</td>\n",
              "      <td>DamLeve</td>\n",
              "      <td>834.91</td>\n",
              "      <td>Línea 2</td>\n",
              "      <td>Turno 1</td>\n",
              "      <td>Juan S.</td>\n",
              "      <td>Michaell F</td>\n",
              "      <td>0.076</td>\n",
              "      <td>2.000000</td>\n",
              "      <td>8</td>\n",
              "      <td>2021</td>\n",
              "      <td>28</td>\n",
              "      <td>34</td>\n",
              "      <td>5</td>\n",
              "      <td>240</td>\n",
              "      <td>3</td>\n",
              "      <td>1</td>\n",
              "      <td>1</td>\n",
              "    </tr>\n",
              "    <tr>\n",
              "      <th>2346</th>\n",
              "      <td>Wagon Type</td>\n",
              "      <td>DamLeve</td>\n",
              "      <td>834.91</td>\n",
              "      <td>Línea 2</td>\n",
              "      <td>Turno 1</td>\n",
              "      <td>Juan S.</td>\n",
              "      <td>Michaell F</td>\n",
              "      <td>0.061</td>\n",
              "      <td>2.000000</td>\n",
              "      <td>8</td>\n",
              "      <td>2021</td>\n",
              "      <td>28</td>\n",
              "      <td>34</td>\n",
              "      <td>5</td>\n",
              "      <td>240</td>\n",
              "      <td>3</td>\n",
              "      <td>1</td>\n",
              "      <td>1</td>\n",
              "    </tr>\n",
              "    <tr>\n",
              "      <th>2347</th>\n",
              "      <td>Wagon Type</td>\n",
              "      <td>Lift</td>\n",
              "      <td>834.91</td>\n",
              "      <td>Línea 2</td>\n",
              "      <td>Turno 1</td>\n",
              "      <td>Juan S.</td>\n",
              "      <td>Michaell F</td>\n",
              "      <td>0.068</td>\n",
              "      <td>2.000000</td>\n",
              "      <td>8</td>\n",
              "      <td>2021</td>\n",
              "      <td>30</td>\n",
              "      <td>35</td>\n",
              "      <td>0</td>\n",
              "      <td>242</td>\n",
              "      <td>3</td>\n",
              "      <td>1</td>\n",
              "      <td>1</td>\n",
              "    </tr>\n",
              "  </tbody>\n",
              "</table>\n",
              "<p>2348 rows × 18 columns</p>\n",
              "</div>\n",
              "      <button class=\"colab-df-convert\" onclick=\"convertToInteractive('df-c666a654-75ad-43b9-a839-ab0e8e13a648')\"\n",
              "              title=\"Convert this dataframe to an interactive table.\"\n",
              "              style=\"display:none;\">\n",
              "        \n",
              "  <svg xmlns=\"http://www.w3.org/2000/svg\" height=\"24px\"viewBox=\"0 0 24 24\"\n",
              "       width=\"24px\">\n",
              "    <path d=\"M0 0h24v24H0V0z\" fill=\"none\"/>\n",
              "    <path d=\"M18.56 5.44l.94 2.06.94-2.06 2.06-.94-2.06-.94-.94-2.06-.94 2.06-2.06.94zm-11 1L8.5 8.5l.94-2.06 2.06-.94-2.06-.94L8.5 2.5l-.94 2.06-2.06.94zm10 10l.94 2.06.94-2.06 2.06-.94-2.06-.94-.94-2.06-.94 2.06-2.06.94z\"/><path d=\"M17.41 7.96l-1.37-1.37c-.4-.4-.92-.59-1.43-.59-.52 0-1.04.2-1.43.59L10.3 9.45l-7.72 7.72c-.78.78-.78 2.05 0 2.83L4 21.41c.39.39.9.59 1.41.59.51 0 1.02-.2 1.41-.59l7.78-7.78 2.81-2.81c.8-.78.8-2.07 0-2.86zM5.41 20L4 18.59l7.72-7.72 1.47 1.35L5.41 20z\"/>\n",
              "  </svg>\n",
              "      </button>\n",
              "      \n",
              "  <style>\n",
              "    .colab-df-container {\n",
              "      display:flex;\n",
              "      flex-wrap:wrap;\n",
              "      gap: 12px;\n",
              "    }\n",
              "\n",
              "    .colab-df-convert {\n",
              "      background-color: #E8F0FE;\n",
              "      border: none;\n",
              "      border-radius: 50%;\n",
              "      cursor: pointer;\n",
              "      display: none;\n",
              "      fill: #1967D2;\n",
              "      height: 32px;\n",
              "      padding: 0 0 0 0;\n",
              "      width: 32px;\n",
              "    }\n",
              "\n",
              "    .colab-df-convert:hover {\n",
              "      background-color: #E2EBFA;\n",
              "      box-shadow: 0px 1px 2px rgba(60, 64, 67, 0.3), 0px 1px 3px 1px rgba(60, 64, 67, 0.15);\n",
              "      fill: #174EA6;\n",
              "    }\n",
              "\n",
              "    [theme=dark] .colab-df-convert {\n",
              "      background-color: #3B4455;\n",
              "      fill: #D2E3FC;\n",
              "    }\n",
              "\n",
              "    [theme=dark] .colab-df-convert:hover {\n",
              "      background-color: #434B5C;\n",
              "      box-shadow: 0px 1px 3px 1px rgba(0, 0, 0, 0.15);\n",
              "      filter: drop-shadow(0px 1px 2px rgba(0, 0, 0, 0.3));\n",
              "      fill: #FFFFFF;\n",
              "    }\n",
              "  </style>\n",
              "\n",
              "      <script>\n",
              "        const buttonEl =\n",
              "          document.querySelector('#df-c666a654-75ad-43b9-a839-ab0e8e13a648 button.colab-df-convert');\n",
              "        buttonEl.style.display =\n",
              "          google.colab.kernel.accessAllowed ? 'block' : 'none';\n",
              "\n",
              "        async function convertToInteractive(key) {\n",
              "          const element = document.querySelector('#df-c666a654-75ad-43b9-a839-ab0e8e13a648');\n",
              "          const dataTable =\n",
              "            await google.colab.kernel.invokeFunction('convertToInteractive',\n",
              "                                                     [key], {});\n",
              "          if (!dataTable) return;\n",
              "\n",
              "          const docLinkHtml = 'Like what you see? Visit the ' +\n",
              "            '<a target=\"_blank\" href=https://colab.research.google.com/notebooks/data_table.ipynb>data table notebook</a>'\n",
              "            + ' to learn more about interactive tables.';\n",
              "          element.innerHTML = '';\n",
              "          dataTable['output_type'] = 'display_data';\n",
              "          await google.colab.output.renderOutput(dataTable, element);\n",
              "          const docLink = document.createElement('div');\n",
              "          docLink.innerHTML = docLinkHtml;\n",
              "          element.appendChild(docLink);\n",
              "        }\n",
              "      </script>\n",
              "    </div>\n",
              "  </div>\n",
              "  "
            ]
          },
          "metadata": {},
          "execution_count": 112
        }
      ]
    },
    {
      "cell_type": "markdown",
      "source": [
        "Using label encoding for each category"
      ],
      "metadata": {
        "id": "bJOMS9LbhNUa"
      }
    },
    {
      "cell_type": "code",
      "source": [
        "def label_encoding(df1):\n",
        "  #Operador labeling\n",
        "  operador_list =df1['Operador'].unique()\n",
        "  operador_dict = {operador_list[i]:i for i in range(len(operador_list))}\n",
        "  df1['Operador']=df1['Operador'].apply(lambda x: operador_dict.get(x))\n",
        "\n",
        "  #Preparación labeling\n",
        "  preparacion_list =df1['Preparación'].unique()\n",
        "  preparacion_dict = {preparacion_list[i]:i for i in range(len(preparacion_list))}\n",
        "  df1['Preparación']=df1['Preparación'].apply(lambda x: preparacion_dict.get(x))\n",
        "\n",
        "  #Calidad labels\n",
        "  calidad_list =df1['Calidad'].unique()\n",
        "  calidad_dict = {calidad_list[i]:i for i in range(len(calidad_list))}\n",
        "  df1['Calidad']=df1['Calidad'].apply(lambda x: calidad_dict.get(x))\n",
        "\n",
        "  #Analista labeling\n",
        "  analista_list =df1['Analista'].unique()\n",
        "  analista_dict = {analista_list[i]:i for i in range(len(analista_list))}\n",
        "  df1['Analista']=df1['Analista'].apply(lambda x: analista_dict.get(x))\n",
        "\n",
        "  #Turno Labeling\n",
        "  turno_list =df1['Turno'].unique()\n",
        "  turno_dict = {turno_list[i]:i for i in range(len(turno_list))}\n",
        "  df1['Turno']=df1['Turno'].apply(lambda x: turno_dict.get(x))\n",
        "\n",
        "  #Línea Labeling\n",
        "  linea_list =df1['Línea'].unique()\n",
        "  linea_dict = {linea_list[i]:i for i in range(len(linea_list))}\n",
        "  df1['Línea']=df1['Línea'].apply(lambda x: linea_dict.get(x))\n",
        "\n",
        "  return df1\n"
      ],
      "metadata": {
        "id": "Sl7sSsWngrl7"
      },
      "execution_count": null,
      "outputs": []
    },
    {
      "cell_type": "code",
      "source": [
        "df1 = label_encoding(df1)"
      ],
      "metadata": {
        "colab": {
          "base_uri": "https://localhost:8080/"
        },
        "id": "KCvrjJjfhSyF",
        "outputId": "5b5ae252-4b81-4d85-bf7c-b976e09e9e59"
      },
      "execution_count": null,
      "outputs": [
        {
          "output_type": "stream",
          "name": "stderr",
          "text": [
            "/usr/local/lib/python3.7/dist-packages/ipykernel_launcher.py:5: SettingWithCopyWarning: \n",
            "A value is trying to be set on a copy of a slice from a DataFrame.\n",
            "Try using .loc[row_indexer,col_indexer] = value instead\n",
            "\n",
            "See the caveats in the documentation: https://pandas.pydata.org/pandas-docs/stable/user_guide/indexing.html#returning-a-view-versus-a-copy\n",
            "  \"\"\"\n",
            "/usr/local/lib/python3.7/dist-packages/ipykernel_launcher.py:10: SettingWithCopyWarning: \n",
            "A value is trying to be set on a copy of a slice from a DataFrame.\n",
            "Try using .loc[row_indexer,col_indexer] = value instead\n",
            "\n",
            "See the caveats in the documentation: https://pandas.pydata.org/pandas-docs/stable/user_guide/indexing.html#returning-a-view-versus-a-copy\n",
            "  # Remove the CWD from sys.path while we load stuff.\n",
            "/usr/local/lib/python3.7/dist-packages/ipykernel_launcher.py:15: SettingWithCopyWarning: \n",
            "A value is trying to be set on a copy of a slice from a DataFrame.\n",
            "Try using .loc[row_indexer,col_indexer] = value instead\n",
            "\n",
            "See the caveats in the documentation: https://pandas.pydata.org/pandas-docs/stable/user_guide/indexing.html#returning-a-view-versus-a-copy\n",
            "  from ipykernel import kernelapp as app\n",
            "/usr/local/lib/python3.7/dist-packages/ipykernel_launcher.py:20: SettingWithCopyWarning: \n",
            "A value is trying to be set on a copy of a slice from a DataFrame.\n",
            "Try using .loc[row_indexer,col_indexer] = value instead\n",
            "\n",
            "See the caveats in the documentation: https://pandas.pydata.org/pandas-docs/stable/user_guide/indexing.html#returning-a-view-versus-a-copy\n",
            "/usr/local/lib/python3.7/dist-packages/ipykernel_launcher.py:25: SettingWithCopyWarning: \n",
            "A value is trying to be set on a copy of a slice from a DataFrame.\n",
            "Try using .loc[row_indexer,col_indexer] = value instead\n",
            "\n",
            "See the caveats in the documentation: https://pandas.pydata.org/pandas-docs/stable/user_guide/indexing.html#returning-a-view-versus-a-copy\n",
            "/usr/local/lib/python3.7/dist-packages/ipykernel_launcher.py:30: SettingWithCopyWarning: \n",
            "A value is trying to be set on a copy of a slice from a DataFrame.\n",
            "Try using .loc[row_indexer,col_indexer] = value instead\n",
            "\n",
            "See the caveats in the documentation: https://pandas.pydata.org/pandas-docs/stable/user_guide/indexing.html#returning-a-view-versus-a-copy\n"
          ]
        }
      ]
    },
    {
      "cell_type": "code",
      "source": [
        "#df1=df1[['Preparación', 'Calidad', 'Línea', 'Turno','Analista','Operador', 'H', 'minutes','month','day','week','weekday','yearday','quarter','start_month','end_month','QQs Netos', '%entrada', 'Vueltas Ponderadas']]\n",
        "df1=df1[['Preparación', 'Calidad', 'Línea', 'Turno','Analista','Operador','month','day','week','weekday','yearday','quarter','start_month','end_month','QQs Netos', '%entrada', 'Vueltas Ponderadas']]"
      ],
      "metadata": {
        "id": "UddTRBmt1MJS"
      },
      "execution_count": null,
      "outputs": []
    },
    {
      "cell_type": "code",
      "source": [
        "df1['Vueltas Ponderadas']=df1['Vueltas Ponderadas'].apply(lambda x: round(x))"
      ],
      "metadata": {
        "id": "gbvpUHs01Uph",
        "colab": {
          "base_uri": "https://localhost:8080/"
        },
        "outputId": "a9772b8b-7522-4895-f977-cc642b517d94"
      },
      "execution_count": null,
      "outputs": [
        {
          "output_type": "stream",
          "name": "stderr",
          "text": [
            "/usr/local/lib/python3.7/dist-packages/ipykernel_launcher.py:1: SettingWithCopyWarning: \n",
            "A value is trying to be set on a copy of a slice from a DataFrame.\n",
            "Try using .loc[row_indexer,col_indexer] = value instead\n",
            "\n",
            "See the caveats in the documentation: https://pandas.pydata.org/pandas-docs/stable/user_guide/indexing.html#returning-a-view-versus-a-copy\n",
            "  \"\"\"Entry point for launching an IPython kernel.\n"
          ]
        }
      ]
    },
    {
      "cell_type": "code",
      "source": [
        "df1['QQs Netos']=df1['QQs Netos'].apply(lambda x: np.nan if x =='30.10.94' else x) #Registry error. It was found meanwhile training the algorithm\n",
        "df1['QQs Netos']=df1['QQs Netos'].astype(float)"
      ],
      "metadata": {
        "id": "eYgADKni46w2",
        "colab": {
          "base_uri": "https://localhost:8080/"
        },
        "outputId": "23c137e7-5d5e-41d4-bdb5-72a9d1184db3"
      },
      "execution_count": null,
      "outputs": [
        {
          "output_type": "stream",
          "name": "stderr",
          "text": [
            "/usr/local/lib/python3.7/dist-packages/ipykernel_launcher.py:1: SettingWithCopyWarning: \n",
            "A value is trying to be set on a copy of a slice from a DataFrame.\n",
            "Try using .loc[row_indexer,col_indexer] = value instead\n",
            "\n",
            "See the caveats in the documentation: https://pandas.pydata.org/pandas-docs/stable/user_guide/indexing.html#returning-a-view-versus-a-copy\n",
            "  \"\"\"Entry point for launching an IPython kernel.\n",
            "/usr/local/lib/python3.7/dist-packages/ipykernel_launcher.py:2: SettingWithCopyWarning: \n",
            "A value is trying to be set on a copy of a slice from a DataFrame.\n",
            "Try using .loc[row_indexer,col_indexer] = value instead\n",
            "\n",
            "See the caveats in the documentation: https://pandas.pydata.org/pandas-docs/stable/user_guide/indexing.html#returning-a-view-versus-a-copy\n",
            "  \n"
          ]
        }
      ]
    },
    {
      "cell_type": "markdown",
      "source": [
        "Verifying the output distribution"
      ],
      "metadata": {
        "id": "B78IvM33kaw_"
      }
    },
    {
      "cell_type": "code",
      "source": [
        "df1['Vueltas Ponderadas'].hist()"
      ],
      "metadata": {
        "colab": {
          "base_uri": "https://localhost:8080/",
          "height": 541
        },
        "id": "ZGAmNCE29VEv",
        "outputId": "7ab41890-9cb5-4f7a-8ccd-f87275504737"
      },
      "execution_count": null,
      "outputs": [
        {
          "output_type": "execute_result",
          "data": {
            "text/plain": [
              "<matplotlib.axes._subplots.AxesSubplot at 0x7f1c335e2990>"
            ]
          },
          "metadata": {},
          "execution_count": 118
        },
        {
          "output_type": "display_data",
          "data": {
            "text/plain": [
              "<Figure size 1800x720 with 1 Axes>"
            ],
            "image/png": "[encoded data removed]"
          },
          "metadata": {
            "needs_background": "light"
          }
        }
      ]
    },
    {
      "cell_type": "markdown",
      "source": [
        "Output beyond 12 can be dropped, because they are considered outliers in the company"
      ],
      "metadata": {
        "id": "dxPQaZS_84Kl"
      }
    },
    {
      "cell_type": "code",
      "source": [
        "df1['Vueltas Ponderadas']=df1['Vueltas Ponderadas'].apply(lambda x: np.nan if x > 12 else x)\n",
        "df1.dropna(inplace=True)"
      ],
      "metadata": {
        "id": "xKCpltl69EEF",
        "colab": {
          "base_uri": "https://localhost:8080/"
        },
        "outputId": "976ab4c5-2762-4c91-bec5-b9f9e7562324"
      },
      "execution_count": null,
      "outputs": [
        {
          "output_type": "stream",
          "name": "stderr",
          "text": [
            "/usr/local/lib/python3.7/dist-packages/ipykernel_launcher.py:1: SettingWithCopyWarning: \n",
            "A value is trying to be set on a copy of a slice from a DataFrame.\n",
            "Try using .loc[row_indexer,col_indexer] = value instead\n",
            "\n",
            "See the caveats in the documentation: https://pandas.pydata.org/pandas-docs/stable/user_guide/indexing.html#returning-a-view-versus-a-copy\n",
            "  \"\"\"Entry point for launching an IPython kernel.\n",
            "/usr/local/lib/python3.7/dist-packages/pandas/util/_decorators.py:311: SettingWithCopyWarning: \n",
            "A value is trying to be set on a copy of a slice from a DataFrame\n",
            "\n",
            "See the caveats in the documentation: https://pandas.pydata.org/pandas-docs/stable/user_guide/indexing.html#returning-a-view-versus-a-copy\n",
            "  return func(*args, **kwargs)\n"
          ]
        }
      ]
    },
    {
      "cell_type": "code",
      "source": [
        "#sns.pairplot(df1, hue='Vueltas Ponderadas')"
      ],
      "metadata": {
        "id": "K3LEzzh2hlKn"
      },
      "execution_count": null,
      "outputs": []
    },
    {
      "cell_type": "markdown",
      "source": [
        "# Splitting Test Values"
      ],
      "metadata": {
        "id": "JpUTXnlw_3Ta"
      }
    },
    {
      "cell_type": "code",
      "source": [
        "#Sampling 15% of dataset for testing\n",
        "df_test=df1.sample(frac=.15)\n",
        "df1.loc[df_test.index]=np.nan\n",
        "df_train = df1.dropna()"
      ],
      "metadata": {
        "id": "Hs19HEnNKuBB",
        "colab": {
          "base_uri": "https://localhost:8080/"
        },
        "outputId": "ffa00a4e-d10e-4a05-ef1f-2892125f1af1"
      },
      "execution_count": null,
      "outputs": [
        {
          "output_type": "stream",
          "name": "stderr",
          "text": [
            "/usr/local/lib/python3.7/dist-packages/pandas/core/indexing.py:1817: SettingWithCopyWarning: \n",
            "A value is trying to be set on a copy of a slice from a DataFrame.\n",
            "Try using .loc[row_indexer,col_indexer] = value instead\n",
            "\n",
            "See the caveats in the documentation: https://pandas.pydata.org/pandas-docs/stable/user_guide/indexing.html#returning-a-view-versus-a-copy\n",
            "  self._setitem_single_column(loc, value, pi)\n"
          ]
        }
      ]
    },
    {
      "cell_type": "code",
      "source": [
        "df_test"
      ],
      "metadata": {
        "colab": {
          "base_uri": "https://localhost:8080/",
          "height": 500
        },
        "id": "szeZJiQSNiaf",
        "outputId": "ff65fb80-39ad-4fc9-ad04-ef8bc74e079e"
      },
      "execution_count": null,
      "outputs": [
        {
          "output_type": "execute_result",
          "data": {
            "text/plain": [
              "      Preparación  Calidad  Línea  Turno  Analista  Operador  month  day  \\\n",
              "1329            4        0      0      2         9        11      4   16   \n",
              "1982            8       15      0      0         4        14      6   11   \n",
              "1685           13        0      0      0         4         7      5   21   \n",
              "776             6        7      1      1         4         9      2   13   \n",
              "809             8       14      1      1         6         6      2   17   \n",
              "...           ...      ...    ...    ...       ...       ...    ...  ...   \n",
              "632             8       14      0      2         6         8      2    1   \n",
              "198             4        4      0      1         4         7     12   23   \n",
              "1576           21       15      0      2         9        11      5    8   \n",
              "266             8        4      2      0         4         4      1    2   \n",
              "1067            8       14      1      2         9         8      3   23   \n",
              "\n",
              "      week  weekday  yearday  quarter  start_month  end_month  QQs Netos  \\\n",
              "1329    15        4      106        2            1          1     904.64   \n",
              "1982    23        4      162        2            1          1    1541.53   \n",
              "1685    20        4      141        2            1          1    3363.98   \n",
              "776      6        5       44        1            1          1    1836.02   \n",
              "809      7        2       48        1            1          1    3070.88   \n",
              "...    ...      ...      ...      ...          ...        ...        ...   \n",
              "632      5        0       32        1            1          1    3019.03   \n",
              "198     52        2      358        4            1          1    1917.95   \n",
              "1576    18        5      128        2            1          1    1859.04   \n",
              "266     53        5        2        1            1          1    5835.51   \n",
              "1067    12        1       82        1            1          1    3022.55   \n",
              "\n",
              "      %entrada  Vueltas Ponderadas  \n",
              "1329     0.111                 6.0  \n",
              "1982     0.071                 8.0  \n",
              "1685     0.043                 1.0  \n",
              "776      0.055                 5.0  \n",
              "809      0.062                 7.0  \n",
              "...        ...                 ...  \n",
              "632      0.051                 3.0  \n",
              "198      0.090                 3.0  \n",
              "1576     0.085                 3.0  \n",
              "266      0.096                 5.0  \n",
              "1067     0.074                 5.0  \n",
              "\n",
              "[346 rows x 17 columns]"
            ],
            "text/html": [
              "\n",
              "  <div id=\"df-b5f046e9-ffb5-41c4-9271-33a04a7ab2c3\">\n",
              "    <div class=\"colab-df-container\">\n",
              "      <div>\n",
              "<style scoped>\n",
              "    .dataframe tbody tr th:only-of-type {\n",
              "        vertical-align: middle;\n",
              "    }\n",
              "\n",
              "    .dataframe tbody tr th {\n",
              "        vertical-align: top;\n",
              "    }\n",
              "\n",
              "    .dataframe thead th {\n",
              "        text-align: right;\n",
              "    }\n",
              "</style>\n",
              "<table border=\"1\" class=\"dataframe\">\n",
              "  <thead>\n",
              "    <tr style=\"text-align: right;\">\n",
              "      <th></th>\n",
              "      <th>Preparación</th>\n",
              "      <th>Calidad</th>\n",
              "      <th>Línea</th>\n",
              "      <th>Turno</th>\n",
              "      <th>Analista</th>\n",
              "      <th>Operador</th>\n",
              "      <th>month</th>\n",
              "      <th>day</th>\n",
              "      <th>week</th>\n",
              "      <th>weekday</th>\n",
              "      <th>yearday</th>\n",
              "      <th>quarter</th>\n",
              "      <th>start_month</th>\n",
              "      <th>end_month</th>\n",
              "      <th>QQs Netos</th>\n",
              "      <th>%entrada</th>\n",
              "      <th>Vueltas Ponderadas</th>\n",
              "    </tr>\n",
              "  </thead>\n",
              "  <tbody>\n",
              "    <tr>\n",
              "      <th>1329</th>\n",
              "      <td>4</td>\n",
              "      <td>0</td>\n",
              "      <td>0</td>\n",
              "      <td>2</td>\n",
              "      <td>9</td>\n",
              "      <td>11</td>\n",
              "      <td>4</td>\n",
              "      <td>16</td>\n",
              "      <td>15</td>\n",
              "      <td>4</td>\n",
              "      <td>106</td>\n",
              "      <td>2</td>\n",
              "      <td>1</td>\n",
              "      <td>1</td>\n",
              "      <td>904.64</td>\n",
              "      <td>0.111</td>\n",
              "      <td>6.0</td>\n",
              "    </tr>\n",
              "    <tr>\n",
              "      <th>1982</th>\n",
              "      <td>8</td>\n",
              "      <td>15</td>\n",
              "      <td>0</td>\n",
              "      <td>0</td>\n",
              "      <td>4</td>\n",
              "      <td>14</td>\n",
              "      <td>6</td>\n",
              "      <td>11</td>\n",
              "      <td>23</td>\n",
              "      <td>4</td>\n",
              "      <td>162</td>\n",
              "      <td>2</td>\n",
              "      <td>1</td>\n",
              "      <td>1</td>\n",
              "      <td>1541.53</td>\n",
              "      <td>0.071</td>\n",
              "      <td>8.0</td>\n",
              "    </tr>\n",
              "    <tr>\n",
              "      <th>1685</th>\n",
              "      <td>13</td>\n",
              "      <td>0</td>\n",
              "      <td>0</td>\n",
              "      <td>0</td>\n",
              "      <td>4</td>\n",
              "      <td>7</td>\n",
              "      <td>5</td>\n",
              "      <td>21</td>\n",
              "      <td>20</td>\n",
              "      <td>4</td>\n",
              "      <td>141</td>\n",
              "      <td>2</td>\n",
              "      <td>1</td>\n",
              "      <td>1</td>\n",
              "      <td>3363.98</td>\n",
              "      <td>0.043</td>\n",
              "      <td>1.0</td>\n",
              "    </tr>\n",
              "    <tr>\n",
              "      <th>776</th>\n",
              "      <td>6</td>\n",
              "      <td>7</td>\n",
              "      <td>1</td>\n",
              "      <td>1</td>\n",
              "      <td>4</td>\n",
              "      <td>9</td>\n",
              "      <td>2</td>\n",
              "      <td>13</td>\n",
              "      <td>6</td>\n",
              "      <td>5</td>\n",
              "      <td>44</td>\n",
              "      <td>1</td>\n",
              "      <td>1</td>\n",
              "      <td>1</td>\n",
              "      <td>1836.02</td>\n",
              "      <td>0.055</td>\n",
              "      <td>5.0</td>\n",
              "    </tr>\n",
              "    <tr>\n",
              "      <th>809</th>\n",
              "      <td>8</td>\n",
              "      <td>14</td>\n",
              "      <td>1</td>\n",
              "      <td>1</td>\n",
              "      <td>6</td>\n",
              "      <td>6</td>\n",
              "      <td>2</td>\n",
              "      <td>17</td>\n",
              "      <td>7</td>\n",
              "      <td>2</td>\n",
              "      <td>48</td>\n",
              "      <td>1</td>\n",
              "      <td>1</td>\n",
              "      <td>1</td>\n",
              "      <td>3070.88</td>\n",
              "      <td>0.062</td>\n",
              "      <td>7.0</td>\n",
              "    </tr>\n",
              "    <tr>\n",
              "      <th>...</th>\n",
              "      <td>...</td>\n",
              "      <td>...</td>\n",
              "      <td>...</td>\n",
              "      <td>...</td>\n",
              "      <td>...</td>\n",
              "      <td>...</td>\n",
              "      <td>...</td>\n",
              "      <td>...</td>\n",
              "      <td>...</td>\n",
              "      <td>...</td>\n",
              "      <td>...</td>\n",
              "      <td>...</td>\n",
              "      <td>...</td>\n",
              "      <td>...</td>\n",
              "      <td>...</td>\n",
              "      <td>...</td>\n",
              "      <td>...</td>\n",
              "    </tr>\n",
              "    <tr>\n",
              "      <th>632</th>\n",
              "      <td>8</td>\n",
              "      <td>14</td>\n",
              "      <td>0</td>\n",
              "      <td>2</td>\n",
              "      <td>6</td>\n",
              "      <td>8</td>\n",
              "      <td>2</td>\n",
              "      <td>1</td>\n",
              "      <td>5</td>\n",
              "      <td>0</td>\n",
              "      <td>32</td>\n",
              "      <td>1</td>\n",
              "      <td>1</td>\n",
              "      <td>1</td>\n",
              "      <td>3019.03</td>\n",
              "      <td>0.051</td>\n",
              "      <td>3.0</td>\n",
              "    </tr>\n",
              "    <tr>\n",
              "      <th>198</th>\n",
              "      <td>4</td>\n",
              "      <td>4</td>\n",
              "      <td>0</td>\n",
              "      <td>1</td>\n",
              "      <td>4</td>\n",
              "      <td>7</td>\n",
              "      <td>12</td>\n",
              "      <td>23</td>\n",
              "      <td>52</td>\n",
              "      <td>2</td>\n",
              "      <td>358</td>\n",
              "      <td>4</td>\n",
              "      <td>1</td>\n",
              "      <td>1</td>\n",
              "      <td>1917.95</td>\n",
              "      <td>0.090</td>\n",
              "      <td>3.0</td>\n",
              "    </tr>\n",
              "    <tr>\n",
              "      <th>1576</th>\n",
              "      <td>21</td>\n",
              "      <td>15</td>\n",
              "      <td>0</td>\n",
              "      <td>2</td>\n",
              "      <td>9</td>\n",
              "      <td>11</td>\n",
              "      <td>5</td>\n",
              "      <td>8</td>\n",
              "      <td>18</td>\n",
              "      <td>5</td>\n",
              "      <td>128</td>\n",
              "      <td>2</td>\n",
              "      <td>1</td>\n",
              "      <td>1</td>\n",
              "      <td>1859.04</td>\n",
              "      <td>0.085</td>\n",
              "      <td>3.0</td>\n",
              "    </tr>\n",
              "    <tr>\n",
              "      <th>266</th>\n",
              "      <td>8</td>\n",
              "      <td>4</td>\n",
              "      <td>2</td>\n",
              "      <td>0</td>\n",
              "      <td>4</td>\n",
              "      <td>4</td>\n",
              "      <td>1</td>\n",
              "      <td>2</td>\n",
              "      <td>53</td>\n",
              "      <td>5</td>\n",
              "      <td>2</td>\n",
              "      <td>1</td>\n",
              "      <td>1</td>\n",
              "      <td>1</td>\n",
              "      <td>5835.51</td>\n",
              "      <td>0.096</td>\n",
              "      <td>5.0</td>\n",
              "    </tr>\n",
              "    <tr>\n",
              "      <th>1067</th>\n",
              "      <td>8</td>\n",
              "      <td>14</td>\n",
              "      <td>1</td>\n",
              "      <td>2</td>\n",
              "      <td>9</td>\n",
              "      <td>8</td>\n",
              "      <td>3</td>\n",
              "      <td>23</td>\n",
              "      <td>12</td>\n",
              "      <td>1</td>\n",
              "      <td>82</td>\n",
              "      <td>1</td>\n",
              "      <td>1</td>\n",
              "      <td>1</td>\n",
              "      <td>3022.55</td>\n",
              "      <td>0.074</td>\n",
              "      <td>5.0</td>\n",
              "    </tr>\n",
              "  </tbody>\n",
              "</table>\n",
              "<p>346 rows × 17 columns</p>\n",
              "</div>\n",
              "      <button class=\"colab-df-convert\" onclick=\"convertToInteractive('df-b5f046e9-ffb5-41c4-9271-33a04a7ab2c3')\"\n",
              "              title=\"Convert this dataframe to an interactive table.\"\n",
              "              style=\"display:none;\">\n",
              "        \n",
              "  <svg xmlns=\"http://www.w3.org/2000/svg\" height=\"24px\"viewBox=\"0 0 24 24\"\n",
              "       width=\"24px\">\n",
              "    <path d=\"M0 0h24v24H0V0z\" fill=\"none\"/>\n",
              "    <path d=\"M18.56 5.44l.94 2.06.94-2.06 2.06-.94-2.06-.94-.94-2.06-.94 2.06-2.06.94zm-11 1L8.5 8.5l.94-2.06 2.06-.94-2.06-.94L8.5 2.5l-.94 2.06-2.06.94zm10 10l.94 2.06.94-2.06 2.06-.94-2.06-.94-.94-2.06-.94 2.06-2.06.94z\"/><path d=\"M17.41 7.96l-1.37-1.37c-.4-.4-.92-.59-1.43-.59-.52 0-1.04.2-1.43.59L10.3 9.45l-7.72 7.72c-.78.78-.78 2.05 0 2.83L4 21.41c.39.39.9.59 1.41.59.51 0 1.02-.2 1.41-.59l7.78-7.78 2.81-2.81c.8-.78.8-2.07 0-2.86zM5.41 20L4 18.59l7.72-7.72 1.47 1.35L5.41 20z\"/>\n",
              "  </svg>\n",
              "      </button>\n",
              "      \n",
              "  <style>\n",
              "    .colab-df-container {\n",
              "      display:flex;\n",
              "      flex-wrap:wrap;\n",
              "      gap: 12px;\n",
              "    }\n",
              "\n",
              "    .colab-df-convert {\n",
              "      background-color: #E8F0FE;\n",
              "      border: none;\n",
              "      border-radius: 50%;\n",
              "      cursor: pointer;\n",
              "      display: none;\n",
              "      fill: #1967D2;\n",
              "      height: 32px;\n",
              "      padding: 0 0 0 0;\n",
              "      width: 32px;\n",
              "    }\n",
              "\n",
              "    .colab-df-convert:hover {\n",
              "      background-color: #E2EBFA;\n",
              "      box-shadow: 0px 1px 2px rgba(60, 64, 67, 0.3), 0px 1px 3px 1px rgba(60, 64, 67, 0.15);\n",
              "      fill: #174EA6;\n",
              "    }\n",
              "\n",
              "    [theme=dark] .colab-df-convert {\n",
              "      background-color: #3B4455;\n",
              "      fill: #D2E3FC;\n",
              "    }\n",
              "\n",
              "    [theme=dark] .colab-df-convert:hover {\n",
              "      background-color: #434B5C;\n",
              "      box-shadow: 0px 1px 3px 1px rgba(0, 0, 0, 0.15);\n",
              "      filter: drop-shadow(0px 1px 2px rgba(0, 0, 0, 0.3));\n",
              "      fill: #FFFFFF;\n",
              "    }\n",
              "  </style>\n",
              "\n",
              "      <script>\n",
              "        const buttonEl =\n",
              "          document.querySelector('#df-b5f046e9-ffb5-41c4-9271-33a04a7ab2c3 button.colab-df-convert');\n",
              "        buttonEl.style.display =\n",
              "          google.colab.kernel.accessAllowed ? 'block' : 'none';\n",
              "\n",
              "        async function convertToInteractive(key) {\n",
              "          const element = document.querySelector('#df-b5f046e9-ffb5-41c4-9271-33a04a7ab2c3');\n",
              "          const dataTable =\n",
              "            await google.colab.kernel.invokeFunction('convertToInteractive',\n",
              "                                                     [key], {});\n",
              "          if (!dataTable) return;\n",
              "\n",
              "          const docLinkHtml = 'Like what you see? Visit the ' +\n",
              "            '<a target=\"_blank\" href=https://colab.research.google.com/notebooks/data_table.ipynb>data table notebook</a>'\n",
              "            + ' to learn more about interactive tables.';\n",
              "          element.innerHTML = '';\n",
              "          dataTable['output_type'] = 'display_data';\n",
              "          await google.colab.output.renderOutput(dataTable, element);\n",
              "          const docLink = document.createElement('div');\n",
              "          docLink.innerHTML = docLinkHtml;\n",
              "          element.appendChild(docLink);\n",
              "        }\n",
              "      </script>\n",
              "    </div>\n",
              "  </div>\n",
              "  "
            ]
          },
          "metadata": {},
          "execution_count": 122
        }
      ]
    },
    {
      "cell_type": "code",
      "source": [
        "t_labels = df_train['Vueltas Ponderadas']\n",
        "test_labels =df_test['Vueltas Ponderadas']"
      ],
      "metadata": {
        "id": "53gDqYrh7osI"
      },
      "execution_count": null,
      "outputs": []
    },
    {
      "cell_type": "code",
      "source": [
        "from sklearn.preprocessing import MinMaxScaler\n",
        "\n",
        "scaler = MinMaxScaler()\n",
        "df_scaled = scaler.fit_transform(df_train.drop(columns=['Vueltas Ponderadas']))"
      ],
      "metadata": {
        "id": "EdCH7Vkb18sR"
      },
      "execution_count": null,
      "outputs": []
    },
    {
      "cell_type": "code",
      "source": [
        "test_scaled =scaler.transform(df_test.drop(columns=['Vueltas Ponderadas']))"
      ],
      "metadata": {
        "id": "f8d5Ir3nBIB5"
      },
      "execution_count": null,
      "outputs": []
    },
    {
      "cell_type": "code",
      "source": [
        "df_scaled=pd.DataFrame(df_scaled, columns=df_train.drop(columns=['Vueltas Ponderadas']).columns)"
      ],
      "metadata": {
        "id": "pD4CsPr5yjJ-"
      },
      "execution_count": null,
      "outputs": []
    },
    {
      "cell_type": "markdown",
      "source": [
        "# Splitting and modeling"
      ],
      "metadata": {
        "id": "D_LkbfE05lnc"
      }
    },
    {
      "cell_type": "markdown",
      "source": [
        "For splitting, the train_test_split from sklearn should be useful, then we are going to mix it with Randomized Search CV and Light GBM, to predict the number of cleaning loops required for each reciepe based on the input\n"
      ],
      "metadata": {
        "id": "FtXj55PPhuAv"
      }
    },
    {
      "cell_type": "code",
      "source": [
        "from sklearn.model_selection import train_test_split\n",
        "\n",
        "train_data, val_data, train_labels, val_labels = train_test_split(df_scaled, t_labels, train_size = 0.85, random_state=42)"
      ],
      "metadata": {
        "id": "XYkcuzwa2aDX"
      },
      "execution_count": null,
      "outputs": []
    },
    {
      "cell_type": "code",
      "source": [
        "import lightgbm as lgb\n",
        "from sklearn.model_selection import RandomizedSearchCV\n",
        "\n",
        "lgb_params = {\n",
        "              'num_leaves': range(7,100),\n",
        "              'max_bin': range(50,120),\n",
        "              'bagging_freq': range(3,20),\n",
        "              \n",
        "              'n_estimators': range(80,200),\n",
        "              'reg_lambda':np.linspace(0,1, num=20),\n",
        "              'learning_rate': np.linspace(0.001,0.1, num=25),\n",
        "              'feature_fraction': np.linspace(0.001, 0.8, num=25),\n",
        "              'max_depth': range(20,400),\n",
        "              \n",
        "              #'boosting_type': ['gbdt', 'dart', 'goss']\n",
        "              }\n",
        "              \n",
        "\n",
        "model = lgb.LGBMClassifier()\n",
        "#cv_model = RandomizedSearchCV(model, lgb_params, cv=10)               \n",
        "#Once the best params were obtained from Randomized Search CV, it won't be required anymore"
      ],
      "metadata": {
        "id": "rwn2xWQU5jXK"
      },
      "execution_count": null,
      "outputs": []
    },
    {
      "cell_type": "code",
      "source": [
        "#cv_model.fit(train_data, train_labels, eval_set=(val_data, val_labels), verbose=0)"
      ],
      "metadata": {
        "id": "N7VV6akXSRN3"
      },
      "execution_count": null,
      "outputs": []
    },
    {
      "cell_type": "code",
      "source": [
        "#cv_model.best_params_"
      ],
      "metadata": {
        "id": "dlFDR78qTCX9"
      },
      "execution_count": null,
      "outputs": []
    },
    {
      "cell_type": "code",
      "source": [
        "#cv_model.best_score_"
      ],
      "metadata": {
        "id": "nguU9cjvTxL7"
      },
      "execution_count": null,
      "outputs": []
    },
    {
      "cell_type": "code",
      "source": [
        "best_params={'bagging_freq': 6,\n",
        " 'feature_fraction': 0.6335416666666668,\n",
        " 'learning_rate': 0.079375,\n",
        " 'max_bin': 95,\n",
        " 'max_depth': 187,\n",
        " 'n_estimators': 165,\n",
        " 'num_leaves': 65,\n",
        " 'reg_lambda': 0.3157894736842105}"
      ],
      "metadata": {
        "id": "4sZ_yb31T85O"
      },
      "execution_count": null,
      "outputs": []
    },
    {
      "cell_type": "code",
      "source": [
        "model.set_params(**best_params)\n",
        "model.fit(train_data, train_labels, eval_set=[(val_data, val_labels),(train_data, train_labels)], verbose=0)"
      ],
      "metadata": {
        "colab": {
          "base_uri": "https://localhost:8080/"
        },
        "id": "n-YWz-816bou",
        "outputId": "d331e711-9955-4263-fa6b-8e2717caf856"
      },
      "execution_count": null,
      "outputs": [
        {
          "output_type": "execute_result",
          "data": {
            "text/plain": [
              "LGBMClassifier(bagging_freq=6, feature_fraction=0.6335416666666668,\n",
              "               learning_rate=0.079375, max_bin=95, max_depth=187,\n",
              "               n_estimators=165, num_leaves=65, reg_lambda=0.3157894736842105)"
            ]
          },
          "metadata": {},
          "execution_count": 133
        }
      ]
    },
    {
      "cell_type": "code",
      "source": [
        "pred= model.predict(val_data)"
      ],
      "metadata": {
        "id": "t04skRBr96_y"
      },
      "execution_count": null,
      "outputs": []
    },
    {
      "cell_type": "markdown",
      "source": [
        "## Model Score"
      ],
      "metadata": {
        "id": "omhoIq_aQ41D"
      }
    },
    {
      "cell_type": "markdown",
      "source": [
        "With plot_importance from LightGBM, we can verify the ranking of the features"
      ],
      "metadata": {
        "id": "P9BoLJKYiVN8"
      }
    },
    {
      "cell_type": "code",
      "source": [
        "lgb.plot_importance(model)"
      ],
      "metadata": {
        "colab": {
          "base_uri": "https://localhost:8080/",
          "height": 548
        },
        "id": "3trM16MjxD7o",
        "outputId": "5197c640-9512-4002-cd2a-7a62070958b5"
      },
      "execution_count": null,
      "outputs": [
        {
          "output_type": "execute_result",
          "data": {
            "text/plain": [
              "<matplotlib.axes._subplots.AxesSubplot at 0x7f1c33504bd0>"
            ]
          },
          "metadata": {},
          "execution_count": 135
        },
        {
          "output_type": "display_data",
          "data": {
            "text/plain": [
              "<Figure size 1800x720 with 1 Axes>"
            ],
            "image/png": "[encoded data removed]"
          },
          "metadata": {
            "needs_background": "light"
          }
        }
      ]
    },
    {
      "cell_type": "markdown",
      "source": [
        "The Loss curve seems to be underfitted. Let's check accuracy metrics and model score\n",
        "\n",
        "\n",
        "\n"
      ],
      "metadata": {
        "id": "i22lrXrEidGI"
      }
    },
    {
      "cell_type": "code",
      "source": [
        "lgb.plot_metric(model)"
      ],
      "metadata": {
        "colab": {
          "base_uri": "https://localhost:8080/",
          "height": 562
        },
        "id": "7o66aDtEzajt",
        "outputId": "884008ad-4762-4414-ca3f-c15600d97d01"
      },
      "execution_count": null,
      "outputs": [
        {
          "output_type": "execute_result",
          "data": {
            "text/plain": [
              "<matplotlib.axes._subplots.AxesSubplot at 0x7f1c333d0090>"
            ]
          },
          "metadata": {},
          "execution_count": 136
        },
        {
          "output_type": "display_data",
          "data": {
            "text/plain": [
              "<Figure size 1800x720 with 1 Axes>"
            ],
            "image/png": "[encoded data removed]"
          },
          "metadata": {
            "needs_background": "light"
          }
        }
      ]
    },
    {
      "cell_type": "code",
      "source": [
        "lgb.create_tree_digraph(model)"
      ],
      "metadata": {
        "colab": {
          "base_uri": "https://localhost:8080/",
          "height": 821
        },
        "id": "4BpQr_ZxzvJ1",
        "outputId": "88de4f2d-6640-47e1-874b-e835aaf31165"
      },
      "execution_count": null,
      "outputs": [
        {
          "output_type": "execute_result",
          "data": {
            "text/plain": [
              "<graphviz.dot.Digraph at 0x7f1c311429d0>"
            ],
            "image/svg+xml": "<?xml version=\"1.0\" encoding=\"UTF-8\" standalone=\"no\"?>\n<!DOCTYPE svg PUBLIC \"-//W3C//DTD SVG 1.1//EN\"\n \"http://www.w3.org/Graphics/SVG/1.1/DTD/svg11.dtd\">\n<!-- Generated by graphviz version 2.40.1 (20161225.0304)\n -->\n<!-- Title: %3 Pages: 1 -->\n<svg width=\"1698pt\" height=\"585pt\"\n viewBox=\"0.00 0.00 1698.30 585.44\" xmlns=\"http://www.w3.org/2000/svg\" xmlns:xlink=\"http://www.w3.org/1999/xlink\">\n<g id=\"graph0\" class=\"graph\" transform=\"scale(1 1) rotate(0) translate(4 581.4407)\">\n<title>%3</title>\n<polygon fill=\"#ffffff\" stroke=\"transparent\" points=\"-4,4 -4,-581.4407 1694.2986,-581.4407 1694.2986,4 -4,4\"/>\n<!-- split0 -->\n<g id=\"node1\" class=\"node\">\n<title>split0</title>\n<ellipse fill=\"none\" stroke=\"#000000\" cx=\"1056.1493\" cy=\"-550.5706\" rx=\"152.9705\" ry=\"26.7407\"/>\n<text text-anchor=\"middle\" x=\"1056.1493\" y=\"-554.3706\" font-family=\"Times,serif\" font-size=\"14.00\" fill=\"#000000\">split_feature_name: Preparación</text>\n<text text-anchor=\"middle\" x=\"1056.1493\" y=\"-539.3706\" font-family=\"Times,serif\" font-size=\"14.00\" fill=\"#000000\">threshold: 0.39583333333333337</text>\n</g>\n<!-- split5 -->\n<g id=\"node2\" class=\"node\">\n<title>split5</title>\n<ellipse fill=\"none\" stroke=\"#000000\" cx=\"896.1493\" cy=\"-445.8305\" rx=\"147.5709\" ry=\"26.7407\"/>\n<text text-anchor=\"middle\" x=\"896.1493\" y=\"-449.6305\" font-family=\"Times,serif\" font-size=\"14.00\" fill=\"#000000\">split_feature_name: QQs_Netos</text>\n<text text-anchor=\"middle\" x=\"896.1493\" y=\"-434.6305\" font-family=\"Times,serif\" font-size=\"14.00\" fill=\"#000000\">threshold: 0.2521225175548185</text>\n</g>\n<!-- split0&#45;&gt;split5 -->\n<g id=\"edge7\" class=\"edge\">\n<title>split0&#45;&gt;split5</title>\n<path fill=\"none\" stroke=\"#000000\" d=\"M1016.1873,-524.4105C994.4374,-510.1724 967.3678,-492.452 944.4426,-477.4445\"/>\n<polygon fill=\"#000000\" stroke=\"#000000\" points=\"946.1626,-474.3873 935.8789,-471.8386 942.3286,-480.244 946.1626,-474.3873\"/>\n<text text-anchor=\"middle\" x=\"994.6493\" y=\"-494.5006\" font-family=\"Times,serif\" font-size=\"14.00\" fill=\"#000000\">&lt;=</text>\n</g>\n<!-- split1 -->\n<g id=\"node9\" class=\"node\">\n<title>split1</title>\n<ellipse fill=\"none\" stroke=\"#000000\" cx=\"1216.1493\" cy=\"-445.8305\" rx=\"152.9705\" ry=\"26.7407\"/>\n<text text-anchor=\"middle\" x=\"1216.1493\" y=\"-449.6305\" font-family=\"Times,serif\" font-size=\"14.00\" fill=\"#000000\">split_feature_name: week</text>\n<text text-anchor=\"middle\" x=\"1216.1493\" y=\"-434.6305\" font-family=\"Times,serif\" font-size=\"14.00\" fill=\"#000000\">threshold: 0.43269230769230776</text>\n</g>\n<!-- split0&#45;&gt;split1 -->\n<g id=\"edge18\" class=\"edge\">\n<title>split0&#45;&gt;split1</title>\n<path fill=\"none\" stroke=\"#000000\" d=\"M1096.1113,-524.4105C1117.8612,-510.1724 1144.9308,-492.452 1167.856,-477.4445\"/>\n<polygon fill=\"#000000\" stroke=\"#000000\" points=\"1169.9699,-480.244 1176.4197,-471.8386 1166.1359,-474.3873 1169.9699,-480.244\"/>\n<text text-anchor=\"middle\" x=\"1150.6493\" y=\"-494.5006\" font-family=\"Times,serif\" font-size=\"14.00\" fill=\"#000000\">&gt;</text>\n</g>\n<!-- split6 -->\n<g id=\"node3\" class=\"node\">\n<title>split6</title>\n<ellipse fill=\"none\" stroke=\"#000000\" cx=\"572.1493\" cy=\"-341.0904\" rx=\"152.0559\" ry=\"26.7407\"/>\n<text text-anchor=\"middle\" x=\"572.1493\" y=\"-344.8904\" font-family=\"Times,serif\" font-size=\"14.00\" fill=\"#000000\">split_feature_name: QQs_Netos</text>\n<text text-anchor=\"middle\" x=\"572.1493\" y=\"-329.8904\" font-family=\"Times,serif\" font-size=\"14.00\" fill=\"#000000\">threshold: 0.24263645371128253</text>\n</g>\n<!-- split5&#45;&gt;split6 -->\n<g id=\"edge5\" class=\"edge\">\n<title>split5&#45;&gt;split6</title>\n<path fill=\"none\" stroke=\"#000000\" d=\"M823.4374,-422.3248C773.3794,-406.1424 706.7804,-384.6129 654.7223,-367.7839\"/>\n<polygon fill=\"#000000\" stroke=\"#000000\" points=\"655.7701,-364.4444 645.1783,-364.6987 653.6169,-371.105 655.7701,-364.4444\"/>\n<text text-anchor=\"middle\" x=\"762.6493\" y=\"-389.7605\" font-family=\"Times,serif\" font-size=\"14.00\" fill=\"#000000\">&lt;=</text>\n</g>\n<!-- leaf6 -->\n<g id=\"node8\" class=\"node\">\n<title>leaf6</title>\n<ellipse fill=\"none\" stroke=\"#000000\" cx=\"896.1493\" cy=\"-341.0904\" rx=\"154.2987\" ry=\"26.7407\"/>\n<text text-anchor=\"middle\" x=\"896.1493\" y=\"-344.8904\" font-family=\"Times,serif\" font-size=\"14.00\" fill=\"#000000\">leaf_index: 6</text>\n<text text-anchor=\"middle\" x=\"896.1493\" y=\"-329.8904\" font-family=\"Times,serif\" font-size=\"14.00\" fill=\"#000000\">leaf_value: &#45;3.9624126406290046</text>\n</g>\n<!-- split5&#45;&gt;leaf6 -->\n<g id=\"edge6\" class=\"edge\">\n<title>split5&#45;&gt;leaf6</title>\n<path fill=\"none\" stroke=\"#000000\" d=\"M896.1493,-418.8573C896.1493,-406.5179 896.1493,-391.6964 896.1493,-378.3175\"/>\n<polygon fill=\"#000000\" stroke=\"#000000\" points=\"899.6494,-377.9721 896.1493,-367.9722 892.6494,-377.9722 899.6494,-377.9721\"/>\n<text text-anchor=\"middle\" x=\"900.6493\" y=\"-389.7605\" font-family=\"Times,serif\" font-size=\"14.00\" fill=\"#000000\">&gt;</text>\n</g>\n<!-- split7 -->\n<g id=\"node4\" class=\"node\">\n<title>split7</title>\n<ellipse fill=\"none\" stroke=\"#000000\" cx=\"344.1493\" cy=\"-236.3503\" rx=\"152.9705\" ry=\"26.7407\"/>\n<text text-anchor=\"middle\" x=\"344.1493\" y=\"-240.1503\" font-family=\"Times,serif\" font-size=\"14.00\" fill=\"#000000\">split_feature_name: QQs_Netos</text>\n<text text-anchor=\"middle\" x=\"344.1493\" y=\"-225.1503\" font-family=\"Times,serif\" font-size=\"14.00\" fill=\"#000000\">threshold: 0.07810709516219362</text>\n</g>\n<!-- split6&#45;&gt;split7 -->\n<g id=\"edge3\" class=\"edge\">\n<title>split6&#45;&gt;split7</title>\n<path fill=\"none\" stroke=\"#000000\" d=\"M517.5376,-316.0025C484.7833,-300.9557 442.9542,-281.7399 408.5872,-265.9522\"/>\n<polygon fill=\"#000000\" stroke=\"#000000\" points=\"409.6537,-262.5905 399.1056,-261.5965 406.7315,-268.9514 409.6537,-262.5905\"/>\n<text text-anchor=\"middle\" x=\"480.6493\" y=\"-285.0203\" font-family=\"Times,serif\" font-size=\"14.00\" fill=\"#000000\">&lt;=</text>\n</g>\n<!-- leaf7 -->\n<g id=\"node7\" class=\"node\">\n<title>leaf7</title>\n<ellipse fill=\"none\" stroke=\"#000000\" cx=\"664.1493\" cy=\"-236.3503\" rx=\"149.3993\" ry=\"26.7407\"/>\n<text text-anchor=\"middle\" x=\"664.1493\" y=\"-240.1503\" font-family=\"Times,serif\" font-size=\"14.00\" fill=\"#000000\">leaf_index: 7</text>\n<text text-anchor=\"middle\" x=\"664.1493\" y=\"-225.1503\" font-family=\"Times,serif\" font-size=\"14.00\" fill=\"#000000\">leaf_value: &#45;3.632341295249522</text>\n</g>\n<!-- split6&#45;&gt;leaf7 -->\n<g id=\"edge4\" class=\"edge\">\n<title>split6&#45;&gt;leaf7</title>\n<path fill=\"none\" stroke=\"#000000\" d=\"M595.6028,-314.389C607.2817,-301.0929 621.5365,-284.864 634.0159,-270.6565\"/>\n<polygon fill=\"#000000\" stroke=\"#000000\" points=\"636.7688,-272.8259 640.7386,-263.0029 631.5096,-268.2064 636.7688,-272.8259\"/>\n<text text-anchor=\"middle\" x=\"628.6493\" y=\"-285.0203\" font-family=\"Times,serif\" font-size=\"14.00\" fill=\"#000000\">&gt;</text>\n</g>\n<!-- leaf0 -->\n<g id=\"node5\" class=\"node\">\n<title>leaf0</title>\n<ellipse fill=\"none\" stroke=\"#000000\" cx=\"154.1493\" cy=\"-131.6102\" rx=\"154.2987\" ry=\"26.7407\"/>\n<text text-anchor=\"middle\" x=\"154.1493\" y=\"-135.4102\" font-family=\"Times,serif\" font-size=\"14.00\" fill=\"#000000\">leaf_index: 0</text>\n<text text-anchor=\"middle\" x=\"154.1493\" y=\"-120.4102\" font-family=\"Times,serif\" font-size=\"14.00\" fill=\"#000000\">leaf_value: &#45;3.8689916545547893</text>\n</g>\n<!-- split7&#45;&gt;leaf0 -->\n<g id=\"edge1\" class=\"edge\">\n<title>split7&#45;&gt;leaf0</title>\n<path fill=\"none\" stroke=\"#000000\" d=\"M297.67,-210.728C271.1024,-196.0822 237.614,-177.6213 209.6695,-162.2165\"/>\n<polygon fill=\"#000000\" stroke=\"#000000\" points=\"211.2544,-159.0936 200.8072,-157.331 207.875,-165.2238 211.2544,-159.0936\"/>\n<text text-anchor=\"middle\" x=\"269.6493\" y=\"-180.2802\" font-family=\"Times,serif\" font-size=\"14.00\" fill=\"#000000\">&lt;=</text>\n</g>\n<!-- leaf8 -->\n<g id=\"node6\" class=\"node\">\n<title>leaf8</title>\n<ellipse fill=\"none\" stroke=\"#000000\" cx=\"470.1493\" cy=\"-131.6102\" rx=\"143.5854\" ry=\"26.7407\"/>\n<text text-anchor=\"middle\" x=\"470.1493\" y=\"-135.4102\" font-family=\"Times,serif\" font-size=\"14.00\" fill=\"#000000\">leaf_index: 8</text>\n<text text-anchor=\"middle\" x=\"470.1493\" y=\"-120.4102\" font-family=\"Times,serif\" font-size=\"14.00\" fill=\"#000000\">leaf_value: &#45;3.96183462715397</text>\n</g>\n<!-- split7&#45;&gt;leaf8 -->\n<g id=\"edge2\" class=\"edge\">\n<title>split7&#45;&gt;leaf8</title>\n<path fill=\"none\" stroke=\"#000000\" d=\"M375.9444,-209.9199C392.5082,-196.1509 412.9223,-179.1813 430.5076,-164.5631\"/>\n<polygon fill=\"#000000\" stroke=\"#000000\" points=\"432.9117,-167.1161 438.3643,-158.0321 428.4369,-161.7331 432.9117,-167.1161\"/>\n<text text-anchor=\"middle\" x=\"419.6493\" y=\"-180.2802\" font-family=\"Times,serif\" font-size=\"14.00\" fill=\"#000000\">&gt;</text>\n</g>\n<!-- split2 -->\n<g id=\"node10\" class=\"node\">\n<title>split2</title>\n<ellipse fill=\"none\" stroke=\"#000000\" cx=\"1216.1493\" cy=\"-341.0904\" rx=\"147.5709\" ry=\"26.7407\"/>\n<text text-anchor=\"middle\" x=\"1216.1493\" y=\"-344.8904\" font-family=\"Times,serif\" font-size=\"14.00\" fill=\"#000000\">split_feature_name: month</text>\n<text text-anchor=\"middle\" x=\"1216.1493\" y=\"-329.8904\" font-family=\"Times,serif\" font-size=\"14.00\" fill=\"#000000\">threshold: 0.4090909090909091</text>\n</g>\n<!-- split1&#45;&gt;split2 -->\n<g id=\"edge16\" class=\"edge\">\n<title>split1&#45;&gt;split2</title>\n<path fill=\"none\" stroke=\"#000000\" d=\"M1216.1493,-418.8573C1216.1493,-406.5179 1216.1493,-391.6964 1216.1493,-378.3175\"/>\n<polygon fill=\"#000000\" stroke=\"#000000\" points=\"1219.6494,-377.9721 1216.1493,-367.9722 1212.6494,-377.9722 1219.6494,-377.9721\"/>\n<text text-anchor=\"middle\" x=\"1224.6493\" y=\"-389.7605\" font-family=\"Times,serif\" font-size=\"14.00\" fill=\"#000000\">&lt;=</text>\n</g>\n<!-- leaf2 -->\n<g id=\"node19\" class=\"node\">\n<title>leaf2</title>\n<ellipse fill=\"none\" stroke=\"#000000\" cx=\"1536.1493\" cy=\"-341.0904\" rx=\"154.2987\" ry=\"26.7407\"/>\n<text text-anchor=\"middle\" x=\"1536.1493\" y=\"-344.8904\" font-family=\"Times,serif\" font-size=\"14.00\" fill=\"#000000\">leaf_index: 2</text>\n<text text-anchor=\"middle\" x=\"1536.1493\" y=\"-329.8904\" font-family=\"Times,serif\" font-size=\"14.00\" fill=\"#000000\">leaf_value: &#45;3.9605078450080407</text>\n</g>\n<!-- split1&#45;&gt;leaf2 -->\n<g id=\"edge17\" class=\"edge\">\n<title>split1&#45;&gt;leaf2</title>\n<path fill=\"none\" stroke=\"#000000\" d=\"M1288.7622,-422.0634C1337.8747,-405.9882 1402.8332,-384.7265 1453.8624,-368.0239\"/>\n<polygon fill=\"#000000\" stroke=\"#000000\" points=\"1455.1322,-371.2911 1463.5473,-364.854 1452.9546,-364.6384 1455.1322,-371.2911\"/>\n<text text-anchor=\"middle\" x=\"1400.6493\" y=\"-389.7605\" font-family=\"Times,serif\" font-size=\"14.00\" fill=\"#000000\">&gt;</text>\n</g>\n<!-- split3 -->\n<g id=\"node11\" class=\"node\">\n<title>split3</title>\n<ellipse fill=\"none\" stroke=\"#000000\" cx=\"983.1493\" cy=\"-236.3503\" rx=\"147.5709\" ry=\"26.7407\"/>\n<text text-anchor=\"middle\" x=\"983.1493\" y=\"-240.1503\" font-family=\"Times,serif\" font-size=\"14.00\" fill=\"#000000\">split_feature_name: Preparación</text>\n<text text-anchor=\"middle\" x=\"983.1493\" y=\"-225.1503\" font-family=\"Times,serif\" font-size=\"14.00\" fill=\"#000000\">threshold: 0.5625000000000001</text>\n</g>\n<!-- split2&#45;&gt;split3 -->\n<g id=\"edge14\" class=\"edge\">\n<title>split2&#45;&gt;split3</title>\n<path fill=\"none\" stroke=\"#000000\" d=\"M1160.636,-316.1356C1126.7803,-300.9165 1083.3548,-281.3955 1047.9325,-265.4722\"/>\n<polygon fill=\"#000000\" stroke=\"#000000\" points=\"1049.1965,-262.2031 1038.6406,-261.2952 1046.3264,-268.5876 1049.1965,-262.2031\"/>\n<text text-anchor=\"middle\" x=\"1122.6493\" y=\"-285.0203\" font-family=\"Times,serif\" font-size=\"14.00\" fill=\"#000000\">&lt;=</text>\n</g>\n<!-- leaf3 -->\n<g id=\"node18\" class=\"node\">\n<title>leaf3</title>\n<ellipse fill=\"none\" stroke=\"#000000\" cx=\"1303.1493\" cy=\"-236.3503\" rx=\"154.2987\" ry=\"26.7407\"/>\n<text text-anchor=\"middle\" x=\"1303.1493\" y=\"-240.1503\" font-family=\"Times,serif\" font-size=\"14.00\" fill=\"#000000\">leaf_index: 3</text>\n<text text-anchor=\"middle\" x=\"1303.1493\" y=\"-225.1503\" font-family=\"Times,serif\" font-size=\"14.00\" fill=\"#000000\">leaf_value: &#45;3.2241463349549493</text>\n</g>\n<!-- split2&#45;&gt;leaf3 -->\n<g id=\"edge15\" class=\"edge\">\n<title>split2&#45;&gt;leaf3</title>\n<path fill=\"none\" stroke=\"#000000\" d=\"M1238.3282,-314.389C1249.27,-301.216 1262.603,-285.1643 1274.3253,-271.0517\"/>\n<polygon fill=\"#000000\" stroke=\"#000000\" points=\"1277.3137,-272.9317 1281.0109,-263.0029 1271.929,-268.459 1277.3137,-272.9317\"/>\n<text text-anchor=\"middle\" x=\"1269.6493\" y=\"-285.0203\" font-family=\"Times,serif\" font-size=\"14.00\" fill=\"#000000\">&gt;</text>\n</g>\n<!-- split4 -->\n<g id=\"node12\" class=\"node\">\n<title>split4</title>\n<ellipse fill=\"none\" stroke=\"#000000\" cx=\"857.1493\" cy=\"-131.6102\" rx=\"152.9705\" ry=\"26.7407\"/>\n<text text-anchor=\"middle\" x=\"857.1493\" y=\"-135.4102\" font-family=\"Times,serif\" font-size=\"14.00\" fill=\"#000000\">split_feature_name: week</text>\n<text text-anchor=\"middle\" x=\"857.1493\" y=\"-120.4102\" font-family=\"Times,serif\" font-size=\"14.00\" fill=\"#000000\">threshold: 0.04807692307692309</text>\n</g>\n<!-- split3&#45;&gt;split4 -->\n<g id=\"edge10\" class=\"edge\">\n<title>split3&#45;&gt;split4</title>\n<path fill=\"none\" stroke=\"#000000\" d=\"M951.3542,-209.9199C934.7903,-196.1509 914.3763,-179.1813 896.7909,-164.5631\"/>\n<polygon fill=\"#000000\" stroke=\"#000000\" points=\"898.8616,-161.7331 888.9342,-158.0321 894.3869,-167.1161 898.8616,-161.7331\"/>\n<text text-anchor=\"middle\" x=\"936.6493\" y=\"-180.2802\" font-family=\"Times,serif\" font-size=\"14.00\" fill=\"#000000\">&lt;=</text>\n</g>\n<!-- split8 -->\n<g id=\"node15\" class=\"node\">\n<title>split8</title>\n<ellipse fill=\"none\" stroke=\"#000000\" cx=\"1176.1493\" cy=\"-131.6102\" rx=\"147.5709\" ry=\"26.7407\"/>\n<text text-anchor=\"middle\" x=\"1176.1493\" y=\"-135.4102\" font-family=\"Times,serif\" font-size=\"14.00\" fill=\"#000000\">split_feature_name: QQs_Netos</text>\n<text text-anchor=\"middle\" x=\"1176.1493\" y=\"-120.4102\" font-family=\"Times,serif\" font-size=\"14.00\" fill=\"#000000\">threshold: 0.1598681773144359</text>\n</g>\n<!-- split3&#45;&gt;split8 -->\n<g id=\"edge13\" class=\"edge\">\n<title>split3&#45;&gt;split8</title>\n<path fill=\"none\" stroke=\"#000000\" d=\"M1030.3624,-210.728C1057.4502,-196.0275 1091.6206,-177.4835 1120.0699,-162.0441\"/>\n<polygon fill=\"#000000\" stroke=\"#000000\" points=\"1121.9698,-164.9953 1129.0895,-157.1493 1118.6309,-158.8429 1121.9698,-164.9953\"/>\n<text text-anchor=\"middle\" x=\"1096.6493\" y=\"-180.2802\" font-family=\"Times,serif\" font-size=\"14.00\" fill=\"#000000\">&gt;</text>\n</g>\n<!-- leaf1 -->\n<g id=\"node13\" class=\"node\">\n<title>leaf1</title>\n<ellipse fill=\"none\" stroke=\"#000000\" cx=\"542.1493\" cy=\"-26.8701\" rx=\"149.3993\" ry=\"26.7407\"/>\n<text text-anchor=\"middle\" x=\"542.1493\" y=\"-30.6701\" font-family=\"Times,serif\" font-size=\"14.00\" fill=\"#000000\">leaf_index: 1</text>\n<text text-anchor=\"middle\" x=\"542.1493\" y=\"-15.6701\" font-family=\"Times,serif\" font-size=\"14.00\" fill=\"#000000\">leaf_value: &#45;3.952819858551312</text>\n</g>\n<!-- split4&#45;&gt;leaf1 -->\n<g id=\"edge8\" class=\"edge\">\n<title>split4&#45;&gt;leaf1</title>\n<path fill=\"none\" stroke=\"#000000\" d=\"M785.6709,-107.843C737.2405,-91.7395 673.1567,-70.4311 622.8847,-53.7153\"/>\n<polygon fill=\"#000000\" stroke=\"#000000\" points=\"623.9383,-50.3772 613.3448,-50.5432 621.7296,-57.0197 623.9383,-50.3772\"/>\n<text text-anchor=\"middle\" x=\"727.6493\" y=\"-75.5401\" font-family=\"Times,serif\" font-size=\"14.00\" fill=\"#000000\">&lt;=</text>\n</g>\n<!-- leaf5 -->\n<g id=\"node14\" class=\"node\">\n<title>leaf5</title>\n<ellipse fill=\"none\" stroke=\"#000000\" cx=\"858.1493\" cy=\"-26.8701\" rx=\"149.3993\" ry=\"26.7407\"/>\n<text text-anchor=\"middle\" x=\"858.1493\" y=\"-30.6701\" font-family=\"Times,serif\" font-size=\"14.00\" fill=\"#000000\">leaf_index: 5</text>\n<text text-anchor=\"middle\" x=\"858.1493\" y=\"-15.6701\" font-family=\"Times,serif\" font-size=\"14.00\" fill=\"#000000\">leaf_value: &#45;3.437457933782047</text>\n</g>\n<!-- split4&#45;&gt;leaf5 -->\n<g id=\"edge9\" class=\"edge\">\n<title>split4&#45;&gt;leaf5</title>\n<path fill=\"none\" stroke=\"#000000\" d=\"M857.4068,-104.637C857.5246,-92.2976 857.6661,-77.4761 857.7939,-64.0972\"/>\n<polygon fill=\"#000000\" stroke=\"#000000\" points=\"861.2969,-63.7848 857.8926,-53.7518 854.2972,-63.7179 861.2969,-63.7848\"/>\n<text text-anchor=\"middle\" x=\"862.6493\" y=\"-75.5401\" font-family=\"Times,serif\" font-size=\"14.00\" fill=\"#000000\">&gt;</text>\n</g>\n<!-- leaf4 -->\n<g id=\"node16\" class=\"node\">\n<title>leaf4</title>\n<ellipse fill=\"none\" stroke=\"#000000\" cx=\"1175.1493\" cy=\"-26.8701\" rx=\"149.3993\" ry=\"26.7407\"/>\n<text text-anchor=\"middle\" x=\"1175.1493\" y=\"-30.6701\" font-family=\"Times,serif\" font-size=\"14.00\" fill=\"#000000\">leaf_index: 4</text>\n<text text-anchor=\"middle\" x=\"1175.1493\" y=\"-15.6701\" font-family=\"Times,serif\" font-size=\"14.00\" fill=\"#000000\">leaf_value: &#45;3.881259039299472</text>\n</g>\n<!-- split8&#45;&gt;leaf4 -->\n<g id=\"edge11\" class=\"edge\">\n<title>split8&#45;&gt;leaf4</title>\n<path fill=\"none\" stroke=\"#000000\" d=\"M1175.8918,-104.637C1175.7739,-92.2976 1175.6324,-77.4761 1175.5047,-64.0972\"/>\n<polygon fill=\"#000000\" stroke=\"#000000\" points=\"1179.0013,-63.7179 1175.4059,-53.7518 1172.0017,-63.7848 1179.0013,-63.7179\"/>\n<text text-anchor=\"middle\" x=\"1184.6493\" y=\"-75.5401\" font-family=\"Times,serif\" font-size=\"14.00\" fill=\"#000000\">&lt;=</text>\n</g>\n<!-- leaf9 -->\n<g id=\"node17\" class=\"node\">\n<title>leaf9</title>\n<ellipse fill=\"none\" stroke=\"#000000\" cx=\"1496.1493\" cy=\"-26.8701\" rx=\"154.2987\" ry=\"26.7407\"/>\n<text text-anchor=\"middle\" x=\"1496.1493\" y=\"-30.6701\" font-family=\"Times,serif\" font-size=\"14.00\" fill=\"#000000\">leaf_index: 9</text>\n<text text-anchor=\"middle\" x=\"1496.1493\" y=\"-15.6701\" font-family=\"Times,serif\" font-size=\"14.00\" fill=\"#000000\">leaf_value: &#45;3.9583183397049244</text>\n</g>\n<!-- split8&#45;&gt;leaf9 -->\n<g id=\"edge12\" class=\"edge\">\n<title>split8&#45;&gt;leaf9</title>\n<path fill=\"none\" stroke=\"#000000\" d=\"M1247.9635,-108.1044C1297.1278,-92.0123 1362.4472,-70.6325 1413.7343,-53.8455\"/>\n<polygon fill=\"#000000\" stroke=\"#000000\" points=\"1415.0525,-57.0969 1423.4676,-50.6597 1412.8749,-50.4442 1415.0525,-57.0969\"/>\n<text text-anchor=\"middle\" x=\"1360.6493\" y=\"-75.5401\" font-family=\"Times,serif\" font-size=\"14.00\" fill=\"#000000\">&gt;</text>\n</g>\n</g>\n</svg>\n"
          },
          "metadata": {},
          "execution_count": 137
        }
      ]
    },
    {
      "cell_type": "code",
      "source": [
        "model.score(val_data, val_labels)"
      ],
      "metadata": {
        "colab": {
          "base_uri": "https://localhost:8080/"
        },
        "id": "FKyGZ5QS_TJq",
        "outputId": "2e723244-5a2e-4d4a-9c50-033d43f01742"
      },
      "execution_count": null,
      "outputs": [
        {
          "output_type": "execute_result",
          "data": {
            "text/plain": [
              "0.9355932203389831"
            ]
          },
          "metadata": {},
          "execution_count": 138
        }
      ]
    },
    {
      "cell_type": "markdown",
      "source": [
        "93% is a good score (maybe too good to be true). We can also verify others metrics, such as the confusion matrix, accuracy score and f1_score from sklearn"
      ],
      "metadata": {
        "id": "8qps52YRipT8"
      }
    },
    {
      "cell_type": "code",
      "source": [
        "from sklearn.metrics import confusion_matrix\n",
        "\n",
        "confusion_matrix(val_labels, pred)"
      ],
      "metadata": {
        "colab": {
          "base_uri": "https://localhost:8080/"
        },
        "id": "MY3B19SS7iJ5",
        "outputId": "586595b1-d4ea-4e25-d8f5-444db11d08b5"
      },
      "execution_count": null,
      "outputs": [
        {
          "output_type": "execute_result",
          "data": {
            "text/plain": [
              "array([[ 2,  0,  0,  0,  0,  0,  0,  0,  0,  0,  0,  0],\n",
              "       [ 0, 26,  0,  0,  0,  1,  0,  0,  0,  0,  0,  0],\n",
              "       [ 0,  1, 54,  2,  0,  0,  0,  0,  0,  0,  0,  0],\n",
              "       [ 0,  0,  0, 61,  2,  0,  1,  1,  0,  0,  0,  0],\n",
              "       [ 0,  0,  0,  4, 59,  0,  0,  0,  0,  0,  0,  0],\n",
              "       [ 0,  0,  3,  1,  0, 39,  0,  0,  0,  0,  0,  0],\n",
              "       [ 0,  0,  0,  0,  0,  0, 19,  0,  0,  0,  0,  0],\n",
              "       [ 0,  1,  0,  0,  0,  0,  0,  8,  0,  0,  0,  0],\n",
              "       [ 0,  1,  0,  0,  0,  0,  0,  0,  3,  0,  0,  0],\n",
              "       [ 0,  0,  0,  0,  0,  0,  0,  0,  0,  2,  0,  0],\n",
              "       [ 0,  0,  0,  0,  0,  0,  1,  0,  0,  0,  1,  0],\n",
              "       [ 0,  0,  0,  0,  0,  0,  0,  0,  0,  0,  0,  2]])"
            ]
          },
          "metadata": {},
          "execution_count": 139
        }
      ]
    },
    {
      "cell_type": "code",
      "source": [
        "from sklearn.metrics import accuracy_score\n",
        "\n",
        "accuracy_score(val_labels, pred)"
      ],
      "metadata": {
        "colab": {
          "base_uri": "https://localhost:8080/"
        },
        "id": "d0G4q3PDofXA",
        "outputId": "3c4aa67e-3dc7-4308-f424-dc3a594e2082"
      },
      "execution_count": null,
      "outputs": [
        {
          "output_type": "execute_result",
          "data": {
            "text/plain": [
              "0.9355932203389831"
            ]
          },
          "metadata": {},
          "execution_count": 140
        }
      ]
    },
    {
      "cell_type": "code",
      "source": [
        "from sklearn.metrics import f1_score\n",
        "\n",
        "f1_score(val_labels, pred, average='weighted')"
      ],
      "metadata": {
        "colab": {
          "base_uri": "https://localhost:8080/"
        },
        "id": "Msk17Ub_ojwi",
        "outputId": "40395cb6-a779-4987-84b9-4426e66bc026"
      },
      "execution_count": null,
      "outputs": [
        {
          "output_type": "execute_result",
          "data": {
            "text/plain": [
              "0.9351479489530575"
            ]
          },
          "metadata": {},
          "execution_count": 141
        }
      ]
    },
    {
      "cell_type": "markdown",
      "source": [
        "# Final Test"
      ],
      "metadata": {
        "id": "HKDSW2ukHhMT"
      }
    },
    {
      "cell_type": "markdown",
      "source": [
        "With the testing data, we are going to test the model"
      ],
      "metadata": {
        "id": "S4NachGZi2fD"
      }
    },
    {
      "cell_type": "code",
      "source": [
        "pred_test = model.predict(test_scaled)\n",
        "\n",
        "confusion_matrix(test_labels, pred_test)"
      ],
      "metadata": {
        "colab": {
          "base_uri": "https://localhost:8080/"
        },
        "id": "aejW2zjF_AOD",
        "outputId": "86847f05-9ed9-4338-e804-19e07c15d384"
      },
      "execution_count": null,
      "outputs": [
        {
          "output_type": "execute_result",
          "data": {
            "text/plain": [
              "array([[ 4,  0,  0,  0,  0,  0,  0,  0,  0,  0,  0,  0],\n",
              "       [ 0, 19,  0,  0,  0,  0,  0,  0,  0,  0,  0,  0],\n",
              "       [ 0,  3, 49,  2,  0,  0,  0,  0,  0,  0,  0,  0],\n",
              "       [ 0,  0,  2, 77,  1,  0,  0,  0,  0,  0,  0,  0],\n",
              "       [ 0,  0,  3,  8, 58,  0,  0,  0,  0,  0,  0,  0],\n",
              "       [ 0,  0,  0,  3,  2, 45,  0,  0,  0,  0,  0,  0],\n",
              "       [ 0,  0,  0,  1,  0,  0, 27,  0,  0,  0,  1,  0],\n",
              "       [ 0,  1,  0,  0,  0,  0,  0, 17,  0,  0,  0,  0],\n",
              "       [ 0,  0,  1,  1,  0,  0,  0,  0,  8,  0,  0,  0],\n",
              "       [ 0,  0,  0,  0,  0,  0,  0,  0,  0,  4,  0,  0],\n",
              "       [ 1,  1,  0,  0,  0,  0,  0,  0,  0,  0,  5,  0],\n",
              "       [ 0,  0,  1,  0,  0,  0,  0,  0,  0,  0,  0,  1]])"
            ]
          },
          "metadata": {},
          "execution_count": 142
        }
      ]
    },
    {
      "cell_type": "code",
      "source": [
        "accuracy_score(test_labels, pred_test)"
      ],
      "metadata": {
        "colab": {
          "base_uri": "https://localhost:8080/"
        },
        "id": "Ncy4TT3nHo6V",
        "outputId": "1903a751-d79b-4902-e08a-72747221cc05"
      },
      "execution_count": null,
      "outputs": [
        {
          "output_type": "execute_result",
          "data": {
            "text/plain": [
              "0.9075144508670521"
            ]
          },
          "metadata": {},
          "execution_count": 143
        }
      ]
    },
    {
      "cell_type": "code",
      "source": [
        "f1_score(test_labels, pred_test, average='weighted')"
      ],
      "metadata": {
        "colab": {
          "base_uri": "https://localhost:8080/"
        },
        "id": "r_iZUyL1OFIw",
        "outputId": "38e0a904-8888-4bc5-c635-25065360a8f6"
      },
      "execution_count": null,
      "outputs": [
        {
          "output_type": "execute_result",
          "data": {
            "text/plain": [
              "0.9077391345217027"
            ]
          },
          "metadata": {},
          "execution_count": 144
        }
      ]
    },
    {
      "cell_type": "markdown",
      "source": [
        "Great, the model seems to work. Maybe, we can verify it again with Cross Validation instead of Train-Test split"
      ],
      "metadata": {
        "id": "EnFhCIDBjGbm"
      }
    }
  ]
}