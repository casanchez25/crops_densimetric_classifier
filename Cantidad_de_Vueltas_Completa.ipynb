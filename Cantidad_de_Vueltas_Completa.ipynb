{
  "nbformat": 4,
  "nbformat_minor": 0,
  "metadata": {
    "colab": {
      "name": "Cantidad de Vueltas Completa.ipynb",
      "provenance": [],
      "mount_file_id": "1dD1GY4_Fn3Vqq7Sbqj9AxZwKbJk9699Z",
      "authorship_tag": "ABX9TyPyf9wgNYABwhOGlBrYWt+Q",
      "include_colab_link": true
    },
    "kernelspec": {
      "name": "python3",
      "display_name": "Python 3"
    },
    "language_info": {
      "name": "python"
    }
  },
  "cells": [
    {
      "cell_type": "markdown",
      "metadata": {
        "id": "view-in-github",
        "colab_type": "text"
      },
      "source": [
        "<a href=\"https://colab.research.google.com/github/casanchez25/turn_selection_classification/blob/main/Cantidad_de_Vueltas_Completa.ipynb\" target=\"_parent\"><img src=\"https://colab.research.google.com/assets/colab-badge.svg\" alt=\"Open In Colab\"/></a>"
      ]
    },
    {
      "cell_type": "code",
      "execution_count": null,
      "metadata": {
        "id": "BQ-7fzeAkNT5"
      },
      "outputs": [],
      "source": [
        "import numpy as np\n",
        "import pandas as pd\n",
        "import matplotlib.pyplot as plt\n",
        "import seaborn as sns\n",
        "\n",
        "plt.rcParams[\"figure.figsize\"] = [25.00, 10]\n"
      ]
    },
    {
      "cell_type": "code",
      "source": [
        "data_path = '/content/drive/MyDrive/db/M_C_P_DATA.xlsx'\n",
        "df= pd.read_excel(data_path, sheet_name='Densimetrica')"
      ],
      "metadata": {
        "id": "Uo1ck5R6k0gO"
      },
      "execution_count": null,
      "outputs": []
    },
    {
      "cell_type": "code",
      "source": [
        "df.drop(columns=['Observaciones'], inplace=True)\n",
        "df.dropna(inplace=True) #Comentarios"
      ],
      "metadata": {
        "id": "NqbUZa00l1_k"
      },
      "execution_count": null,
      "outputs": []
    },
    {
      "cell_type": "code",
      "source": [
        "df.nunique()"
      ],
      "metadata": {
        "colab": {
          "base_uri": "https://localhost:8080/"
        },
        "id": "C62_svK7mSyv",
        "outputId": "813cb2c3-6594-40cf-c9cd-f03371d5e0ab"
      },
      "execution_count": null,
      "outputs": [
        {
          "output_type": "execute_result",
          "data": {
            "text/plain": [
              "Orden                   485\n",
              "Preparación              25\n",
              "Calidad                  31\n",
              "QQs Netos               509\n",
              "Línea                     3\n",
              "Fecha                   228\n",
              "Turno                     4\n",
              "Analista                 11\n",
              "Operador                 17\n",
              "Hora                     76\n",
              "% entrada\\n(Trillo)     214\n",
              "Def. Prim.               54\n",
              "Def. Dens.               42\n",
              "Def. Otros              136\n",
              "Total Def.              335\n",
              "% de salida             363\n",
              "Def. Prim..1             65\n",
              "Def. Dens..1             41\n",
              "Def. Otros.1            160\n",
              "Total Def..1            371\n",
              "% de salida.1           388\n",
              "Def. Prim..2            124\n",
              "Def. Dens..2             62\n",
              "Def. Otros.2            315\n",
              "Total Def..2            682\n",
              "% de salida.2           654\n",
              "Prom % de salida       2026\n",
              "Prom % de Pérdida      2296\n",
              "Vueltas Ponderadas      355\n",
              "dtype: int64"
            ]
          },
          "metadata": {},
          "execution_count": 4
        }
      ]
    },
    {
      "cell_type": "code",
      "source": [
        "sns.barplot(data=df, x='Preparación', y='Vueltas Ponderadas', hue='Turno')\n",
        "plt.xticks(rotation=90)\n",
        "plt.show()"
      ],
      "metadata": {
        "colab": {
          "base_uri": "https://localhost:8080/",
          "height": 350
        },
        "id": "unhdonw0mgoJ",
        "outputId": "3ff4165e-8938-4f0c-c93f-86113e896011"
      },
      "execution_count": null,
      "outputs": [
        {
          "output_type": "display_data",
          "data": {
            "text/plain": [
              "<Figure size 432x288 with 1 Axes>"
            ],
            "image/png": "[encoded data removed]"
          },
          "metadata": {
            "needs_background": "light"
          }
        }
      ]
    },
    {
      "cell_type": "code",
      "source": [
        "columns = df.columns.to_list()\n",
        "columns[0:11]"
      ],
      "metadata": {
        "colab": {
          "base_uri": "https://localhost:8080/"
        },
        "id": "daPUeeVCm_YV",
        "outputId": "c19a6143-a453-4d47-a8cb-0814d5c6d75e"
      },
      "execution_count": null,
      "outputs": [
        {
          "output_type": "execute_result",
          "data": {
            "text/plain": [
              "['Orden',\n",
              " 'Preparación',\n",
              " 'Calidad',\n",
              " 'QQs Netos',\n",
              " 'Línea',\n",
              " 'Fecha',\n",
              " 'Turno',\n",
              " 'Analista',\n",
              " 'Operador',\n",
              " 'Hora',\n",
              " '% entrada\\n(Trillo)']"
            ]
          },
          "metadata": {},
          "execution_count": 6
        }
      ]
    },
    {
      "cell_type": "code",
      "source": [
        "columns[0:11]"
      ],
      "metadata": {
        "colab": {
          "base_uri": "https://localhost:8080/"
        },
        "id": "vJ07l6CWn42I",
        "outputId": "0895aa9d-e22a-4052-92a5-34355292bf4c"
      },
      "execution_count": null,
      "outputs": [
        {
          "output_type": "execute_result",
          "data": {
            "text/plain": [
              "['Orden',\n",
              " 'Preparación',\n",
              " 'Calidad',\n",
              " 'QQs Netos',\n",
              " 'Línea',\n",
              " 'Fecha',\n",
              " 'Turno',\n",
              " 'Analista',\n",
              " 'Operador',\n",
              " 'Hora',\n",
              " '% entrada\\n(Trillo)']"
            ]
          },
          "metadata": {},
          "execution_count": 7
        }
      ]
    },
    {
      "cell_type": "code",
      "source": [
        "df1=df[columns[0:11]+['Vueltas Ponderadas']]\n",
        "df1.drop(columns=['Orden'], inplace=True)"
      ],
      "metadata": {
        "id": "8HgBdQI_sE5y",
        "colab": {
          "base_uri": "https://localhost:8080/"
        },
        "outputId": "51dcdb31-b677-46b0-ae12-c01bc394568b"
      },
      "execution_count": null,
      "outputs": [
        {
          "output_type": "stream",
          "name": "stderr",
          "text": [
            "/usr/local/lib/python3.7/dist-packages/pandas/core/frame.py:4913: SettingWithCopyWarning: \n",
            "A value is trying to be set on a copy of a slice from a DataFrame\n",
            "\n",
            "See the caveats in the documentation: https://pandas.pydata.org/pandas-docs/stable/user_guide/indexing.html#returning-a-view-versus-a-copy\n",
            "  errors=errors,\n"
          ]
        }
      ]
    },
    {
      "cell_type": "code",
      "source": [
        "df1.rename(columns={'% entrada\\n(Trillo)':'%entrada'}, inplace=True)"
      ],
      "metadata": {
        "colab": {
          "base_uri": "https://localhost:8080/"
        },
        "id": "7U_GOPVgsVA3",
        "outputId": "e5f7e7c2-41aa-40fe-8b43-cd36eebc8046"
      },
      "execution_count": null,
      "outputs": [
        {
          "output_type": "stream",
          "name": "stderr",
          "text": [
            "/usr/local/lib/python3.7/dist-packages/pandas/core/frame.py:5047: SettingWithCopyWarning: \n",
            "A value is trying to be set on a copy of a slice from a DataFrame\n",
            "\n",
            "See the caveats in the documentation: https://pandas.pydata.org/pandas-docs/stable/user_guide/indexing.html#returning-a-view-versus-a-copy\n",
            "  errors=errors,\n"
          ]
        }
      ]
    },
    {
      "cell_type": "markdown",
      "source": [
        "Adding Date & Time values"
      ],
      "metadata": {
        "id": "YzyEkHhEssDI"
      }
    },
    {
      "cell_type": "code",
      "source": [
        "#df1['Hora']=df1['Hora'].astype(str)\n",
        "#df1['H']=df1['Hora'].astype(str).apply(lambda x: x.split(':')[0])\n",
        "#df1['minutes']=df1['Hora'].astype(str).apply(lambda x: x.split(':')[1])\n",
        "df1.drop(columns=['Hora'], inplace=True)"
      ],
      "metadata": {
        "colab": {
          "base_uri": "https://localhost:8080/"
        },
        "id": "xV0QMxcMtXb3",
        "outputId": "e35a9081-9b0a-434d-bc3d-c3a7598db16a"
      },
      "execution_count": null,
      "outputs": [
        {
          "output_type": "stream",
          "name": "stderr",
          "text": [
            "/usr/local/lib/python3.7/dist-packages/pandas/core/frame.py:4913: SettingWithCopyWarning: \n",
            "A value is trying to be set on a copy of a slice from a DataFrame\n",
            "\n",
            "See the caveats in the documentation: https://pandas.pydata.org/pandas-docs/stable/user_guide/indexing.html#returning-a-view-versus-a-copy\n",
            "  errors=errors,\n"
          ]
        }
      ]
    },
    {
      "cell_type": "code",
      "source": [
        "def date_feats(df1):\n",
        "  df1['month']=df1['Fecha'].dt.month\n",
        "  df1['year']=df1['Fecha'].dt.year\n",
        "  df1['day']=df1['Fecha'].dt.day\n",
        "  df1['week']=df1['Fecha'].dt.week\n",
        "  df1['weekday']=df1['Fecha'].dt.dayofweek\n",
        "  df1['yearday']=df1['Fecha'].dt.dayofyear\n",
        "  df1['quarter']=df1['Fecha'].dt.quarter\n",
        "  df1['start_month']=df1['Fecha'].dt.is_month_start\n",
        "  df1['end_month']=df1['Fecha'].dt.is_month_end\n",
        "  df1['start_month']=df1['start_month'].apply(lambda x: 1 if True else 0)\n",
        "  df1['end_month']=df1['end_month'].apply(lambda x: 1 if True else 0)\n",
        "  df1.drop(columns=['Fecha'], inplace=True)\n",
        "  return df1"
      ],
      "metadata": {
        "id": "S2cQi96HwcMb"
      },
      "execution_count": null,
      "outputs": []
    },
    {
      "cell_type": "code",
      "source": [
        "df1= date_feats(df1)"
      ],
      "metadata": {
        "colab": {
          "base_uri": "https://localhost:8080/"
        },
        "id": "RuYCJU6Swt8A",
        "outputId": "2bb03bb7-f9cf-4c0c-b05f-e8a08b95ab08"
      },
      "execution_count": null,
      "outputs": [
        {
          "output_type": "stream",
          "name": "stderr",
          "text": [
            "/usr/local/lib/python3.7/dist-packages/ipykernel_launcher.py:2: SettingWithCopyWarning: \n",
            "A value is trying to be set on a copy of a slice from a DataFrame.\n",
            "Try using .loc[row_indexer,col_indexer] = value instead\n",
            "\n",
            "See the caveats in the documentation: https://pandas.pydata.org/pandas-docs/stable/user_guide/indexing.html#returning-a-view-versus-a-copy\n",
            "  \n",
            "/usr/local/lib/python3.7/dist-packages/ipykernel_launcher.py:3: SettingWithCopyWarning: \n",
            "A value is trying to be set on a copy of a slice from a DataFrame.\n",
            "Try using .loc[row_indexer,col_indexer] = value instead\n",
            "\n",
            "See the caveats in the documentation: https://pandas.pydata.org/pandas-docs/stable/user_guide/indexing.html#returning-a-view-versus-a-copy\n",
            "  This is separate from the ipykernel package so we can avoid doing imports until\n",
            "/usr/local/lib/python3.7/dist-packages/ipykernel_launcher.py:4: SettingWithCopyWarning: \n",
            "A value is trying to be set on a copy of a slice from a DataFrame.\n",
            "Try using .loc[row_indexer,col_indexer] = value instead\n",
            "\n",
            "See the caveats in the documentation: https://pandas.pydata.org/pandas-docs/stable/user_guide/indexing.html#returning-a-view-versus-a-copy\n",
            "  after removing the cwd from sys.path.\n",
            "/usr/local/lib/python3.7/dist-packages/ipykernel_launcher.py:5: FutureWarning: Series.dt.weekofyear and Series.dt.week have been deprecated.  Please use Series.dt.isocalendar().week instead.\n",
            "  \"\"\"\n",
            "/usr/local/lib/python3.7/dist-packages/ipykernel_launcher.py:5: SettingWithCopyWarning: \n",
            "A value is trying to be set on a copy of a slice from a DataFrame.\n",
            "Try using .loc[row_indexer,col_indexer] = value instead\n",
            "\n",
            "See the caveats in the documentation: https://pandas.pydata.org/pandas-docs/stable/user_guide/indexing.html#returning-a-view-versus-a-copy\n",
            "  \"\"\"\n",
            "/usr/local/lib/python3.7/dist-packages/ipykernel_launcher.py:6: SettingWithCopyWarning: \n",
            "A value is trying to be set on a copy of a slice from a DataFrame.\n",
            "Try using .loc[row_indexer,col_indexer] = value instead\n",
            "\n",
            "See the caveats in the documentation: https://pandas.pydata.org/pandas-docs/stable/user_guide/indexing.html#returning-a-view-versus-a-copy\n",
            "  \n",
            "/usr/local/lib/python3.7/dist-packages/ipykernel_launcher.py:7: SettingWithCopyWarning: \n",
            "A value is trying to be set on a copy of a slice from a DataFrame.\n",
            "Try using .loc[row_indexer,col_indexer] = value instead\n",
            "\n",
            "See the caveats in the documentation: https://pandas.pydata.org/pandas-docs/stable/user_guide/indexing.html#returning-a-view-versus-a-copy\n",
            "  import sys\n",
            "/usr/local/lib/python3.7/dist-packages/ipykernel_launcher.py:8: SettingWithCopyWarning: \n",
            "A value is trying to be set on a copy of a slice from a DataFrame.\n",
            "Try using .loc[row_indexer,col_indexer] = value instead\n",
            "\n",
            "See the caveats in the documentation: https://pandas.pydata.org/pandas-docs/stable/user_guide/indexing.html#returning-a-view-versus-a-copy\n",
            "  \n",
            "/usr/local/lib/python3.7/dist-packages/ipykernel_launcher.py:9: SettingWithCopyWarning: \n",
            "A value is trying to be set on a copy of a slice from a DataFrame.\n",
            "Try using .loc[row_indexer,col_indexer] = value instead\n",
            "\n",
            "See the caveats in the documentation: https://pandas.pydata.org/pandas-docs/stable/user_guide/indexing.html#returning-a-view-versus-a-copy\n",
            "  if __name__ == '__main__':\n",
            "/usr/local/lib/python3.7/dist-packages/ipykernel_launcher.py:10: SettingWithCopyWarning: \n",
            "A value is trying to be set on a copy of a slice from a DataFrame.\n",
            "Try using .loc[row_indexer,col_indexer] = value instead\n",
            "\n",
            "See the caveats in the documentation: https://pandas.pydata.org/pandas-docs/stable/user_guide/indexing.html#returning-a-view-versus-a-copy\n",
            "  # Remove the CWD from sys.path while we load stuff.\n",
            "/usr/local/lib/python3.7/dist-packages/ipykernel_launcher.py:11: SettingWithCopyWarning: \n",
            "A value is trying to be set on a copy of a slice from a DataFrame.\n",
            "Try using .loc[row_indexer,col_indexer] = value instead\n",
            "\n",
            "See the caveats in the documentation: https://pandas.pydata.org/pandas-docs/stable/user_guide/indexing.html#returning-a-view-versus-a-copy\n",
            "  # This is added back by InteractiveShellApp.init_path()\n",
            "/usr/local/lib/python3.7/dist-packages/ipykernel_launcher.py:12: SettingWithCopyWarning: \n",
            "A value is trying to be set on a copy of a slice from a DataFrame.\n",
            "Try using .loc[row_indexer,col_indexer] = value instead\n",
            "\n",
            "See the caveats in the documentation: https://pandas.pydata.org/pandas-docs/stable/user_guide/indexing.html#returning-a-view-versus-a-copy\n",
            "  if sys.path[0] == '':\n",
            "/usr/local/lib/python3.7/dist-packages/pandas/core/frame.py:4913: SettingWithCopyWarning: \n",
            "A value is trying to be set on a copy of a slice from a DataFrame\n",
            "\n",
            "See the caveats in the documentation: https://pandas.pydata.org/pandas-docs/stable/user_guide/indexing.html#returning-a-view-versus-a-copy\n",
            "  errors=errors,\n"
          ]
        }
      ]
    },
    {
      "cell_type": "markdown",
      "source": [
        "# Labeling\n"
      ],
      "metadata": {
        "id": "SbC1rAZvzDXv"
      }
    },
    {
      "cell_type": "code",
      "source": [
        "df1"
      ],
      "metadata": {
        "colab": {
          "base_uri": "https://localhost:8080/",
          "height": 650
        },
        "id": "D3r2G7vpy77L",
        "outputId": "4c06bb6b-5fc7-41fd-a458-15d2d5ac108f"
      },
      "execution_count": null,
      "outputs": [
        {
          "output_type": "execute_result",
          "data": {
            "text/plain": [
              "     Preparación    Calidad QQs Netos    Línea    Turno Analista    Operador  \\\n",
              "0        Love 16  Lift Leve    973.54  Línea 2  Turno 1  Juan S.     Michael   \n",
              "1        Love 16  Lift Leve    973.54  Línea 2  Turno 1  Juan S.     Michael   \n",
              "2        Love 16  Lift Leve    973.54  Línea 2  Turno 1  Juan S.     Michael   \n",
              "3        Love 16  Lift Leve    973.54  Línea 2  Turno 1  Juan S.     Michael   \n",
              "4        Love 16  Lift Leve    973.54  Línea 2  Turno 1  Juan S.     Michael   \n",
              "...          ...        ...       ...      ...      ...      ...         ...   \n",
              "2343  Wagon Type      Lift     428.65  Línea 2  Turno 1  Juan S.  Michaell F   \n",
              "2344  Wagon Type      Lift     428.65  Línea 2  Turno 1  Juan S.  Michaell F   \n",
              "2345  Wagon Type    DamLeve    834.91  Línea 2  Turno 1  Juan S.  Michaell F   \n",
              "2346  Wagon Type    DamLeve    834.91  Línea 2  Turno 1  Juan S.  Michaell F   \n",
              "2347  Wagon Type      Lift     834.91  Línea 2  Turno 1  Juan S.  Michaell F   \n",
              "\n",
              "      %entrada  Vueltas Ponderadas  month  year  day  week  weekday  yearday  \\\n",
              "0        0.061            7.512796     10  2020    5    41        0      279   \n",
              "1        0.060            7.512796     10  2020    6    41        1      280   \n",
              "2        0.059            7.512796     10  2020    6    41        1      280   \n",
              "3        0.074            7.512796     10  2020    6    41        1      280   \n",
              "4        0.081            7.512796     10  2020    7    41        2      281   \n",
              "...        ...                 ...    ...   ...  ...   ...      ...      ...   \n",
              "2343     0.076            3.000000      8  2021   27    34        4      239   \n",
              "2344     0.116            3.000000      8  2021   28    34        5      240   \n",
              "2345     0.076            2.000000      8  2021   28    34        5      240   \n",
              "2346     0.061            2.000000      8  2021   28    34        5      240   \n",
              "2347     0.068            2.000000      8  2021   30    35        0      242   \n",
              "\n",
              "      quarter  start_month  end_month  \n",
              "0           4            1          1  \n",
              "1           4            1          1  \n",
              "2           4            1          1  \n",
              "3           4            1          1  \n",
              "4           4            1          1  \n",
              "...       ...          ...        ...  \n",
              "2343        3            1          1  \n",
              "2344        3            1          1  \n",
              "2345        3            1          1  \n",
              "2346        3            1          1  \n",
              "2347        3            1          1  \n",
              "\n",
              "[2348 rows x 18 columns]"
            ],
            "text/html": [
              "\n",
              "  <div id=\"df-11ad8b6b-0c47-442c-9ece-8d22faf63c14\">\n",
              "    <div class=\"colab-df-container\">\n",
              "      <div>\n",
              "<style scoped>\n",
              "    .dataframe tbody tr th:only-of-type {\n",
              "        vertical-align: middle;\n",
              "    }\n",
              "\n",
              "    .dataframe tbody tr th {\n",
              "        vertical-align: top;\n",
              "    }\n",
              "\n",
              "    .dataframe thead th {\n",
              "        text-align: right;\n",
              "    }\n",
              "</style>\n",
              "<table border=\"1\" class=\"dataframe\">\n",
              "  <thead>\n",
              "    <tr style=\"text-align: right;\">\n",
              "      <th></th>\n",
              "      <th>Preparación</th>\n",
              "      <th>Calidad</th>\n",
              "      <th>QQs Netos</th>\n",
              "      <th>Línea</th>\n",
              "      <th>Turno</th>\n",
              "      <th>Analista</th>\n",
              "      <th>Operador</th>\n",
              "      <th>%entrada</th>\n",
              "      <th>Vueltas Ponderadas</th>\n",
              "      <th>month</th>\n",
              "      <th>year</th>\n",
              "      <th>day</th>\n",
              "      <th>week</th>\n",
              "      <th>weekday</th>\n",
              "      <th>yearday</th>\n",
              "      <th>quarter</th>\n",
              "      <th>start_month</th>\n",
              "      <th>end_month</th>\n",
              "    </tr>\n",
              "  </thead>\n",
              "  <tbody>\n",
              "    <tr>\n",
              "      <th>0</th>\n",
              "      <td>Love 16</td>\n",
              "      <td>Lift Leve</td>\n",
              "      <td>973.54</td>\n",
              "      <td>Línea 2</td>\n",
              "      <td>Turno 1</td>\n",
              "      <td>Juan S.</td>\n",
              "      <td>Michael</td>\n",
              "      <td>0.061</td>\n",
              "      <td>7.512796</td>\n",
              "      <td>10</td>\n",
              "      <td>2020</td>\n",
              "      <td>5</td>\n",
              "      <td>41</td>\n",
              "      <td>0</td>\n",
              "      <td>279</td>\n",
              "      <td>4</td>\n",
              "      <td>1</td>\n",
              "      <td>1</td>\n",
              "    </tr>\n",
              "    <tr>\n",
              "      <th>1</th>\n",
              "      <td>Love 16</td>\n",
              "      <td>Lift Leve</td>\n",
              "      <td>973.54</td>\n",
              "      <td>Línea 2</td>\n",
              "      <td>Turno 1</td>\n",
              "      <td>Juan S.</td>\n",
              "      <td>Michael</td>\n",
              "      <td>0.060</td>\n",
              "      <td>7.512796</td>\n",
              "      <td>10</td>\n",
              "      <td>2020</td>\n",
              "      <td>6</td>\n",
              "      <td>41</td>\n",
              "      <td>1</td>\n",
              "      <td>280</td>\n",
              "      <td>4</td>\n",
              "      <td>1</td>\n",
              "      <td>1</td>\n",
              "    </tr>\n",
              "    <tr>\n",
              "      <th>2</th>\n",
              "      <td>Love 16</td>\n",
              "      <td>Lift Leve</td>\n",
              "      <td>973.54</td>\n",
              "      <td>Línea 2</td>\n",
              "      <td>Turno 1</td>\n",
              "      <td>Juan S.</td>\n",
              "      <td>Michael</td>\n",
              "      <td>0.059</td>\n",
              "      <td>7.512796</td>\n",
              "      <td>10</td>\n",
              "      <td>2020</td>\n",
              "      <td>6</td>\n",
              "      <td>41</td>\n",
              "      <td>1</td>\n",
              "      <td>280</td>\n",
              "      <td>4</td>\n",
              "      <td>1</td>\n",
              "      <td>1</td>\n",
              "    </tr>\n",
              "    <tr>\n",
              "      <th>3</th>\n",
              "      <td>Love 16</td>\n",
              "      <td>Lift Leve</td>\n",
              "      <td>973.54</td>\n",
              "      <td>Línea 2</td>\n",
              "      <td>Turno 1</td>\n",
              "      <td>Juan S.</td>\n",
              "      <td>Michael</td>\n",
              "      <td>0.074</td>\n",
              "      <td>7.512796</td>\n",
              "      <td>10</td>\n",
              "      <td>2020</td>\n",
              "      <td>6</td>\n",
              "      <td>41</td>\n",
              "      <td>1</td>\n",
              "      <td>280</td>\n",
              "      <td>4</td>\n",
              "      <td>1</td>\n",
              "      <td>1</td>\n",
              "    </tr>\n",
              "    <tr>\n",
              "      <th>4</th>\n",
              "      <td>Love 16</td>\n",
              "      <td>Lift Leve</td>\n",
              "      <td>973.54</td>\n",
              "      <td>Línea 2</td>\n",
              "      <td>Turno 1</td>\n",
              "      <td>Juan S.</td>\n",
              "      <td>Michael</td>\n",
              "      <td>0.081</td>\n",
              "      <td>7.512796</td>\n",
              "      <td>10</td>\n",
              "      <td>2020</td>\n",
              "      <td>7</td>\n",
              "      <td>41</td>\n",
              "      <td>2</td>\n",
              "      <td>281</td>\n",
              "      <td>4</td>\n",
              "      <td>1</td>\n",
              "      <td>1</td>\n",
              "    </tr>\n",
              "    <tr>\n",
              "      <th>...</th>\n",
              "      <td>...</td>\n",
              "      <td>...</td>\n",
              "      <td>...</td>\n",
              "      <td>...</td>\n",
              "      <td>...</td>\n",
              "      <td>...</td>\n",
              "      <td>...</td>\n",
              "      <td>...</td>\n",
              "      <td>...</td>\n",
              "      <td>...</td>\n",
              "      <td>...</td>\n",
              "      <td>...</td>\n",
              "      <td>...</td>\n",
              "      <td>...</td>\n",
              "      <td>...</td>\n",
              "      <td>...</td>\n",
              "      <td>...</td>\n",
              "      <td>...</td>\n",
              "    </tr>\n",
              "    <tr>\n",
              "      <th>2343</th>\n",
              "      <td>Wagon Type</td>\n",
              "      <td>Lift</td>\n",
              "      <td>428.65</td>\n",
              "      <td>Línea 2</td>\n",
              "      <td>Turno 1</td>\n",
              "      <td>Juan S.</td>\n",
              "      <td>Michaell F</td>\n",
              "      <td>0.076</td>\n",
              "      <td>3.000000</td>\n",
              "      <td>8</td>\n",
              "      <td>2021</td>\n",
              "      <td>27</td>\n",
              "      <td>34</td>\n",
              "      <td>4</td>\n",
              "      <td>239</td>\n",
              "      <td>3</td>\n",
              "      <td>1</td>\n",
              "      <td>1</td>\n",
              "    </tr>\n",
              "    <tr>\n",
              "      <th>2344</th>\n",
              "      <td>Wagon Type</td>\n",
              "      <td>Lift</td>\n",
              "      <td>428.65</td>\n",
              "      <td>Línea 2</td>\n",
              "      <td>Turno 1</td>\n",
              "      <td>Juan S.</td>\n",
              "      <td>Michaell F</td>\n",
              "      <td>0.116</td>\n",
              "      <td>3.000000</td>\n",
              "      <td>8</td>\n",
              "      <td>2021</td>\n",
              "      <td>28</td>\n",
              "      <td>34</td>\n",
              "      <td>5</td>\n",
              "      <td>240</td>\n",
              "      <td>3</td>\n",
              "      <td>1</td>\n",
              "      <td>1</td>\n",
              "    </tr>\n",
              "    <tr>\n",
              "      <th>2345</th>\n",
              "      <td>Wagon Type</td>\n",
              "      <td>DamLeve</td>\n",
              "      <td>834.91</td>\n",
              "      <td>Línea 2</td>\n",
              "      <td>Turno 1</td>\n",
              "      <td>Juan S.</td>\n",
              "      <td>Michaell F</td>\n",
              "      <td>0.076</td>\n",
              "      <td>2.000000</td>\n",
              "      <td>8</td>\n",
              "      <td>2021</td>\n",
              "      <td>28</td>\n",
              "      <td>34</td>\n",
              "      <td>5</td>\n",
              "      <td>240</td>\n",
              "      <td>3</td>\n",
              "      <td>1</td>\n",
              "      <td>1</td>\n",
              "    </tr>\n",
              "    <tr>\n",
              "      <th>2346</th>\n",
              "      <td>Wagon Type</td>\n",
              "      <td>DamLeve</td>\n",
              "      <td>834.91</td>\n",
              "      <td>Línea 2</td>\n",
              "      <td>Turno 1</td>\n",
              "      <td>Juan S.</td>\n",
              "      <td>Michaell F</td>\n",
              "      <td>0.061</td>\n",
              "      <td>2.000000</td>\n",
              "      <td>8</td>\n",
              "      <td>2021</td>\n",
              "      <td>28</td>\n",
              "      <td>34</td>\n",
              "      <td>5</td>\n",
              "      <td>240</td>\n",
              "      <td>3</td>\n",
              "      <td>1</td>\n",
              "      <td>1</td>\n",
              "    </tr>\n",
              "    <tr>\n",
              "      <th>2347</th>\n",
              "      <td>Wagon Type</td>\n",
              "      <td>Lift</td>\n",
              "      <td>834.91</td>\n",
              "      <td>Línea 2</td>\n",
              "      <td>Turno 1</td>\n",
              "      <td>Juan S.</td>\n",
              "      <td>Michaell F</td>\n",
              "      <td>0.068</td>\n",
              "      <td>2.000000</td>\n",
              "      <td>8</td>\n",
              "      <td>2021</td>\n",
              "      <td>30</td>\n",
              "      <td>35</td>\n",
              "      <td>0</td>\n",
              "      <td>242</td>\n",
              "      <td>3</td>\n",
              "      <td>1</td>\n",
              "      <td>1</td>\n",
              "    </tr>\n",
              "  </tbody>\n",
              "</table>\n",
              "<p>2348 rows × 18 columns</p>\n",
              "</div>\n",
              "      <button class=\"colab-df-convert\" onclick=\"convertToInteractive('df-11ad8b6b-0c47-442c-9ece-8d22faf63c14')\"\n",
              "              title=\"Convert this dataframe to an interactive table.\"\n",
              "              style=\"display:none;\">\n",
              "        \n",
              "  <svg xmlns=\"http://www.w3.org/2000/svg\" height=\"24px\"viewBox=\"0 0 24 24\"\n",
              "       width=\"24px\">\n",
              "    <path d=\"M0 0h24v24H0V0z\" fill=\"none\"/>\n",
              "    <path d=\"M18.56 5.44l.94 2.06.94-2.06 2.06-.94-2.06-.94-.94-2.06-.94 2.06-2.06.94zm-11 1L8.5 8.5l.94-2.06 2.06-.94-2.06-.94L8.5 2.5l-.94 2.06-2.06.94zm10 10l.94 2.06.94-2.06 2.06-.94-2.06-.94-.94-2.06-.94 2.06-2.06.94z\"/><path d=\"M17.41 7.96l-1.37-1.37c-.4-.4-.92-.59-1.43-.59-.52 0-1.04.2-1.43.59L10.3 9.45l-7.72 7.72c-.78.78-.78 2.05 0 2.83L4 21.41c.39.39.9.59 1.41.59.51 0 1.02-.2 1.41-.59l7.78-7.78 2.81-2.81c.8-.78.8-2.07 0-2.86zM5.41 20L4 18.59l7.72-7.72 1.47 1.35L5.41 20z\"/>\n",
              "  </svg>\n",
              "      </button>\n",
              "      \n",
              "  <style>\n",
              "    .colab-df-container {\n",
              "      display:flex;\n",
              "      flex-wrap:wrap;\n",
              "      gap: 12px;\n",
              "    }\n",
              "\n",
              "    .colab-df-convert {\n",
              "      background-color: #E8F0FE;\n",
              "      border: none;\n",
              "      border-radius: 50%;\n",
              "      cursor: pointer;\n",
              "      display: none;\n",
              "      fill: #1967D2;\n",
              "      height: 32px;\n",
              "      padding: 0 0 0 0;\n",
              "      width: 32px;\n",
              "    }\n",
              "\n",
              "    .colab-df-convert:hover {\n",
              "      background-color: #E2EBFA;\n",
              "      box-shadow: 0px 1px 2px rgba(60, 64, 67, 0.3), 0px 1px 3px 1px rgba(60, 64, 67, 0.15);\n",
              "      fill: #174EA6;\n",
              "    }\n",
              "\n",
              "    [theme=dark] .colab-df-convert {\n",
              "      background-color: #3B4455;\n",
              "      fill: #D2E3FC;\n",
              "    }\n",
              "\n",
              "    [theme=dark] .colab-df-convert:hover {\n",
              "      background-color: #434B5C;\n",
              "      box-shadow: 0px 1px 3px 1px rgba(0, 0, 0, 0.15);\n",
              "      filter: drop-shadow(0px 1px 2px rgba(0, 0, 0, 0.3));\n",
              "      fill: #FFFFFF;\n",
              "    }\n",
              "  </style>\n",
              "\n",
              "      <script>\n",
              "        const buttonEl =\n",
              "          document.querySelector('#df-11ad8b6b-0c47-442c-9ece-8d22faf63c14 button.colab-df-convert');\n",
              "        buttonEl.style.display =\n",
              "          google.colab.kernel.accessAllowed ? 'block' : 'none';\n",
              "\n",
              "        async function convertToInteractive(key) {\n",
              "          const element = document.querySelector('#df-11ad8b6b-0c47-442c-9ece-8d22faf63c14');\n",
              "          const dataTable =\n",
              "            await google.colab.kernel.invokeFunction('convertToInteractive',\n",
              "                                                     [key], {});\n",
              "          if (!dataTable) return;\n",
              "\n",
              "          const docLinkHtml = 'Like what you see? Visit the ' +\n",
              "            '<a target=\"_blank\" href=https://colab.research.google.com/notebooks/data_table.ipynb>data table notebook</a>'\n",
              "            + ' to learn more about interactive tables.';\n",
              "          element.innerHTML = '';\n",
              "          dataTable['output_type'] = 'display_data';\n",
              "          await google.colab.output.renderOutput(dataTable, element);\n",
              "          const docLink = document.createElement('div');\n",
              "          docLink.innerHTML = docLinkHtml;\n",
              "          element.appendChild(docLink);\n",
              "        }\n",
              "      </script>\n",
              "    </div>\n",
              "  </div>\n",
              "  "
            ]
          },
          "metadata": {},
          "execution_count": 13
        }
      ]
    },
    {
      "cell_type": "code",
      "source": [
        "def label_encoding(df1):\n",
        "  #Operador labeling\n",
        "  operador_list =df1['Operador'].unique()\n",
        "  operador_dict = {operador_list[i]:i for i in range(len(operador_list))}\n",
        "  df1['Operador']=df1['Operador'].apply(lambda x: operador_dict.get(x))\n",
        "\n",
        "  #Preparación labeling\n",
        "  preparacion_list =df1['Preparación'].unique()\n",
        "  preparacion_dict = {preparacion_list[i]:i for i in range(len(preparacion_list))}\n",
        "  df1['Preparación']=df1['Preparación'].apply(lambda x: preparacion_dict.get(x))\n",
        "\n",
        "  #Calidad labels\n",
        "  calidad_list =df1['Calidad'].unique()\n",
        "  calidad_dict = {calidad_list[i]:i for i in range(len(calidad_list))}\n",
        "  df1['Calidad']=df1['Calidad'].apply(lambda x: calidad_dict.get(x))\n",
        "\n",
        "  #Analista labeling\n",
        "  analista_list =df1['Analista'].unique()\n",
        "  analista_dict = {analista_list[i]:i for i in range(len(analista_list))}\n",
        "  df1['Analista']=df1['Analista'].apply(lambda x: analista_dict.get(x))\n",
        "\n",
        "  #Turno Labeling\n",
        "  turno_list =df1['Turno'].unique()\n",
        "  turno_dict = {turno_list[i]:i for i in range(len(turno_list))}\n",
        "  df1['Turno']=df1['Turno'].apply(lambda x: turno_dict.get(x))\n",
        "\n",
        "  #Línea Labeling\n",
        "  linea_list =df1['Línea'].unique()\n",
        "  linea_dict = {linea_list[i]:i for i in range(len(linea_list))}\n",
        "  df1['Línea']=df1['Línea'].apply(lambda x: linea_dict.get(x))\n",
        "\n",
        "  return df1\n"
      ],
      "metadata": {
        "id": "Sl7sSsWngrl7"
      },
      "execution_count": null,
      "outputs": []
    },
    {
      "cell_type": "code",
      "source": [
        "df1 = label_encoding(df1)"
      ],
      "metadata": {
        "colab": {
          "base_uri": "https://localhost:8080/"
        },
        "id": "KCvrjJjfhSyF",
        "outputId": "b6dcb61c-b2cb-487a-88bf-d6cc2a1ffe90"
      },
      "execution_count": null,
      "outputs": [
        {
          "output_type": "stream",
          "name": "stderr",
          "text": [
            "/usr/local/lib/python3.7/dist-packages/ipykernel_launcher.py:5: SettingWithCopyWarning: \n",
            "A value is trying to be set on a copy of a slice from a DataFrame.\n",
            "Try using .loc[row_indexer,col_indexer] = value instead\n",
            "\n",
            "See the caveats in the documentation: https://pandas.pydata.org/pandas-docs/stable/user_guide/indexing.html#returning-a-view-versus-a-copy\n",
            "  \"\"\"\n",
            "/usr/local/lib/python3.7/dist-packages/ipykernel_launcher.py:10: SettingWithCopyWarning: \n",
            "A value is trying to be set on a copy of a slice from a DataFrame.\n",
            "Try using .loc[row_indexer,col_indexer] = value instead\n",
            "\n",
            "See the caveats in the documentation: https://pandas.pydata.org/pandas-docs/stable/user_guide/indexing.html#returning-a-view-versus-a-copy\n",
            "  # Remove the CWD from sys.path while we load stuff.\n",
            "/usr/local/lib/python3.7/dist-packages/ipykernel_launcher.py:15: SettingWithCopyWarning: \n",
            "A value is trying to be set on a copy of a slice from a DataFrame.\n",
            "Try using .loc[row_indexer,col_indexer] = value instead\n",
            "\n",
            "See the caveats in the documentation: https://pandas.pydata.org/pandas-docs/stable/user_guide/indexing.html#returning-a-view-versus-a-copy\n",
            "  from ipykernel import kernelapp as app\n",
            "/usr/local/lib/python3.7/dist-packages/ipykernel_launcher.py:20: SettingWithCopyWarning: \n",
            "A value is trying to be set on a copy of a slice from a DataFrame.\n",
            "Try using .loc[row_indexer,col_indexer] = value instead\n",
            "\n",
            "See the caveats in the documentation: https://pandas.pydata.org/pandas-docs/stable/user_guide/indexing.html#returning-a-view-versus-a-copy\n",
            "/usr/local/lib/python3.7/dist-packages/ipykernel_launcher.py:25: SettingWithCopyWarning: \n",
            "A value is trying to be set on a copy of a slice from a DataFrame.\n",
            "Try using .loc[row_indexer,col_indexer] = value instead\n",
            "\n",
            "See the caveats in the documentation: https://pandas.pydata.org/pandas-docs/stable/user_guide/indexing.html#returning-a-view-versus-a-copy\n",
            "/usr/local/lib/python3.7/dist-packages/ipykernel_launcher.py:30: SettingWithCopyWarning: \n",
            "A value is trying to be set on a copy of a slice from a DataFrame.\n",
            "Try using .loc[row_indexer,col_indexer] = value instead\n",
            "\n",
            "See the caveats in the documentation: https://pandas.pydata.org/pandas-docs/stable/user_guide/indexing.html#returning-a-view-versus-a-copy\n"
          ]
        }
      ]
    },
    {
      "cell_type": "code",
      "source": [
        "#df1=df1[['Preparación', 'Calidad', 'Línea', 'Turno','Analista','Operador', 'H', 'minutes','month','day','week','weekday','yearday','quarter','start_month','end_month','QQs Netos', '%entrada', 'Vueltas Ponderadas']]\n",
        "df1=df1[['Preparación', 'Calidad', 'Línea', 'Turno','Analista','Operador','month','day','week','weekday','yearday','quarter','start_month','end_month','QQs Netos', '%entrada', 'Vueltas Ponderadas']]"
      ],
      "metadata": {
        "id": "UddTRBmt1MJS"
      },
      "execution_count": null,
      "outputs": []
    },
    {
      "cell_type": "code",
      "source": [
        "df1['Vueltas Ponderadas']=df1['Vueltas Ponderadas'].apply(lambda x: round(x))"
      ],
      "metadata": {
        "id": "gbvpUHs01Uph",
        "colab": {
          "base_uri": "https://localhost:8080/"
        },
        "outputId": "91ebeca2-b0cc-49f4-8005-2d254bc1ef2a"
      },
      "execution_count": null,
      "outputs": [
        {
          "output_type": "stream",
          "name": "stderr",
          "text": [
            "/usr/local/lib/python3.7/dist-packages/ipykernel_launcher.py:1: SettingWithCopyWarning: \n",
            "A value is trying to be set on a copy of a slice from a DataFrame.\n",
            "Try using .loc[row_indexer,col_indexer] = value instead\n",
            "\n",
            "See the caveats in the documentation: https://pandas.pydata.org/pandas-docs/stable/user_guide/indexing.html#returning-a-view-versus-a-copy\n",
            "  \"\"\"Entry point for launching an IPython kernel.\n"
          ]
        }
      ]
    },
    {
      "cell_type": "code",
      "source": [
        "df1['QQs Netos']=df1['QQs Netos'].apply(lambda x: np.nan if x =='30.10.94' else x) #Registry error. It was found meanwhile training the algorithm\n",
        "df1['QQs Netos']=df1['QQs Netos'].astype(float)"
      ],
      "metadata": {
        "id": "eYgADKni46w2",
        "colab": {
          "base_uri": "https://localhost:8080/"
        },
        "outputId": "2476a239-4f45-484e-99d0-ba3874974229"
      },
      "execution_count": null,
      "outputs": [
        {
          "output_type": "stream",
          "name": "stderr",
          "text": [
            "/usr/local/lib/python3.7/dist-packages/ipykernel_launcher.py:1: SettingWithCopyWarning: \n",
            "A value is trying to be set on a copy of a slice from a DataFrame.\n",
            "Try using .loc[row_indexer,col_indexer] = value instead\n",
            "\n",
            "See the caveats in the documentation: https://pandas.pydata.org/pandas-docs/stable/user_guide/indexing.html#returning-a-view-versus-a-copy\n",
            "  \"\"\"Entry point for launching an IPython kernel.\n",
            "/usr/local/lib/python3.7/dist-packages/ipykernel_launcher.py:2: SettingWithCopyWarning: \n",
            "A value is trying to be set on a copy of a slice from a DataFrame.\n",
            "Try using .loc[row_indexer,col_indexer] = value instead\n",
            "\n",
            "See the caveats in the documentation: https://pandas.pydata.org/pandas-docs/stable/user_guide/indexing.html#returning-a-view-versus-a-copy\n",
            "  \n"
          ]
        }
      ]
    },
    {
      "cell_type": "markdown",
      "source": [
        "Verifying the output distribution"
      ],
      "metadata": {
        "id": "B78IvM33kaw_"
      }
    },
    {
      "cell_type": "code",
      "source": [
        "df1['Vueltas Ponderadas'].hist()"
      ],
      "metadata": {
        "colab": {
          "base_uri": "https://localhost:8080/",
          "height": 286
        },
        "id": "ZGAmNCE29VEv",
        "outputId": "c3e4e1fc-ba2b-41dc-cf41-9064ef1df594"
      },
      "execution_count": null,
      "outputs": [
        {
          "output_type": "execute_result",
          "data": {
            "text/plain": [
              "<matplotlib.axes._subplots.AxesSubplot at 0x7ff0074a6fd0>"
            ]
          },
          "metadata": {},
          "execution_count": 19
        },
        {
          "output_type": "display_data",
          "data": {
            "text/plain": [
              "<Figure size 432x288 with 1 Axes>"
            ],
            "image/png": "[encoded data removed]"
          },
          "metadata": {
            "needs_background": "light"
          }
        }
      ]
    },
    {
      "cell_type": "markdown",
      "source": [
        "We can drop the output beyond 12, because they are considered outliers in the company"
      ],
      "metadata": {
        "id": "dxPQaZS_84Kl"
      }
    },
    {
      "cell_type": "code",
      "source": [
        "df1['Vueltas Ponderadas']=df1['Vueltas Ponderadas'].apply(lambda x: np.nan if x > 12 else x)\n",
        "df1.dropna(inplace=True)"
      ],
      "metadata": {
        "id": "xKCpltl69EEF",
        "colab": {
          "base_uri": "https://localhost:8080/"
        },
        "outputId": "c298571e-c562-466a-859d-5d3a4acd0a8e"
      },
      "execution_count": null,
      "outputs": [
        {
          "output_type": "stream",
          "name": "stderr",
          "text": [
            "/usr/local/lib/python3.7/dist-packages/ipykernel_launcher.py:1: SettingWithCopyWarning: \n",
            "A value is trying to be set on a copy of a slice from a DataFrame.\n",
            "Try using .loc[row_indexer,col_indexer] = value instead\n",
            "\n",
            "See the caveats in the documentation: https://pandas.pydata.org/pandas-docs/stable/user_guide/indexing.html#returning-a-view-versus-a-copy\n",
            "  \"\"\"Entry point for launching an IPython kernel.\n",
            "/usr/local/lib/python3.7/dist-packages/pandas/util/_decorators.py:311: SettingWithCopyWarning: \n",
            "A value is trying to be set on a copy of a slice from a DataFrame\n",
            "\n",
            "See the caveats in the documentation: https://pandas.pydata.org/pandas-docs/stable/user_guide/indexing.html#returning-a-view-versus-a-copy\n",
            "  return func(*args, **kwargs)\n"
          ]
        }
      ]
    },
    {
      "cell_type": "code",
      "source": [
        "#sns.pairplot(df1, hue='Vueltas Ponderadas')"
      ],
      "metadata": {
        "id": "K3LEzzh2hlKn"
      },
      "execution_count": null,
      "outputs": []
    },
    {
      "cell_type": "markdown",
      "source": [
        "# Splitting Test Values"
      ],
      "metadata": {
        "id": "JpUTXnlw_3Ta"
      }
    },
    {
      "cell_type": "code",
      "source": [
        "#Sampling 15% of dataset for testing\n",
        "df_test=df1.sample(frac=.15)\n",
        "df1.loc[df_test.index]=np.nan\n",
        "df_train = df1.dropna()"
      ],
      "metadata": {
        "id": "Hs19HEnNKuBB",
        "colab": {
          "base_uri": "https://localhost:8080/"
        },
        "outputId": "ff91dc2f-119f-40f9-d4e5-ccc32f43a38c"
      },
      "execution_count": null,
      "outputs": [
        {
          "output_type": "stream",
          "name": "stderr",
          "text": [
            "/usr/local/lib/python3.7/dist-packages/pandas/core/indexing.py:1817: SettingWithCopyWarning: \n",
            "A value is trying to be set on a copy of a slice from a DataFrame.\n",
            "Try using .loc[row_indexer,col_indexer] = value instead\n",
            "\n",
            "See the caveats in the documentation: https://pandas.pydata.org/pandas-docs/stable/user_guide/indexing.html#returning-a-view-versus-a-copy\n",
            "  self._setitem_single_column(loc, value, pi)\n"
          ]
        }
      ]
    },
    {
      "cell_type": "code",
      "source": [
        "df_test"
      ],
      "metadata": {
        "colab": {
          "base_uri": "https://localhost:8080/",
          "height": 480
        },
        "id": "szeZJiQSNiaf",
        "outputId": "fa47ee13-275d-4d52-bf23-78bf4db5d90e"
      },
      "execution_count": null,
      "outputs": [
        {
          "output_type": "execute_result",
          "data": {
            "text/plain": [
              "      Preparación  Calidad  Línea  Turno  Analista  Operador  month  day  \\\n",
              "258             8        9      1      0         4         9     12   31   \n",
              "770             6        7      0      1         4         7      2   13   \n",
              "676             3        4      0      0         4         7      2    5   \n",
              "1083            8       14      1      1         4         9      3   24   \n",
              "2115           21       23      0      2         9        16      6   19   \n",
              "...           ...      ...    ...    ...       ...       ...    ...  ...   \n",
              "1569            9        8      0      0         6         8      5    8   \n",
              "787             6        7      0      0         7        11      2   15   \n",
              "698             5        4      1      1         4         9      2    8   \n",
              "832             8       14      0      2         4         7      2   18   \n",
              "1976            8       15      0      2         6         8      6   10   \n",
              "\n",
              "      week  weekday  yearday  quarter  start_month  end_month  QQs Netos  \\\n",
              "258     53        3      366        4            1          1    3068.16   \n",
              "770      6        5       44        1            1          1    1810.02   \n",
              "676      5        4       36        1            1          1    2046.35   \n",
              "1083    12        2       83        1            1          1    3068.14   \n",
              "2115    24        5      170        2            1          1    2546.50   \n",
              "...    ...      ...      ...      ...          ...        ...        ...   \n",
              "1569    18        5      128        2            1          1    1405.60   \n",
              "787      7        0       46        1            1          1    2375.14   \n",
              "698      6        0       39        1            1          1    3500.00   \n",
              "832      7        3       49        1            1          1    3181.03   \n",
              "1976    23        3      161        2            1          1    1541.53   \n",
              "\n",
              "      %entrada  Vueltas Ponderadas  \n",
              "258      0.051                 3.0  \n",
              "770      0.064                 5.0  \n",
              "676      0.090                 6.0  \n",
              "1083     0.074                 5.0  \n",
              "2115     0.240                 4.0  \n",
              "...        ...                 ...  \n",
              "1569     0.100                 8.0  \n",
              "787      0.055                 7.0  \n",
              "698      0.057                 3.0  \n",
              "832      0.078                 4.0  \n",
              "1976     0.060                 8.0  \n",
              "\n",
              "[346 rows x 17 columns]"
            ],
            "text/html": [
              "\n",
              "  <div id=\"df-4d26faa2-7468-4979-a361-84b6a62733fc\">\n",
              "    <div class=\"colab-df-container\">\n",
              "      <div>\n",
              "<style scoped>\n",
              "    .dataframe tbody tr th:only-of-type {\n",
              "        vertical-align: middle;\n",
              "    }\n",
              "\n",
              "    .dataframe tbody tr th {\n",
              "        vertical-align: top;\n",
              "    }\n",
              "\n",
              "    .dataframe thead th {\n",
              "        text-align: right;\n",
              "    }\n",
              "</style>\n",
              "<table border=\"1\" class=\"dataframe\">\n",
              "  <thead>\n",
              "    <tr style=\"text-align: right;\">\n",
              "      <th></th>\n",
              "      <th>Preparación</th>\n",
              "      <th>Calidad</th>\n",
              "      <th>Línea</th>\n",
              "      <th>Turno</th>\n",
              "      <th>Analista</th>\n",
              "      <th>Operador</th>\n",
              "      <th>month</th>\n",
              "      <th>day</th>\n",
              "      <th>week</th>\n",
              "      <th>weekday</th>\n",
              "      <th>yearday</th>\n",
              "      <th>quarter</th>\n",
              "      <th>start_month</th>\n",
              "      <th>end_month</th>\n",
              "      <th>QQs Netos</th>\n",
              "      <th>%entrada</th>\n",
              "      <th>Vueltas Ponderadas</th>\n",
              "    </tr>\n",
              "  </thead>\n",
              "  <tbody>\n",
              "    <tr>\n",
              "      <th>258</th>\n",
              "      <td>8</td>\n",
              "      <td>9</td>\n",
              "      <td>1</td>\n",
              "      <td>0</td>\n",
              "      <td>4</td>\n",
              "      <td>9</td>\n",
              "      <td>12</td>\n",
              "      <td>31</td>\n",
              "      <td>53</td>\n",
              "      <td>3</td>\n",
              "      <td>366</td>\n",
              "      <td>4</td>\n",
              "      <td>1</td>\n",
              "      <td>1</td>\n",
              "      <td>3068.16</td>\n",
              "      <td>0.051</td>\n",
              "      <td>3.0</td>\n",
              "    </tr>\n",
              "    <tr>\n",
              "      <th>770</th>\n",
              "      <td>6</td>\n",
              "      <td>7</td>\n",
              "      <td>0</td>\n",
              "      <td>1</td>\n",
              "      <td>4</td>\n",
              "      <td>7</td>\n",
              "      <td>2</td>\n",
              "      <td>13</td>\n",
              "      <td>6</td>\n",
              "      <td>5</td>\n",
              "      <td>44</td>\n",
              "      <td>1</td>\n",
              "      <td>1</td>\n",
              "      <td>1</td>\n",
              "      <td>1810.02</td>\n",
              "      <td>0.064</td>\n",
              "      <td>5.0</td>\n",
              "    </tr>\n",
              "    <tr>\n",
              "      <th>676</th>\n",
              "      <td>3</td>\n",
              "      <td>4</td>\n",
              "      <td>0</td>\n",
              "      <td>0</td>\n",
              "      <td>4</td>\n",
              "      <td>7</td>\n",
              "      <td>2</td>\n",
              "      <td>5</td>\n",
              "      <td>5</td>\n",
              "      <td>4</td>\n",
              "      <td>36</td>\n",
              "      <td>1</td>\n",
              "      <td>1</td>\n",
              "      <td>1</td>\n",
              "      <td>2046.35</td>\n",
              "      <td>0.090</td>\n",
              "      <td>6.0</td>\n",
              "    </tr>\n",
              "    <tr>\n",
              "      <th>1083</th>\n",
              "      <td>8</td>\n",
              "      <td>14</td>\n",
              "      <td>1</td>\n",
              "      <td>1</td>\n",
              "      <td>4</td>\n",
              "      <td>9</td>\n",
              "      <td>3</td>\n",
              "      <td>24</td>\n",
              "      <td>12</td>\n",
              "      <td>2</td>\n",
              "      <td>83</td>\n",
              "      <td>1</td>\n",
              "      <td>1</td>\n",
              "      <td>1</td>\n",
              "      <td>3068.14</td>\n",
              "      <td>0.074</td>\n",
              "      <td>5.0</td>\n",
              "    </tr>\n",
              "    <tr>\n",
              "      <th>2115</th>\n",
              "      <td>21</td>\n",
              "      <td>23</td>\n",
              "      <td>0</td>\n",
              "      <td>2</td>\n",
              "      <td>9</td>\n",
              "      <td>16</td>\n",
              "      <td>6</td>\n",
              "      <td>19</td>\n",
              "      <td>24</td>\n",
              "      <td>5</td>\n",
              "      <td>170</td>\n",
              "      <td>2</td>\n",
              "      <td>1</td>\n",
              "      <td>1</td>\n",
              "      <td>2546.50</td>\n",
              "      <td>0.240</td>\n",
              "      <td>4.0</td>\n",
              "    </tr>\n",
              "    <tr>\n",
              "      <th>...</th>\n",
              "      <td>...</td>\n",
              "      <td>...</td>\n",
              "      <td>...</td>\n",
              "      <td>...</td>\n",
              "      <td>...</td>\n",
              "      <td>...</td>\n",
              "      <td>...</td>\n",
              "      <td>...</td>\n",
              "      <td>...</td>\n",
              "      <td>...</td>\n",
              "      <td>...</td>\n",
              "      <td>...</td>\n",
              "      <td>...</td>\n",
              "      <td>...</td>\n",
              "      <td>...</td>\n",
              "      <td>...</td>\n",
              "      <td>...</td>\n",
              "    </tr>\n",
              "    <tr>\n",
              "      <th>1569</th>\n",
              "      <td>9</td>\n",
              "      <td>8</td>\n",
              "      <td>0</td>\n",
              "      <td>0</td>\n",
              "      <td>6</td>\n",
              "      <td>8</td>\n",
              "      <td>5</td>\n",
              "      <td>8</td>\n",
              "      <td>18</td>\n",
              "      <td>5</td>\n",
              "      <td>128</td>\n",
              "      <td>2</td>\n",
              "      <td>1</td>\n",
              "      <td>1</td>\n",
              "      <td>1405.60</td>\n",
              "      <td>0.100</td>\n",
              "      <td>8.0</td>\n",
              "    </tr>\n",
              "    <tr>\n",
              "      <th>787</th>\n",
              "      <td>6</td>\n",
              "      <td>7</td>\n",
              "      <td>0</td>\n",
              "      <td>0</td>\n",
              "      <td>7</td>\n",
              "      <td>11</td>\n",
              "      <td>2</td>\n",
              "      <td>15</td>\n",
              "      <td>7</td>\n",
              "      <td>0</td>\n",
              "      <td>46</td>\n",
              "      <td>1</td>\n",
              "      <td>1</td>\n",
              "      <td>1</td>\n",
              "      <td>2375.14</td>\n",
              "      <td>0.055</td>\n",
              "      <td>7.0</td>\n",
              "    </tr>\n",
              "    <tr>\n",
              "      <th>698</th>\n",
              "      <td>5</td>\n",
              "      <td>4</td>\n",
              "      <td>1</td>\n",
              "      <td>1</td>\n",
              "      <td>4</td>\n",
              "      <td>9</td>\n",
              "      <td>2</td>\n",
              "      <td>8</td>\n",
              "      <td>6</td>\n",
              "      <td>0</td>\n",
              "      <td>39</td>\n",
              "      <td>1</td>\n",
              "      <td>1</td>\n",
              "      <td>1</td>\n",
              "      <td>3500.00</td>\n",
              "      <td>0.057</td>\n",
              "      <td>3.0</td>\n",
              "    </tr>\n",
              "    <tr>\n",
              "      <th>832</th>\n",
              "      <td>8</td>\n",
              "      <td>14</td>\n",
              "      <td>0</td>\n",
              "      <td>2</td>\n",
              "      <td>4</td>\n",
              "      <td>7</td>\n",
              "      <td>2</td>\n",
              "      <td>18</td>\n",
              "      <td>7</td>\n",
              "      <td>3</td>\n",
              "      <td>49</td>\n",
              "      <td>1</td>\n",
              "      <td>1</td>\n",
              "      <td>1</td>\n",
              "      <td>3181.03</td>\n",
              "      <td>0.078</td>\n",
              "      <td>4.0</td>\n",
              "    </tr>\n",
              "    <tr>\n",
              "      <th>1976</th>\n",
              "      <td>8</td>\n",
              "      <td>15</td>\n",
              "      <td>0</td>\n",
              "      <td>2</td>\n",
              "      <td>6</td>\n",
              "      <td>8</td>\n",
              "      <td>6</td>\n",
              "      <td>10</td>\n",
              "      <td>23</td>\n",
              "      <td>3</td>\n",
              "      <td>161</td>\n",
              "      <td>2</td>\n",
              "      <td>1</td>\n",
              "      <td>1</td>\n",
              "      <td>1541.53</td>\n",
              "      <td>0.060</td>\n",
              "      <td>8.0</td>\n",
              "    </tr>\n",
              "  </tbody>\n",
              "</table>\n",
              "<p>346 rows × 17 columns</p>\n",
              "</div>\n",
              "      <button class=\"colab-df-convert\" onclick=\"convertToInteractive('df-4d26faa2-7468-4979-a361-84b6a62733fc')\"\n",
              "              title=\"Convert this dataframe to an interactive table.\"\n",
              "              style=\"display:none;\">\n",
              "        \n",
              "  <svg xmlns=\"http://www.w3.org/2000/svg\" height=\"24px\"viewBox=\"0 0 24 24\"\n",
              "       width=\"24px\">\n",
              "    <path d=\"M0 0h24v24H0V0z\" fill=\"none\"/>\n",
              "    <path d=\"M18.56 5.44l.94 2.06.94-2.06 2.06-.94-2.06-.94-.94-2.06-.94 2.06-2.06.94zm-11 1L8.5 8.5l.94-2.06 2.06-.94-2.06-.94L8.5 2.5l-.94 2.06-2.06.94zm10 10l.94 2.06.94-2.06 2.06-.94-2.06-.94-.94-2.06-.94 2.06-2.06.94z\"/><path d=\"M17.41 7.96l-1.37-1.37c-.4-.4-.92-.59-1.43-.59-.52 0-1.04.2-1.43.59L10.3 9.45l-7.72 7.72c-.78.78-.78 2.05 0 2.83L4 21.41c.39.39.9.59 1.41.59.51 0 1.02-.2 1.41-.59l7.78-7.78 2.81-2.81c.8-.78.8-2.07 0-2.86zM5.41 20L4 18.59l7.72-7.72 1.47 1.35L5.41 20z\"/>\n",
              "  </svg>\n",
              "      </button>\n",
              "      \n",
              "  <style>\n",
              "    .colab-df-container {\n",
              "      display:flex;\n",
              "      flex-wrap:wrap;\n",
              "      gap: 12px;\n",
              "    }\n",
              "\n",
              "    .colab-df-convert {\n",
              "      background-color: #E8F0FE;\n",
              "      border: none;\n",
              "      border-radius: 50%;\n",
              "      cursor: pointer;\n",
              "      display: none;\n",
              "      fill: #1967D2;\n",
              "      height: 32px;\n",
              "      padding: 0 0 0 0;\n",
              "      width: 32px;\n",
              "    }\n",
              "\n",
              "    .colab-df-convert:hover {\n",
              "      background-color: #E2EBFA;\n",
              "      box-shadow: 0px 1px 2px rgba(60, 64, 67, 0.3), 0px 1px 3px 1px rgba(60, 64, 67, 0.15);\n",
              "      fill: #174EA6;\n",
              "    }\n",
              "\n",
              "    [theme=dark] .colab-df-convert {\n",
              "      background-color: #3B4455;\n",
              "      fill: #D2E3FC;\n",
              "    }\n",
              "\n",
              "    [theme=dark] .colab-df-convert:hover {\n",
              "      background-color: #434B5C;\n",
              "      box-shadow: 0px 1px 3px 1px rgba(0, 0, 0, 0.15);\n",
              "      filter: drop-shadow(0px 1px 2px rgba(0, 0, 0, 0.3));\n",
              "      fill: #FFFFFF;\n",
              "    }\n",
              "  </style>\n",
              "\n",
              "      <script>\n",
              "        const buttonEl =\n",
              "          document.querySelector('#df-4d26faa2-7468-4979-a361-84b6a62733fc button.colab-df-convert');\n",
              "        buttonEl.style.display =\n",
              "          google.colab.kernel.accessAllowed ? 'block' : 'none';\n",
              "\n",
              "        async function convertToInteractive(key) {\n",
              "          const element = document.querySelector('#df-4d26faa2-7468-4979-a361-84b6a62733fc');\n",
              "          const dataTable =\n",
              "            await google.colab.kernel.invokeFunction('convertToInteractive',\n",
              "                                                     [key], {});\n",
              "          if (!dataTable) return;\n",
              "\n",
              "          const docLinkHtml = 'Like what you see? Visit the ' +\n",
              "            '<a target=\"_blank\" href=https://colab.research.google.com/notebooks/data_table.ipynb>data table notebook</a>'\n",
              "            + ' to learn more about interactive tables.';\n",
              "          element.innerHTML = '';\n",
              "          dataTable['output_type'] = 'display_data';\n",
              "          await google.colab.output.renderOutput(dataTable, element);\n",
              "          const docLink = document.createElement('div');\n",
              "          docLink.innerHTML = docLinkHtml;\n",
              "          element.appendChild(docLink);\n",
              "        }\n",
              "      </script>\n",
              "    </div>\n",
              "  </div>\n",
              "  "
            ]
          },
          "metadata": {},
          "execution_count": 23
        }
      ]
    },
    {
      "cell_type": "code",
      "source": [
        "t_labels = df_train['Vueltas Ponderadas']\n",
        "test_labels =df_test['Vueltas Ponderadas']"
      ],
      "metadata": {
        "id": "53gDqYrh7osI"
      },
      "execution_count": null,
      "outputs": []
    },
    {
      "cell_type": "code",
      "source": [
        "from sklearn.preprocessing import MinMaxScaler\n",
        "\n",
        "scaler = MinMaxScaler()\n",
        "df_scaled = scaler.fit_transform(df_train.drop(columns=['Vueltas Ponderadas']))"
      ],
      "metadata": {
        "id": "EdCH7Vkb18sR"
      },
      "execution_count": null,
      "outputs": []
    },
    {
      "cell_type": "code",
      "source": [
        "test_scaled =scaler.transform(df_test.drop(columns=['Vueltas Ponderadas']))"
      ],
      "metadata": {
        "id": "f8d5Ir3nBIB5"
      },
      "execution_count": null,
      "outputs": []
    },
    {
      "cell_type": "code",
      "source": [
        "df_scaled=pd.DataFrame(df_scaled, columns=df_train.drop(columns=['Vueltas Ponderadas']).columns)"
      ],
      "metadata": {
        "id": "pD4CsPr5yjJ-"
      },
      "execution_count": null,
      "outputs": []
    },
    {
      "cell_type": "markdown",
      "source": [
        "# Splitting and modeling"
      ],
      "metadata": {
        "id": "D_LkbfE05lnc"
      }
    },
    {
      "cell_type": "code",
      "source": [
        "from sklearn.model_selection import train_test_split\n",
        "\n",
        "train_data, val_data, train_labels, val_labels = train_test_split(df_scaled, t_labels, train_size = 0.85, random_state=42)"
      ],
      "metadata": {
        "id": "XYkcuzwa2aDX"
      },
      "execution_count": null,
      "outputs": []
    },
    {
      "cell_type": "code",
      "source": [
        "import lightgbm as lgb\n",
        "from sklearn.model_selection import RandomizedSearchCV\n",
        "\n",
        "lgb_params = {\n",
        "              'num_leaves': range(7,100),\n",
        "              'max_bin': range(50,120),\n",
        "              'bagging_freq': range(3,20),\n",
        "              \n",
        "              'n_estimators': range(80,200),\n",
        "              'reg_lambda':np.linspace(0,1, num=20),\n",
        "              'learning_rate': np.linspace(0.001,0.1, num=25),\n",
        "              'feature_fraction': np.linspace(0.001, 0.8, num=25),\n",
        "              'max_depth': range(20,400),\n",
        "              \n",
        "              #'boosting_type': ['gbdt', 'dart', 'goss']\n",
        "              }\n",
        "              \n",
        "\n",
        "model = lgb.LGBMClassifier()\n",
        "#cv_model = RandomizedSearchCV(model, lgb_params, cv=10)               \n",
        "#Once the best params were obtained from Randomized Search CV, it won't be required anymore"
      ],
      "metadata": {
        "id": "rwn2xWQU5jXK"
      },
      "execution_count": null,
      "outputs": []
    },
    {
      "cell_type": "code",
      "source": [
        "#cv_model.fit(train_data, train_labels, eval_set=(val_data, val_labels), verbose=0)"
      ],
      "metadata": {
        "id": "N7VV6akXSRN3"
      },
      "execution_count": null,
      "outputs": []
    },
    {
      "cell_type": "code",
      "source": [
        "#cv_model.best_params_"
      ],
      "metadata": {
        "id": "dlFDR78qTCX9"
      },
      "execution_count": null,
      "outputs": []
    },
    {
      "cell_type": "code",
      "source": [
        "#cv_model.best_score_"
      ],
      "metadata": {
        "id": "nguU9cjvTxL7"
      },
      "execution_count": null,
      "outputs": []
    },
    {
      "cell_type": "code",
      "source": [
        "best_params={'bagging_freq': 6,\n",
        " 'feature_fraction': 0.6335416666666668,\n",
        " 'learning_rate': 0.079375,\n",
        " 'max_bin': 95,\n",
        " 'max_depth': 187,\n",
        " 'n_estimators': 165,\n",
        " 'num_leaves': 65,\n",
        " 'reg_lambda': 0.3157894736842105}"
      ],
      "metadata": {
        "id": "4sZ_yb31T85O"
      },
      "execution_count": null,
      "outputs": []
    },
    {
      "cell_type": "code",
      "source": [
        "model.set_params(**best_params)\n",
        "model.fit(train_data, train_labels, eval_set=[(val_data, val_labels),(train_data, train_labels)], verbose=0)"
      ],
      "metadata": {
        "colab": {
          "base_uri": "https://localhost:8080/"
        },
        "id": "n-YWz-816bou",
        "outputId": "4a2d65a7-40ae-4d02-ae29-4bb9b3390d89"
      },
      "execution_count": null,
      "outputs": [
        {
          "output_type": "execute_result",
          "data": {
            "text/plain": [
              "LGBMClassifier(bagging_freq=6, feature_fraction=0.6335416666666668,\n",
              "               learning_rate=0.079375, max_bin=95, max_depth=187,\n",
              "               n_estimators=165, num_leaves=65, reg_lambda=0.3157894736842105)"
            ]
          },
          "metadata": {},
          "execution_count": 34
        }
      ]
    },
    {
      "cell_type": "code",
      "source": [
        "pred= model.predict(val_data)"
      ],
      "metadata": {
        "id": "t04skRBr96_y"
      },
      "execution_count": null,
      "outputs": []
    },
    {
      "cell_type": "markdown",
      "source": [
        "## Model Score"
      ],
      "metadata": {
        "id": "omhoIq_aQ41D"
      }
    },
    {
      "cell_type": "code",
      "source": [
        "lgb.plot_importance(model)"
      ],
      "metadata": {
        "colab": {
          "base_uri": "https://localhost:8080/",
          "height": 312
        },
        "id": "3trM16MjxD7o",
        "outputId": "6f11f814-cf37-492e-e05c-48aed73ccae4"
      },
      "execution_count": null,
      "outputs": [
        {
          "output_type": "execute_result",
          "data": {
            "text/plain": [
              "<matplotlib.axes._subplots.AxesSubplot at 0x7ff006577c10>"
            ]
          },
          "metadata": {},
          "execution_count": 36
        },
        {
          "output_type": "display_data",
          "data": {
            "text/plain": [
              "<Figure size 432x288 with 1 Axes>"
            ],
            "image/png": "[encoded data removed]"
          },
          "metadata": {
            "needs_background": "light"
          }
        }
      ]
    },
    {
      "cell_type": "code",
      "source": [
        "lgb.plot_metric(model)"
      ],
      "metadata": {
        "colab": {
          "base_uri": "https://localhost:8080/",
          "height": 312
        },
        "id": "7o66aDtEzajt",
        "outputId": "bec74985-f354-4605-8cda-2154da6be832"
      },
      "execution_count": null,
      "outputs": [
        {
          "output_type": "execute_result",
          "data": {
            "text/plain": [
              "<matplotlib.axes._subplots.AxesSubplot at 0x7ff005786410>"
            ]
          },
          "metadata": {},
          "execution_count": 48
        },
        {
          "output_type": "display_data",
          "data": {
            "text/plain": [
              "<Figure size 432x288 with 1 Axes>"
            ],
            "image/png": "[encoded data removed]"
          },
          "metadata": {
            "needs_background": "light"
          }
        }
      ]
    },
    {
      "cell_type": "code",
      "source": [
        "lgb.create_tree_digraph(model)"
      ],
      "metadata": {
        "colab": {
          "base_uri": "https://localhost:8080/",
          "height": 961
        },
        "id": "4BpQr_ZxzvJ1",
        "outputId": "a2297087-ee09-43bd-bdb7-3077dd8ce65c"
      },
      "execution_count": null,
      "outputs": [
        {
          "output_type": "execute_result",
          "data": {
            "text/plain": [
              "<graphviz.dot.Digraph at 0x7ff003b253d0>"
            ],
            "image/svg+xml": "<?xml version=\"1.0\" encoding=\"UTF-8\" standalone=\"no\"?>\n<!DOCTYPE svg PUBLIC \"-//W3C//DTD SVG 1.1//EN\"\n \"http://www.w3.org/Graphics/SVG/1.1/DTD/svg11.dtd\">\n<!-- Generated by graphviz version 2.40.1 (20161225.0304)\n -->\n<!-- Title: %3 Pages: 1 -->\n<svg width=\"2176pt\" height=\"690pt\"\n viewBox=\"0.00 0.00 2176.35 690.18\" xmlns=\"http://www.w3.org/2000/svg\" xmlns:xlink=\"http://www.w3.org/1999/xlink\">\n<g id=\"graph0\" class=\"graph\" transform=\"scale(1 1) rotate(0) translate(4 686.1808)\">\n<title>%3</title>\n<polygon fill=\"#ffffff\" stroke=\"transparent\" points=\"-4,4 -4,-686.1808 2172.3488,-686.1808 2172.3488,4 -4,4\"/>\n<!-- split0 -->\n<g id=\"node1\" class=\"node\">\n<title>split0</title>\n<ellipse fill=\"none\" stroke=\"#000000\" cx=\"1106.1995\" cy=\"-655.3107\" rx=\"147.5709\" ry=\"26.7407\"/>\n<text text-anchor=\"middle\" x=\"1106.1995\" y=\"-659.1107\" font-family=\"Times,serif\" font-size=\"14.00\" fill=\"#000000\">split_feature_name: Preparación</text>\n<text text-anchor=\"middle\" x=\"1106.1995\" y=\"-644.1107\" font-family=\"Times,serif\" font-size=\"14.00\" fill=\"#000000\">threshold: 0.5434782608695653</text>\n</g>\n<!-- split4 -->\n<g id=\"node2\" class=\"node\">\n<title>split4</title>\n<ellipse fill=\"none\" stroke=\"#000000\" cx=\"947.1995\" cy=\"-550.5706\" rx=\"152.9705\" ry=\"26.7407\"/>\n<text text-anchor=\"middle\" x=\"947.1995\" y=\"-554.3706\" font-family=\"Times,serif\" font-size=\"14.00\" fill=\"#000000\">split_feature_name: QQs_Netos</text>\n<text text-anchor=\"middle\" x=\"947.1995\" y=\"-539.3706\" font-family=\"Times,serif\" font-size=\"14.00\" fill=\"#000000\">threshold: 0.25357773661310484</text>\n</g>\n<!-- split0&#45;&gt;split4 -->\n<g id=\"edge11\" class=\"edge\">\n<title>split0&#45;&gt;split4</title>\n<path fill=\"none\" stroke=\"#000000\" d=\"M1066.4873,-629.1506C1044.8733,-614.9126 1017.9729,-597.1921 995.191,-582.1847\"/>\n<polygon fill=\"#000000\" stroke=\"#000000\" points=\"996.9572,-579.157 986.6808,-576.5787 993.1064,-585.0026 996.9572,-579.157\"/>\n<text text-anchor=\"middle\" x=\"1045.6995\" y=\"-599.2407\" font-family=\"Times,serif\" font-size=\"14.00\" fill=\"#000000\">&lt;=</text>\n</g>\n<!-- split1 -->\n<g id=\"node13\" class=\"node\">\n<title>split1</title>\n<ellipse fill=\"none\" stroke=\"#000000\" cx=\"1270.1995\" cy=\"-550.5706\" rx=\"147.5709\" ry=\"26.7407\"/>\n<text text-anchor=\"middle\" x=\"1270.1995\" y=\"-554.3706\" font-family=\"Times,serif\" font-size=\"14.00\" fill=\"#000000\">split_feature_name: Preparación</text>\n<text text-anchor=\"middle\" x=\"1270.1995\" y=\"-539.3706\" font-family=\"Times,serif\" font-size=\"14.00\" fill=\"#000000\">threshold: 0.5869565217391305</text>\n</g>\n<!-- split0&#45;&gt;split1 -->\n<g id=\"edge22\" class=\"edge\">\n<title>split0&#45;&gt;split1</title>\n<path fill=\"none\" stroke=\"#000000\" d=\"M1146.7389,-629.4199C1169.2103,-615.0683 1197.319,-597.1164 1221.0372,-581.9686\"/>\n<polygon fill=\"#000000\" stroke=\"#000000\" points=\"1223.0142,-584.8589 1229.5582,-576.5266 1219.2464,-578.9594 1223.0142,-584.8589\"/>\n<text text-anchor=\"middle\" x=\"1202.6995\" y=\"-599.2407\" font-family=\"Times,serif\" font-size=\"14.00\" fill=\"#000000\">&gt;</text>\n</g>\n<!-- split5 -->\n<g id=\"node3\" class=\"node\">\n<title>split5</title>\n<ellipse fill=\"none\" stroke=\"#000000\" cx=\"625.1995\" cy=\"-445.8305\" rx=\"152.0559\" ry=\"26.7407\"/>\n<text text-anchor=\"middle\" x=\"625.1995\" y=\"-449.6305\" font-family=\"Times,serif\" font-size=\"14.00\" fill=\"#000000\">split_feature_name: QQs_Netos</text>\n<text text-anchor=\"middle\" x=\"625.1995\" y=\"-434.6305\" font-family=\"Times,serif\" font-size=\"14.00\" fill=\"#000000\">threshold: 0.24356352044113214</text>\n</g>\n<!-- split4&#45;&gt;split5 -->\n<g id=\"edge9\" class=\"edge\">\n<title>split4&#45;&gt;split5</title>\n<path fill=\"none\" stroke=\"#000000\" d=\"M874.535,-526.9343C824.9584,-510.8081 759.1966,-489.4171 707.6574,-472.6524\"/>\n<polygon fill=\"#000000\" stroke=\"#000000\" points=\"708.4701,-469.2363 697.8778,-469.4713 706.3047,-475.893 708.4701,-469.2363\"/>\n<text text-anchor=\"middle\" x=\"814.6995\" y=\"-494.5006\" font-family=\"Times,serif\" font-size=\"14.00\" fill=\"#000000\">&lt;=</text>\n</g>\n<!-- leaf5 -->\n<g id=\"node12\" class=\"node\">\n<title>leaf5</title>\n<ellipse fill=\"none\" stroke=\"#000000\" cx=\"947.1995\" cy=\"-445.8305\" rx=\"149.3993\" ry=\"26.7407\"/>\n<text text-anchor=\"middle\" x=\"947.1995\" y=\"-449.6305\" font-family=\"Times,serif\" font-size=\"14.00\" fill=\"#000000\">leaf_index: 5</text>\n<text text-anchor=\"middle\" x=\"947.1995\" y=\"-434.6305\" font-family=\"Times,serif\" font-size=\"14.00\" fill=\"#000000\">leaf_value: &#45;3.962423780588615</text>\n</g>\n<!-- split4&#45;&gt;leaf5 -->\n<g id=\"edge10\" class=\"edge\">\n<title>split4&#45;&gt;leaf5</title>\n<path fill=\"none\" stroke=\"#000000\" d=\"M947.1995,-523.5975C947.1995,-511.258 947.1995,-496.4365 947.1995,-483.0577\"/>\n<polygon fill=\"#000000\" stroke=\"#000000\" points=\"950.6996,-482.7123 947.1995,-472.7123 943.6996,-482.7123 950.6996,-482.7123\"/>\n<text text-anchor=\"middle\" x=\"951.6995\" y=\"-494.5006\" font-family=\"Times,serif\" font-size=\"14.00\" fill=\"#000000\">&gt;</text>\n</g>\n<!-- split8 -->\n<g id=\"node4\" class=\"node\">\n<title>split8</title>\n<ellipse fill=\"none\" stroke=\"#000000\" cx=\"306.1995\" cy=\"-341.0904\" rx=\"152.0559\" ry=\"26.7407\"/>\n<text text-anchor=\"middle\" x=\"306.1995\" y=\"-344.8904\" font-family=\"Times,serif\" font-size=\"14.00\" fill=\"#000000\">split_feature_name: QQs_Netos</text>\n<text text-anchor=\"middle\" x=\"306.1995\" y=\"-329.8904\" font-family=\"Times,serif\" font-size=\"14.00\" fill=\"#000000\">threshold: 0.08028604661181236</text>\n</g>\n<!-- split5&#45;&gt;split8 -->\n<g id=\"edge7\" class=\"edge\">\n<title>split5&#45;&gt;split8</title>\n<path fill=\"none\" stroke=\"#000000\" d=\"M552.8135,-422.0634C503.7681,-405.9599 438.8705,-384.6515 387.9602,-367.9356\"/>\n<polygon fill=\"#000000\" stroke=\"#000000\" points=\"388.8919,-364.5578 378.2991,-364.7635 386.7082,-371.2084 388.8919,-364.5578\"/>\n<text text-anchor=\"middle\" x=\"493.6995\" y=\"-389.7605\" font-family=\"Times,serif\" font-size=\"14.00\" fill=\"#000000\">&lt;=</text>\n</g>\n<!-- leaf6 -->\n<g id=\"node11\" class=\"node\">\n<title>leaf6</title>\n<ellipse fill=\"none\" stroke=\"#000000\" cx=\"625.1995\" cy=\"-341.0904\" rx=\"149.3993\" ry=\"26.7407\"/>\n<text text-anchor=\"middle\" x=\"625.1995\" y=\"-344.8904\" font-family=\"Times,serif\" font-size=\"14.00\" fill=\"#000000\">leaf_index: 6</text>\n<text text-anchor=\"middle\" x=\"625.1995\" y=\"-329.8904\" font-family=\"Times,serif\" font-size=\"14.00\" fill=\"#000000\">leaf_value: &#45;3.513295055161082</text>\n</g>\n<!-- split5&#45;&gt;leaf6 -->\n<g id=\"edge8\" class=\"edge\">\n<title>split5&#45;&gt;leaf6</title>\n<path fill=\"none\" stroke=\"#000000\" d=\"M625.1995,-418.8573C625.1995,-406.5179 625.1995,-391.6964 625.1995,-378.3175\"/>\n<polygon fill=\"#000000\" stroke=\"#000000\" points=\"628.6996,-377.9721 625.1995,-367.9722 621.6996,-377.9722 628.6996,-377.9721\"/>\n<text text-anchor=\"middle\" x=\"629.6995\" y=\"-389.7605\" font-family=\"Times,serif\" font-size=\"14.00\" fill=\"#000000\">&gt;</text>\n</g>\n<!-- leaf0 -->\n<g id=\"node5\" class=\"node\">\n<title>leaf0</title>\n<ellipse fill=\"none\" stroke=\"#000000\" cx=\"149.1995\" cy=\"-236.3503\" rx=\"149.3993\" ry=\"26.7407\"/>\n<text text-anchor=\"middle\" x=\"149.1995\" y=\"-240.1503\" font-family=\"Times,serif\" font-size=\"14.00\" fill=\"#000000\">leaf_index: 0</text>\n<text text-anchor=\"middle\" x=\"149.1995\" y=\"-225.1503\" font-family=\"Times,serif\" font-size=\"14.00\" fill=\"#000000\">leaf_value: &#45;3.860296535403267</text>\n</g>\n<!-- split8&#45;&gt;leaf0 -->\n<g id=\"edge1\" class=\"edge\">\n<title>split8&#45;&gt;leaf0</title>\n<path fill=\"none\" stroke=\"#000000\" d=\"M266.9868,-314.9302C245.6447,-300.6922 219.0827,-282.9717 196.5873,-267.9643\"/>\n<polygon fill=\"#000000\" stroke=\"#000000\" points=\"198.4454,-264.9965 188.1842,-262.3583 194.5605,-270.8196 198.4454,-264.9965\"/>\n<text text-anchor=\"middle\" x=\"245.6995\" y=\"-285.0203\" font-family=\"Times,serif\" font-size=\"14.00\" fill=\"#000000\">&lt;=</text>\n</g>\n<!-- split9 -->\n<g id=\"node6\" class=\"node\">\n<title>split9</title>\n<ellipse fill=\"none\" stroke=\"#000000\" cx=\"464.1995\" cy=\"-236.3503\" rx=\"147.5709\" ry=\"26.7407\"/>\n<text text-anchor=\"middle\" x=\"464.1995\" y=\"-240.1503\" font-family=\"Times,serif\" font-size=\"14.00\" fill=\"#000000\">split_feature_name: Preparación</text>\n<text text-anchor=\"middle\" x=\"464.1995\" y=\"-225.1503\" font-family=\"Times,serif\" font-size=\"14.00\" fill=\"#000000\">threshold: 0.3695652173913044</text>\n</g>\n<!-- split8&#45;&gt;split9 -->\n<g id=\"edge6\" class=\"edge\">\n<title>split8&#45;&gt;split9</title>\n<path fill=\"none\" stroke=\"#000000\" d=\"M345.662,-314.9302C367.14,-300.6922 393.8713,-282.9717 416.5099,-267.9643\"/>\n<polygon fill=\"#000000\" stroke=\"#000000\" points=\"418.5655,-270.8009 424.9665,-262.3583 414.6977,-264.9665 418.5655,-270.8009\"/>\n<text text-anchor=\"middle\" x=\"399.6995\" y=\"-285.0203\" font-family=\"Times,serif\" font-size=\"14.00\" fill=\"#000000\">&gt;</text>\n</g>\n<!-- leaf9 -->\n<g id=\"node7\" class=\"node\">\n<title>leaf9</title>\n<ellipse fill=\"none\" stroke=\"#000000\" cx=\"374.1995\" cy=\"-131.6102\" rx=\"154.2987\" ry=\"26.7407\"/>\n<text text-anchor=\"middle\" x=\"374.1995\" y=\"-135.4102\" font-family=\"Times,serif\" font-size=\"14.00\" fill=\"#000000\">leaf_index: 9</text>\n<text text-anchor=\"middle\" x=\"374.1995\" y=\"-120.4102\" font-family=\"Times,serif\" font-size=\"14.00\" fill=\"#000000\">leaf_value: &#45;3.9617299771810175</text>\n</g>\n<!-- split9&#45;&gt;leaf9 -->\n<g id=\"edge2\" class=\"edge\">\n<title>split9&#45;&gt;leaf9</title>\n<path fill=\"none\" stroke=\"#000000\" d=\"M441.2559,-209.6489C429.8309,-196.3528 415.8859,-180.1239 403.6778,-165.9164\"/>\n<polygon fill=\"#000000\" stroke=\"#000000\" points=\"406.2732,-163.5664 397.1013,-158.2628 400.9639,-168.1284 406.2732,-163.5664\"/>\n<text text-anchor=\"middle\" x=\"433.6995\" y=\"-180.2802\" font-family=\"Times,serif\" font-size=\"14.00\" fill=\"#000000\">&lt;=</text>\n</g>\n<!-- split10 -->\n<g id=\"node8\" class=\"node\">\n<title>split10</title>\n<ellipse fill=\"none\" stroke=\"#000000\" cx=\"694.1995\" cy=\"-131.6102\" rx=\"147.5709\" ry=\"26.7407\"/>\n<text text-anchor=\"middle\" x=\"694.1995\" y=\"-135.4102\" font-family=\"Times,serif\" font-size=\"14.00\" fill=\"#000000\">split_feature_name: week</text>\n<text text-anchor=\"middle\" x=\"694.1995\" y=\"-120.4102\" font-family=\"Times,serif\" font-size=\"14.00\" fill=\"#000000\">threshold: 0.2788461538461539</text>\n</g>\n<!-- split9&#45;&gt;split10 -->\n<g id=\"edge5\" class=\"edge\">\n<title>split9&#45;&gt;split10</title>\n<path fill=\"none\" stroke=\"#000000\" d=\"M518.9981,-211.3955C552.2959,-196.2319 594.9714,-176.7978 629.8672,-160.9066\"/>\n<polygon fill=\"#000000\" stroke=\"#000000\" points=\"631.3735,-164.0665 639.0237,-156.7368 628.4723,-157.696 631.3735,-164.0665\"/>\n<text text-anchor=\"middle\" x=\"597.6995\" y=\"-180.2802\" font-family=\"Times,serif\" font-size=\"14.00\" fill=\"#000000\">&gt;</text>\n</g>\n<!-- leaf10 -->\n<g id=\"node9\" class=\"node\">\n<title>leaf10</title>\n<ellipse fill=\"none\" stroke=\"#000000\" cx=\"533.1995\" cy=\"-26.8701\" rx=\"154.2987\" ry=\"26.7407\"/>\n<text text-anchor=\"middle\" x=\"533.1995\" y=\"-30.6701\" font-family=\"Times,serif\" font-size=\"14.00\" fill=\"#000000\">leaf_index: 10</text>\n<text text-anchor=\"middle\" x=\"533.1995\" y=\"-15.6701\" font-family=\"Times,serif\" font-size=\"14.00\" fill=\"#000000\">leaf_value: &#45;3.8812590392994717</text>\n</g>\n<!-- split10&#45;&gt;leaf10 -->\n<g id=\"edge3\" class=\"edge\">\n<title>split10&#45;&gt;leaf10</title>\n<path fill=\"none\" stroke=\"#000000\" d=\"M654.4018,-105.7194C632.4382,-91.4307 604.9888,-73.5733 581.7692,-58.4675\"/>\n<polygon fill=\"#000000\" stroke=\"#000000\" points=\"583.3884,-55.3455 573.0974,-52.826 579.5711,-61.2131 583.3884,-55.3455\"/>\n<text text-anchor=\"middle\" x=\"632.6995\" y=\"-75.5401\" font-family=\"Times,serif\" font-size=\"14.00\" fill=\"#000000\">&lt;=</text>\n</g>\n<!-- leaf11 -->\n<g id=\"node10\" class=\"node\">\n<title>leaf11</title>\n<ellipse fill=\"none\" stroke=\"#000000\" cx=\"854.1995\" cy=\"-26.8701\" rx=\"149.3993\" ry=\"26.7407\"/>\n<text text-anchor=\"middle\" x=\"854.1995\" y=\"-30.6701\" font-family=\"Times,serif\" font-size=\"14.00\" fill=\"#000000\">leaf_index: 11</text>\n<text text-anchor=\"middle\" x=\"854.1995\" y=\"-15.6701\" font-family=\"Times,serif\" font-size=\"14.00\" fill=\"#000000\">leaf_value: &#45;3.952819858551312</text>\n</g>\n<!-- split10&#45;&gt;leaf11 -->\n<g id=\"edge4\" class=\"edge\">\n<title>split10&#45;&gt;leaf11</title>\n<path fill=\"none\" stroke=\"#000000\" d=\"M733.7501,-105.7194C755.5773,-91.4307 782.8562,-73.5733 805.9315,-58.4675\"/>\n<polygon fill=\"#000000\" stroke=\"#000000\" points=\"808.0997,-61.2315 814.5494,-52.826 804.2657,-55.3748 808.0997,-61.2315\"/>\n<text text-anchor=\"middle\" x=\"788.6995\" y=\"-75.5401\" font-family=\"Times,serif\" font-size=\"14.00\" fill=\"#000000\">&gt;</text>\n</g>\n<!-- split3 -->\n<g id=\"node14\" class=\"node\">\n<title>split3</title>\n<ellipse fill=\"none\" stroke=\"#000000\" cx=\"1270.1995\" cy=\"-445.8305\" rx=\"147.5709\" ry=\"26.7407\"/>\n<text text-anchor=\"middle\" x=\"1270.1995\" y=\"-449.6305\" font-family=\"Times,serif\" font-size=\"14.00\" fill=\"#000000\">split_feature_name: yearday</text>\n<text text-anchor=\"middle\" x=\"1270.1995\" y=\"-434.6305\" font-family=\"Times,serif\" font-size=\"14.00\" fill=\"#000000\">threshold: 0.3008241758241759</text>\n</g>\n<!-- split1&#45;&gt;split3 -->\n<g id=\"edge14\" class=\"edge\">\n<title>split1&#45;&gt;split3</title>\n<path fill=\"none\" stroke=\"#000000\" d=\"M1270.1995,-523.5975C1270.1995,-511.258 1270.1995,-496.4365 1270.1995,-483.0577\"/>\n<polygon fill=\"#000000\" stroke=\"#000000\" points=\"1273.6996,-482.7123 1270.1995,-472.7123 1266.6996,-482.7123 1273.6996,-482.7123\"/>\n<text text-anchor=\"middle\" x=\"1278.6995\" y=\"-494.5006\" font-family=\"Times,serif\" font-size=\"14.00\" fill=\"#000000\">&lt;=</text>\n</g>\n<!-- split2 -->\n<g id=\"node17\" class=\"node\">\n<title>split2</title>\n<ellipse fill=\"none\" stroke=\"#000000\" cx=\"1598.1995\" cy=\"-445.8305\" rx=\"152.9705\" ry=\"26.7407\"/>\n<text text-anchor=\"middle\" x=\"1598.1995\" y=\"-449.6305\" font-family=\"Times,serif\" font-size=\"14.00\" fill=\"#000000\">split_feature_name: QQs_Netos</text>\n<text text-anchor=\"middle\" x=\"1598.1995\" y=\"-434.6305\" font-family=\"Times,serif\" font-size=\"14.00\" fill=\"#000000\">threshold: 0.09921595657605654</text>\n</g>\n<!-- split1&#45;&gt;split2 -->\n<g id=\"edge21\" class=\"edge\">\n<title>split1&#45;&gt;split2</title>\n<path fill=\"none\" stroke=\"#000000\" d=\"M1343.4009,-527.1953C1394.1468,-510.9906 1461.8291,-489.3776 1514.6826,-472.4999\"/>\n<polygon fill=\"#000000\" stroke=\"#000000\" points=\"1515.9102,-475.7821 1524.3716,-469.406 1513.7807,-469.1139 1515.9102,-475.7821\"/>\n<text text-anchor=\"middle\" x=\"1458.6995\" y=\"-494.5006\" font-family=\"Times,serif\" font-size=\"14.00\" fill=\"#000000\">&gt;</text>\n</g>\n<!-- leaf1 -->\n<g id=\"node15\" class=\"node\">\n<title>leaf1</title>\n<ellipse fill=\"none\" stroke=\"#000000\" cx=\"946.1995\" cy=\"-341.0904\" rx=\"154.2987\" ry=\"26.7407\"/>\n<text text-anchor=\"middle\" x=\"946.1995\" y=\"-344.8904\" font-family=\"Times,serif\" font-size=\"14.00\" fill=\"#000000\">leaf_index: 1</text>\n<text text-anchor=\"middle\" x=\"946.1995\" y=\"-329.8904\" font-family=\"Times,serif\" font-size=\"14.00\" fill=\"#000000\">leaf_value: &#45;3.6997638832416704</text>\n</g>\n<!-- split3&#45;&gt;leaf1 -->\n<g id=\"edge12\" class=\"edge\">\n<title>split3&#45;&gt;leaf1</title>\n<path fill=\"none\" stroke=\"#000000\" d=\"M1197.4876,-422.3248C1147.5174,-406.1708 1081.0643,-384.6884 1029.0466,-367.8725\"/>\n<polygon fill=\"#000000\" stroke=\"#000000\" points=\"1030.1008,-364.535 1019.509,-364.7893 1027.9476,-371.1957 1030.1008,-364.535\"/>\n<text text-anchor=\"middle\" x=\"1136.6995\" y=\"-389.7605\" font-family=\"Times,serif\" font-size=\"14.00\" fill=\"#000000\">&lt;=</text>\n</g>\n<!-- leaf4 -->\n<g id=\"node16\" class=\"node\">\n<title>leaf4</title>\n<ellipse fill=\"none\" stroke=\"#000000\" cx=\"1272.1995\" cy=\"-341.0904\" rx=\"154.2987\" ry=\"26.7407\"/>\n<text text-anchor=\"middle\" x=\"1272.1995\" y=\"-344.8904\" font-family=\"Times,serif\" font-size=\"14.00\" fill=\"#000000\">leaf_index: 4</text>\n<text text-anchor=\"middle\" x=\"1272.1995\" y=\"-329.8904\" font-family=\"Times,serif\" font-size=\"14.00\" fill=\"#000000\">leaf_value: &#45;3.3196918554715342</text>\n</g>\n<!-- split3&#45;&gt;leaf4 -->\n<g id=\"edge13\" class=\"edge\">\n<title>split3&#45;&gt;leaf4</title>\n<path fill=\"none\" stroke=\"#000000\" d=\"M1270.7146,-418.8573C1270.9502,-406.5179 1271.2332,-391.6964 1271.4887,-378.3175\"/>\n<polygon fill=\"#000000\" stroke=\"#000000\" points=\"1274.9946,-378.0372 1271.6862,-367.9722 1267.9959,-377.9035 1274.9946,-378.0372\"/>\n<text text-anchor=\"middle\" x=\"1276.6995\" y=\"-389.7605\" font-family=\"Times,serif\" font-size=\"14.00\" fill=\"#000000\">&gt;</text>\n</g>\n<!-- leaf2 -->\n<g id=\"node18\" class=\"node\">\n<title>leaf2</title>\n<ellipse fill=\"none\" stroke=\"#000000\" cx=\"1598.1995\" cy=\"-341.0904\" rx=\"154.2987\" ry=\"26.7407\"/>\n<text text-anchor=\"middle\" x=\"1598.1995\" y=\"-344.8904\" font-family=\"Times,serif\" font-size=\"14.00\" fill=\"#000000\">leaf_index: 2</text>\n<text text-anchor=\"middle\" x=\"1598.1995\" y=\"-329.8904\" font-family=\"Times,serif\" font-size=\"14.00\" fill=\"#000000\">leaf_value: &#45;3.6859716418593718</text>\n</g>\n<!-- split2&#45;&gt;leaf2 -->\n<g id=\"edge15\" class=\"edge\">\n<title>split2&#45;&gt;leaf2</title>\n<path fill=\"none\" stroke=\"#000000\" d=\"M1598.1995,-418.8573C1598.1995,-406.5179 1598.1995,-391.6964 1598.1995,-378.3175\"/>\n<polygon fill=\"#000000\" stroke=\"#000000\" points=\"1601.6996,-377.9721 1598.1995,-367.9722 1594.6996,-377.9722 1601.6996,-377.9721\"/>\n<text text-anchor=\"middle\" x=\"1606.6995\" y=\"-389.7605\" font-family=\"Times,serif\" font-size=\"14.00\" fill=\"#000000\">&lt;=</text>\n</g>\n<!-- split6 -->\n<g id=\"node19\" class=\"node\">\n<title>split6</title>\n<ellipse fill=\"none\" stroke=\"#000000\" cx=\"1923.1995\" cy=\"-341.0904\" rx=\"152.9705\" ry=\"26.7407\"/>\n<text text-anchor=\"middle\" x=\"1923.1995\" y=\"-344.8904\" font-family=\"Times,serif\" font-size=\"14.00\" fill=\"#000000\">split_feature_name: QQs_Netos</text>\n<text text-anchor=\"middle\" x=\"1923.1995\" y=\"-329.8904\" font-family=\"Times,serif\" font-size=\"14.00\" fill=\"#000000\">threshold: 0.20429500710808604</text>\n</g>\n<!-- split2&#45;&gt;split6 -->\n<g id=\"edge20\" class=\"edge\">\n<title>split2&#45;&gt;split6</title>\n<path fill=\"none\" stroke=\"#000000\" d=\"M1671.5411,-422.1942C1721.6836,-406.0344 1788.2301,-384.588 1840.2977,-367.8078\"/>\n<polygon fill=\"#000000\" stroke=\"#000000\" points=\"1841.3998,-371.13 1849.8441,-364.7312 1839.2525,-364.4674 1841.3998,-371.13\"/>\n<text text-anchor=\"middle\" x=\"1784.6995\" y=\"-389.7605\" font-family=\"Times,serif\" font-size=\"14.00\" fill=\"#000000\">&gt;</text>\n</g>\n<!-- split7 -->\n<g id=\"node20\" class=\"node\">\n<title>split7</title>\n<ellipse fill=\"none\" stroke=\"#000000\" cx=\"1689.1995\" cy=\"-236.3503\" rx=\"152.9705\" ry=\"26.7407\"/>\n<text text-anchor=\"middle\" x=\"1689.1995\" y=\"-240.1503\" font-family=\"Times,serif\" font-size=\"14.00\" fill=\"#000000\">split_feature_name: QQs_Netos</text>\n<text text-anchor=\"middle\" x=\"1689.1995\" y=\"-225.1503\" font-family=\"Times,serif\" font-size=\"14.00\" fill=\"#000000\">threshold: 0.17279886270624226</text>\n</g>\n<!-- split6&#45;&gt;split7 -->\n<g id=\"edge18\" class=\"edge\">\n<title>split6&#45;&gt;split7</title>\n<path fill=\"none\" stroke=\"#000000\" d=\"M1867.1507,-316.0025C1833.2667,-300.8358 1789.92,-281.4335 1754.4918,-265.5756\"/>\n<polygon fill=\"#000000\" stroke=\"#000000\" points=\"1755.7534,-262.3057 1745.1961,-261.4147 1752.8935,-268.6949 1755.7534,-262.3057\"/>\n<text text-anchor=\"middle\" x=\"1829.6995\" y=\"-285.0203\" font-family=\"Times,serif\" font-size=\"14.00\" fill=\"#000000\">&lt;=</text>\n</g>\n<!-- leaf7 -->\n<g id=\"node23\" class=\"node\">\n<title>leaf7</title>\n<ellipse fill=\"none\" stroke=\"#000000\" cx=\"2014.1995\" cy=\"-236.3503\" rx=\"154.2987\" ry=\"26.7407\"/>\n<text text-anchor=\"middle\" x=\"2014.1995\" y=\"-240.1503\" font-family=\"Times,serif\" font-size=\"14.00\" fill=\"#000000\">leaf_index: 7</text>\n<text text-anchor=\"middle\" x=\"2014.1995\" y=\"-225.1503\" font-family=\"Times,serif\" font-size=\"14.00\" fill=\"#000000\">leaf_value: &#45;3.9604605932132997</text>\n</g>\n<!-- split6&#45;&gt;leaf7 -->\n<g id=\"edge19\" class=\"edge\">\n<title>split6&#45;&gt;leaf7</title>\n<path fill=\"none\" stroke=\"#000000\" d=\"M1946.3981,-314.389C1957.95,-301.0929 1972.05,-284.864 1984.3937,-270.6565\"/>\n<polygon fill=\"#000000\" stroke=\"#000000\" points=\"1987.1268,-272.8473 1991.0433,-263.0029 1981.8426,-268.2563 1987.1268,-272.8473\"/>\n<text text-anchor=\"middle\" x=\"1978.6995\" y=\"-285.0203\" font-family=\"Times,serif\" font-size=\"14.00\" fill=\"#000000\">&gt;</text>\n</g>\n<!-- leaf3 -->\n<g id=\"node21\" class=\"node\">\n<title>leaf3</title>\n<ellipse fill=\"none\" stroke=\"#000000\" cx=\"1528.1995\" cy=\"-131.6102\" rx=\"154.2987\" ry=\"26.7407\"/>\n<text text-anchor=\"middle\" x=\"1528.1995\" y=\"-135.4102\" font-family=\"Times,serif\" font-size=\"14.00\" fill=\"#000000\">leaf_index: 3</text>\n<text text-anchor=\"middle\" x=\"1528.1995\" y=\"-120.4102\" font-family=\"Times,serif\" font-size=\"14.00\" fill=\"#000000\">leaf_value: &#45;3.9563195578440458</text>\n</g>\n<!-- split7&#45;&gt;leaf3 -->\n<g id=\"edge16\" class=\"edge\">\n<title>split7&#45;&gt;leaf3</title>\n<path fill=\"none\" stroke=\"#000000\" d=\"M1648.9877,-210.1901C1627.1019,-195.9521 1599.8631,-178.2316 1576.7946,-163.2242\"/>\n<polygon fill=\"#000000\" stroke=\"#000000\" points=\"1578.4684,-160.1376 1568.1775,-157.6182 1574.6511,-166.0052 1578.4684,-160.1376\"/>\n<text text-anchor=\"middle\" x=\"1627.6995\" y=\"-180.2802\" font-family=\"Times,serif\" font-size=\"14.00\" fill=\"#000000\">&lt;=</text>\n</g>\n<!-- leaf8 -->\n<g id=\"node22\" class=\"node\">\n<title>leaf8</title>\n<ellipse fill=\"none\" stroke=\"#000000\" cx=\"1849.1995\" cy=\"-131.6102\" rx=\"149.3993\" ry=\"26.7407\"/>\n<text text-anchor=\"middle\" x=\"1849.1995\" y=\"-135.4102\" font-family=\"Times,serif\" font-size=\"14.00\" fill=\"#000000\">leaf_index: 8</text>\n<text text-anchor=\"middle\" x=\"1849.1995\" y=\"-120.4102\" font-family=\"Times,serif\" font-size=\"14.00\" fill=\"#000000\">leaf_value: &#45;3.732981049492425</text>\n</g>\n<!-- split7&#45;&gt;leaf8 -->\n<g id=\"edge17\" class=\"edge\">\n<title>split7&#45;&gt;leaf8</title>\n<path fill=\"none\" stroke=\"#000000\" d=\"M1729.1616,-210.1901C1750.9114,-195.9521 1777.981,-178.2316 1800.9063,-163.2242\"/>\n<polygon fill=\"#000000\" stroke=\"#000000\" points=\"1803.0202,-166.0237 1809.4699,-157.6182 1799.1862,-160.167 1803.0202,-166.0237\"/>\n<text text-anchor=\"middle\" x=\"1783.6995\" y=\"-180.2802\" font-family=\"Times,serif\" font-size=\"14.00\" fill=\"#000000\">&gt;</text>\n</g>\n</g>\n</svg>\n"
          },
          "metadata": {},
          "execution_count": 38
        }
      ]
    },
    {
      "cell_type": "code",
      "source": [
        "model.score(val_data, val_labels)"
      ],
      "metadata": {
        "colab": {
          "base_uri": "https://localhost:8080/"
        },
        "id": "FKyGZ5QS_TJq",
        "outputId": "bcd7005f-5c47-47d1-b947-235956de61f0"
      },
      "execution_count": null,
      "outputs": [
        {
          "output_type": "execute_result",
          "data": {
            "text/plain": [
              "0.864406779661017"
            ]
          },
          "metadata": {},
          "execution_count": 39
        }
      ]
    },
    {
      "cell_type": "code",
      "source": [
        "from sklearn.metrics import confusion_matrix\n",
        "\n",
        "confusion_matrix(val_labels, pred)"
      ],
      "metadata": {
        "colab": {
          "base_uri": "https://localhost:8080/"
        },
        "id": "MY3B19SS7iJ5",
        "outputId": "d4e4097c-3f23-4049-b560-ad48fbf04d2e"
      },
      "execution_count": null,
      "outputs": [
        {
          "output_type": "execute_result",
          "data": {
            "text/plain": [
              "array([[ 1,  0,  0,  0,  0,  0,  0,  0,  0,  0,  0],\n",
              "       [ 0, 23,  0,  0,  3,  0,  0,  2,  0,  0,  0],\n",
              "       [ 0,  0, 46,  2,  4,  0,  0,  0,  0,  0,  0],\n",
              "       [ 0,  0,  4, 56,  4,  0,  0,  0,  0,  0,  0],\n",
              "       [ 0,  0,  4,  1, 50,  1,  0,  0,  0,  0,  0],\n",
              "       [ 0,  0,  1,  1,  1, 32,  0,  1,  0,  0,  0],\n",
              "       [ 0,  0,  0,  2,  0,  1, 23,  0,  0,  0,  0],\n",
              "       [ 0,  0,  1,  0,  1,  0,  0, 12,  0,  0,  0],\n",
              "       [ 0,  0,  0,  1,  1,  0,  0,  0,  5,  0,  0],\n",
              "       [ 0,  0,  0,  0,  0,  0,  0,  0,  0,  3,  0],\n",
              "       [ 0,  0,  0,  0,  4,  0,  0,  0,  0,  0,  4]])"
            ]
          },
          "metadata": {},
          "execution_count": 40
        }
      ]
    },
    {
      "cell_type": "code",
      "source": [
        "from sklearn.metrics import accuracy_score\n",
        "\n",
        "accuracy_score(val_labels, pred)"
      ],
      "metadata": {
        "colab": {
          "base_uri": "https://localhost:8080/"
        },
        "id": "d0G4q3PDofXA",
        "outputId": "de6fcbc1-5b84-41a6-e7f1-79848b330271"
      },
      "execution_count": null,
      "outputs": [
        {
          "output_type": "execute_result",
          "data": {
            "text/plain": [
              "0.864406779661017"
            ]
          },
          "metadata": {},
          "execution_count": 41
        }
      ]
    },
    {
      "cell_type": "code",
      "source": [
        "from sklearn.metrics import f1_score\n",
        "\n",
        "f1_score(val_labels, pred, average='weighted')"
      ],
      "metadata": {
        "colab": {
          "base_uri": "https://localhost:8080/"
        },
        "id": "Msk17Ub_ojwi",
        "outputId": "1177f468-4103-4959-85ac-3a351b2a47db"
      },
      "execution_count": null,
      "outputs": [
        {
          "output_type": "execute_result",
          "data": {
            "text/plain": [
              "0.8651822237435974"
            ]
          },
          "metadata": {},
          "execution_count": 42
        }
      ]
    },
    {
      "cell_type": "markdown",
      "source": [
        "# Final Test"
      ],
      "metadata": {
        "id": "HKDSW2ukHhMT"
      }
    },
    {
      "cell_type": "code",
      "source": [
        "pred_test = model.predict(test_scaled)\n",
        "\n",
        "confusion_matrix(test_labels, pred_test)"
      ],
      "metadata": {
        "colab": {
          "base_uri": "https://localhost:8080/"
        },
        "id": "aejW2zjF_AOD",
        "outputId": "418cd410-c3d2-494b-a4a0-bcdf06ba90ca"
      },
      "execution_count": null,
      "outputs": [
        {
          "output_type": "execute_result",
          "data": {
            "text/plain": [
              "array([[ 5,  0,  0,  0,  0,  0,  0,  0,  0,  0,  0],\n",
              "       [ 0, 21,  0,  1,  0,  0,  0,  1,  0,  0,  0],\n",
              "       [ 0,  1, 65,  0,  6,  1,  0,  1,  0,  0,  0],\n",
              "       [ 0,  0,  3, 77,  0,  0,  0,  0,  2,  0,  0],\n",
              "       [ 0,  0,  0,  0, 61,  1,  0,  0,  0,  0,  0],\n",
              "       [ 0,  1,  0,  1,  1, 37,  0,  0,  0,  0,  0],\n",
              "       [ 0,  0,  0,  1,  2,  0, 32,  0,  0,  0,  0],\n",
              "       [ 0,  0,  0,  0,  0,  1,  0, 11,  0,  0,  0],\n",
              "       [ 0,  0,  0,  0,  0,  0,  0,  0,  5,  0,  0],\n",
              "       [ 0,  0,  0,  0,  0,  0,  0,  0,  0,  5,  0],\n",
              "       [ 0,  0,  2,  0,  0,  0,  1,  0,  0,  0,  0]])"
            ]
          },
          "metadata": {},
          "execution_count": 43
        }
      ]
    },
    {
      "cell_type": "code",
      "source": [
        "accuracy_score(test_labels, pred_test)"
      ],
      "metadata": {
        "colab": {
          "base_uri": "https://localhost:8080/"
        },
        "id": "Ncy4TT3nHo6V",
        "outputId": "ab8a5f8e-71b6-4544-e0c0-49e577d60d22"
      },
      "execution_count": null,
      "outputs": [
        {
          "output_type": "execute_result",
          "data": {
            "text/plain": [
              "0.9219653179190751"
            ]
          },
          "metadata": {},
          "execution_count": 44
        }
      ]
    },
    {
      "cell_type": "code",
      "source": [
        "f1_score(test_labels, pred_test, average='weighted')"
      ],
      "metadata": {
        "colab": {
          "base_uri": "https://localhost:8080/"
        },
        "id": "r_iZUyL1OFIw",
        "outputId": "1912210b-4b95-47c9-ddc4-2b9efc64f6d6"
      },
      "execution_count": null,
      "outputs": [
        {
          "output_type": "execute_result",
          "data": {
            "text/plain": [
              "0.9182862609242526"
            ]
          },
          "metadata": {},
          "execution_count": 45
        }
      ]
    }
  ]
}